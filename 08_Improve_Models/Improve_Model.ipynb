{
 "cells": [
  {
   "cell_type": "markdown",
   "metadata": {},
   "source": [
    "<a id='toc'></a>\n",
    "# Improve the Model\n",
    "\n",
    "1. [Setting up the Environment](#envir)\n",
    "1. [Loading Training Set](#load)\n",
    "1. [Predictive Modelling Function](#function)\n",
    "1. [Principal Component Analysis](#pca)\n",
    "1. [Most Important Attributes from Random Forest](#important)\n",
    "1. [Creating New Ratio Attributes](#ratio)\n",
    "1. [Testing Performance with New Ratio Attributes](#ratio_test)\n",
    "    1. [Logistic Regression](#test_lr)\n",
    "    1. [Random Forest](#test_rf)\n",
    "    1. [AdaBoost](#test_ada)\n",
    "    1. [Summary of Results](#summary)\n",
    "    1. [Testing for Significant Difference in Results](#signif)\n",
    "1. [Building an Ensemble Voting Classifier Model](#ensemble)\n",
    "    1. [Ensemble - Soft Voting](#soft)\n",
    "    1. [Ensemble - Hard Voting](#hard)\n",
    "    1. [Summary Results with Ensemble Models](#ensemble_summary)"
   ]
  },
  {
   "cell_type": "markdown",
   "metadata": {},
   "source": [
    "<a id='envir'></a>\n",
    "# 1. Setting up the Environment\n",
    "\n",
    "[Return](#toc)"
   ]
  },
  {
   "cell_type": "code",
   "execution_count": 7,
   "metadata": {},
   "outputs": [],
   "source": [
    "import numpy as np\n",
    "import pandas as pd\n",
    "from numpy import nan as NaN\n",
    "from sklearn.model_selection import train_test_split\n",
    "from sklearn.linear_model import LogisticRegression\n",
    "from sklearn.metrics import roc_auc_score, roc_curve, auc, accuracy_score, confusion_matrix\n",
    "from sklearn.model_selection import KFold\n",
    "from sklearn.ensemble import RandomForestClassifier, AdaBoostClassifier\n",
    "from sklearn.tree import DecisionTreeClassifier\n",
    "from sklearn.decomposition import PCA\n",
    "import matplotlib.pyplot as plt\n",
    "import seaborn as sns\n",
    "from imblearn.under_sampling import RandomUnderSampler\n",
    "from imblearn.over_sampling import SMOTE\n",
    "#import os\n",
    "import warnings\n",
    "warnings.filterwarnings('ignore')\n",
    "pd.options.display.max_rows = 200\n",
    "pd.options.display.max_columns = 200\n",
    "#%matplotlib inline"
   ]
  },
  {
   "cell_type": "markdown",
   "metadata": {},
   "source": [
    "<a id='load'></a>\n",
    "# 2. Loading Training Set\n",
    "\n",
    "[Return](#toc)"
   ]
  },
  {
   "cell_type": "code",
   "execution_count": 2,
   "metadata": {},
   "outputs": [],
   "source": [
    "# Read in the data\n",
    "path = 'C:/Users/X/Documents/A_Documents/Cap_Data/CSV'\n",
    "train_set = pd.read_csv(path + '/train_test_sets/train_set_std.csv')\n",
    "train_labels = pd.read_csv(path + '/train_test_sets/train_labels.csv')"
   ]
  },
  {
   "cell_type": "code",
   "execution_count": 3,
   "metadata": {},
   "outputs": [
    {
     "data": {
      "text/plain": [
       "(215257, 259)"
      ]
     },
     "execution_count": 3,
     "metadata": {},
     "output_type": "execute_result"
    }
   ],
   "source": [
    "train_set.shape"
   ]
  },
  {
   "cell_type": "markdown",
   "metadata": {},
   "source": [
    "<a id='function'></a>\n",
    "# 3. Predictive Modelling Function\n",
    "\n",
    "[Return](#toc)"
   ]
  },
  {
   "cell_type": "code",
   "execution_count": 4,
   "metadata": {},
   "outputs": [],
   "source": [
    "# A function to perform cross validation \n",
    "# with three different choices of sampling method\n",
    "# The ROC curve plot has been commented out below. Not required here.\n",
    "\n",
    "def classify_folds(clr, train_x, train_y, sample_method, folds):\n",
    "    \n",
    "    # Lists to store metrics\n",
    "    aucs=[]\n",
    "    recall=[]\n",
    "    precision=[]\n",
    "    f1score=[]\n",
    "    accuracy=[]\n",
    "\n",
    "    # Create the random under & over samplers\n",
    "    rus = RandomUnderSampler(random_state=777)\n",
    "    smote = SMOTE(ratio='minority', random_state=777, n_jobs=-1)\n",
    "\n",
    "    # Create the folds\n",
    "    splits = KFold(n_splits=folds).split(train_x, train_y)\n",
    "\n",
    "    #fig = plt.figure(figsize=(8,6))\n",
    "    i=0\n",
    "    \n",
    "    # Iterate through the folds\n",
    "    for train_fold, test_fold in splits:\n",
    "        # Depending on choice of sampling method - execute sampling\n",
    "        if sample_method == 'under':\n",
    "            sampled_x, sampled_y = rus.fit_sample(train_x[train_fold], train_y[train_fold])\n",
    "        elif sample_method == 'over':\n",
    "            sampled_x, sampled_y = smote.fit_sample(train_x[train_fold], train_y[train_fold])\n",
    "        elif sample_method == 'none':\n",
    "            sampled_x, sampled_y = train_x[train_fold], train_y[train_fold]            \n",
    "        else:\n",
    "            print('Incorrect Sample Input')\n",
    "            return\n",
    "    \n",
    "        # Train the classifier on the sampled data\n",
    "        clr.fit(sampled_x, sampled_y)\n",
    "    \n",
    "        # Test the classifier on the test fold (which is not sampled and remains imbalanced)\n",
    "        probs = clr.predict_proba(train_x[test_fold])\n",
    "        predict = clr.predict(train_x[test_fold])\n",
    "        \n",
    "        # Return arrays containing the fpr (x-axis), tpr (y-axis) and thresholds\n",
    "        fpr, tpr, thresholds = roc_curve(train_y[test_fold], probs[:, 1])\n",
    "    \n",
    "        # Compute area under ROC curve\n",
    "        roc_auc = auc(fpr, tpr)\n",
    "    \n",
    "        # Plot ROC curve\n",
    "        #plt.plot(fpr, tpr, lw=1, alpha=0.8, label='Fold %d (AUC = %0.2f)' % (i, roc_auc))\n",
    "    \n",
    "        # Generate confusion matrix, compute measures and store\n",
    "        matrix = confusion_matrix(train_y[test_fold], predict)\n",
    "        TP = matrix[1,1]\n",
    "        TN = matrix[0,0]\n",
    "        FP = matrix[0,1]\n",
    "        FN = matrix[1,0]\n",
    "        rec = TP/(TP+FN)\n",
    "        prec = TP/(TP+FP)\n",
    "        f1 = 2*prec*rec/(prec+rec)\n",
    "        acc = (TP+TN) /(TP+TN+FP+FN)\n",
    "    \n",
    "        aucs.append(roc_auc)\n",
    "        recall.append(rec)\n",
    "        precision.append(prec)\n",
    "        f1score.append(f1)\n",
    "        accuracy.append(acc)\n",
    "        print(i,end=\"\")\n",
    "        i += 1\n",
    "    \n",
    "    #plt.plot([0, 1], [0, 1], linestyle='--', lw=2, color='r', label='Chance', alpha=.8)\n",
    "    #plt.xlabel('False Positive Rate', fontsize=15)\n",
    "    #plt.ylabel('True Positive Rate', fontsize=15)\n",
    "    #plt.title('ROC Curves', fontsize=15)\n",
    "    #plt.legend(loc='lower right'); \n",
    "\n",
    "    # Dataframes to return results\n",
    "    matrix = pd.DataFrame(matrix)\n",
    "    matrix.index.name = 'Actual'; matrix.columns.name = 'Predicted'\n",
    "    results = pd.DataFrame({'ROC_AUC':aucs, 'Recall':recall, 'Precision':precision, 'F1-Score':f1score, 'Accuracy':accuracy})\n",
    "    mean = results.mean(); mean.name = 'Mean'\n",
    "    #return results.append(mean), fig, matrix\n",
    "    return results.append(mean), matrix"
   ]
  },
  {
   "cell_type": "markdown",
   "metadata": {},
   "source": [
    "<a id='pca'></a>\n",
    "# 4. Principal Component Analysis\n",
    "Let's examine if PCA can help our model.\n",
    "\n",
    "[Return](#toc)"
   ]
  },
  {
   "cell_type": "code",
   "execution_count": 5,
   "metadata": {},
   "outputs": [],
   "source": [
    "pca=PCA()\n",
    "train_pca = pca.fit_transform(train_set)"
   ]
  },
  {
   "cell_type": "code",
   "execution_count": 6,
   "metadata": {},
   "outputs": [
    {
     "data": {
      "image/png": "[encoded data removed]",
      "text/plain": [
       "<Figure size 576x288 with 1 Axes>"
      ]
     },
     "metadata": {
      "needs_background": "light"
     },
     "output_type": "display_data"
    }
   ],
   "source": [
    "# Plot the cumulative variance explained\n",
    "plt.figure(figsize = (8, 4))\n",
    "plt.plot(list(range(train_pca.shape[1])), np.cumsum(pca.explained_variance_ratio_), 'r-')\n",
    "plt.xlabel('Number of Principal Components')\n",
    "plt.ylabel('Cumulative Variance Explained')\n",
    "plt.title('Cumulative Variance');"
   ]
  },
  {
   "cell_type": "markdown",
   "metadata": {},
   "source": [
    "It would seem that PCA is unlikely to help. Pretty much all PCs are still required to explain the majority of the variance.\n",
    "\n",
    "Based on the chart above, about 175 PCs will give most of the variance. Let's train Random Forest on only 175 PCs."
   ]
  },
  {
   "cell_type": "code",
   "execution_count": 7,
   "metadata": {},
   "outputs": [
    {
     "name": "stdout",
     "output_type": "stream",
     "text": [
      "0123456789\n",
      "Confusion matrix from last fold:\n",
      "\n",
      "Predicted      0     1\n",
      "Actual                \n",
      "0          13040  6741\n",
      "1            631  1113\n",
      "\n",
      "Cross validation results\n",
      "\n",
      "       ROC_AUC    Recall  Precision  F1-Score  Accuracy\n",
      "0     0.711207  0.648180   0.143736  0.235294  0.661200\n",
      "1     0.717320  0.670540   0.147835  0.242259  0.664638\n",
      "2     0.716176  0.659065   0.149373  0.243548  0.666403\n",
      "3     0.734660  0.675454   0.151114  0.246974  0.673372\n",
      "4     0.705716  0.642369   0.142749  0.233589  0.656137\n",
      "5     0.716283  0.640024   0.143179  0.234008  0.671235\n",
      "6     0.708912  0.641615   0.150309  0.243560  0.669888\n",
      "7     0.717894  0.650589   0.148890  0.242323  0.662997\n",
      "8     0.712290  0.651258   0.145092  0.237313  0.667642\n",
      "9     0.703083  0.638188   0.141711  0.231923  0.657515\n",
      "Mean  0.714354  0.651728   0.146399  0.239079  0.665103\n"
     ]
    }
   ],
   "source": [
    "# Can PCA improve Random Forest? Training on the first 175 PCs only\n",
    "clr = RandomForestClassifier(max_depth=10, max_features=32, min_samples_leaf=10, n_estimators=500, n_jobs=-1, random_state=777)\n",
    "metrics, matrix = classify_folds(clr, np.array(train_pca[:,0:174]), np.array(train_labels), 'under', 10)\n",
    "\n",
    "print('\\nConfusion matrix from last fold:\\n'); print(matrix)\n",
    "print('\\nCross validation results\\n'); print(metrics)"
   ]
  },
  {
   "cell_type": "markdown",
   "metadata": {},
   "source": [
    "PCA is not helping here. Pretty much all PCs are still required to explain the majority of variance and results from the Random Forest model are slightly worse compared to using the full native attribute set."
   ]
  },
  {
   "cell_type": "markdown",
   "metadata": {},
   "source": [
    "<a id='important'></a>\n",
    "# 5. Most Important Attributes from Random Forest\n",
    "\n",
    "[Return](#toc)"
   ]
  },
  {
   "cell_type": "code",
   "execution_count": 10,
   "metadata": {},
   "outputs": [
    {
     "name": "stdout",
     "output_type": "stream",
     "text": [
      "0123456789\n",
      "Confusion matrix from last fold:\n",
      "\n",
      "Predicted      0     1\n",
      "Actual                \n",
      "0          13470  6311\n",
      "1            579  1165\n",
      "\n",
      "Cross validation results\n",
      "\n",
      "       ROC_AUC    Recall  Precision  F1-Score  Accuracy\n",
      "0     0.740336  0.668400   0.154370  0.250813  0.678900\n",
      "1     0.746974  0.672284   0.156775  0.254258  0.684707\n",
      "2     0.741800  0.668187   0.161144  0.259665  0.689538\n",
      "3     0.757511  0.704159   0.160889  0.261931  0.685311\n",
      "4     0.746742  0.687358   0.159910  0.259458  0.679922\n",
      "5     0.750831  0.686205   0.159994  0.259487  0.692697\n",
      "6     0.744032  0.687605   0.160261  0.259939  0.675695\n",
      "7     0.744544  0.693775   0.162336  0.263108  0.678095\n",
      "8     0.745513  0.685781   0.159217  0.258434  0.687526\n",
      "9     0.731389  0.668005   0.155832  0.252711  0.679907\n",
      "Mean  0.744967  0.682176   0.159073  0.257980  0.683230\n"
     ]
    }
   ],
   "source": [
    "# Training Random Forest on the full native attribute set to determine most \n",
    "# important attributes\n",
    "clr = RandomForestClassifier(max_depth=10, max_features=32, min_samples_leaf=10, n_estimators=500, n_jobs=-1, random_state=777)\n",
    "metrics, matrix = classify_folds(clr, np.array(train_set), np.array(train_labels), 'under', 10)\n",
    "\n",
    "print('\\nConfusion matrix from last fold:\\n'); print(matrix)\n",
    "print('\\nCross validation results\\n'); print(metrics)"
   ]
  },
  {
   "cell_type": "code",
   "execution_count": 11,
   "metadata": {
    "scrolled": false
   },
   "outputs": [
    {
     "name": "stdout",
     "output_type": "stream",
     "text": [
      "Top 20 most important features from Random Forest model:\n"
     ]
    },
    {
     "data": {
      "text/plain": [
       "EXT_SOURCE_2                            0.162869\n",
       "EXT_SOURCE_3                            0.155664\n",
       "EXT_SOURCE_1                            0.055128\n",
       "DAYS_EMPLOYED                           0.044076\n",
       "DAYS_BIRTH                              0.031478\n",
       "bureau_DAYS_CREDIT_mean                 0.027910\n",
       "bureau_DAYS_CREDIT_max                  0.024136\n",
       "DAYS_LAST_PHONE_CHANGE                  0.021247\n",
       "AMT_GOODS_PRICE                         0.020120\n",
       "bureau_CREDIT_ACTIVE_Closed_fraction    0.019355\n",
       "bureau_DAYS_CREDIT_UPDATE_mean          0.018874\n",
       "bureau_AMT_CREDIT_SUM_mean              0.014329\n",
       "DAYS_ID_PUBLISH                         0.014295\n",
       "bureau_AMT_CREDIT_SUM_DEBT_mean         0.014238\n",
       "AMT_ANNUITY                             0.013910\n",
       "NAME_EDUCATION_TYPE_Higher education    0.013636\n",
       "bureau_DAYS_CREDIT_min                  0.013552\n",
       "DAYS_REGISTRATION                       0.012374\n",
       "bureau_AMT_CREDIT_SUM_max               0.012193\n",
       "bureau_DAYS_CREDIT_UPDATE_min           0.010779\n",
       "dtype: float64"
      ]
     },
     "execution_count": 11,
     "metadata": {},
     "output_type": "execute_result"
    }
   ],
   "source": [
    "RF_importances = pd.Series(clr.feature_importances_)\n",
    "RF_importances.index = train_set.columns\n",
    "important_summary = RF_importances.sort_values(ascending=False)[0:20]\n",
    "print('Top 20 most important features from Random Forest model:')\n",
    "important_summary"
   ]
  },
  {
   "cell_type": "code",
   "execution_count": 12,
   "metadata": {
    "scrolled": false
   },
   "outputs": [
    {
     "data": {
      "image/png": "[encoded data removed]",
      "text/plain": [
       "<Figure size 864x576 with 1 Axes>"
      ]
     },
     "metadata": {
      "needs_background": "light"
     },
     "output_type": "display_data"
    }
   ],
   "source": [
    "important_summary = important_summary.sort_values()\n",
    "important_summary.plot(kind='barh', figsize=(12,8))\n",
    "plt.title('Feature Importance from Random Forest', fontsize = 15);"
   ]
  },
  {
   "cell_type": "markdown",
   "metadata": {},
   "source": [
    "The external credit agency scores appear to be the most important features by quite a large margin. Perhaps not surprising. It's interesting to note that nine of our engineered features appear in the top 20."
   ]
  },
  {
   "cell_type": "markdown",
   "metadata": {},
   "source": [
    "## Training Random Forest with Top 20 Important Attributes "
   ]
  },
  {
   "cell_type": "code",
   "execution_count": 13,
   "metadata": {},
   "outputs": [
    {
     "name": "stdout",
     "output_type": "stream",
     "text": [
      "0123456789\n",
      "Random Forest with top 20 important features only\n",
      "\n",
      "Confusion matrix from last fold:\n",
      "\n",
      "Predicted      0     1\n",
      "Actual                \n",
      "0          13271  6510\n",
      "1            576  1168\n",
      "\n",
      "Cross validation results\n",
      "\n",
      "       ROC_AUC    Recall  Precision  F1-Score  Accuracy\n",
      "0     0.730740  0.652224   0.152650  0.247398  0.680898\n",
      "1     0.736273  0.662987   0.152438  0.247882  0.678342\n",
      "2     0.727922  0.660775   0.154143  0.249973  0.676902\n",
      "3     0.745016  0.683070   0.156573  0.254752  0.683081\n",
      "4     0.742975  0.690774   0.157165  0.256069  0.672582\n",
      "5     0.742851  0.665483   0.154992  0.251426  0.689074\n",
      "6     0.737392  0.669658   0.157749  0.255346  0.676484\n",
      "7     0.736727  0.669658   0.159179  0.257217  0.679628\n",
      "8     0.738397  0.684611   0.157810  0.256495  0.684878\n",
      "9     0.723109  0.669725   0.152123  0.247930  0.670801\n",
      "Mean  0.736140  0.670896   0.155482  0.252449  0.679267\n"
     ]
    }
   ],
   "source": [
    "important_summary = RF_importances.sort_values(ascending=False)[0:20]\n",
    "#clr = AdaBoostClassifier(DecisionTreeClassifier(max_depth=1), learning_rate = 1, n_estimators=300, random_state=777)\n",
    "clr = RandomForestClassifier(max_depth=10, max_features=None, min_samples_leaf=10, n_estimators=500, n_jobs=-1, random_state=777)\n",
    "\n",
    "# N.B. max_features below is set to 'None' rather than 32 because we're only using 20 attributes\n",
    "metrics, matrix = classify_folds(clr, np.array(train_set[list(important_summary.index)]), np.array(train_labels), 'under', 10)\n",
    "\n",
    "print('\\nRandom Forest with top 20 important features only')\n",
    "print('\\nConfusion matrix from last fold:\\n'); print(matrix)\n",
    "print('\\nCross validation results\\n'); print(metrics)"
   ]
  },
  {
   "cell_type": "markdown",
   "metadata": {},
   "source": [
    "Results are only slightly worse when using just the top 20 important attributes. Interestingly, run time is actually longer - not sure why this should be? In any case, managing 20 attributes would be significantly less work than managing 259 with no real drop in performance of the model."
   ]
  },
  {
   "cell_type": "markdown",
   "metadata": {},
   "source": [
    "<a id='ratio'></a>\n",
    "# 6. Creating New Ratio Attributes\n",
    "Here we will create some new attributes based on ratios of original attributes. The ratios chosen attempt to extract new relevant information to help in predicting defaulting applicants.\n",
    "\n",
    "[Return](#toc)"
   ]
  },
  {
   "cell_type": "code",
   "execution_count": 17,
   "metadata": {},
   "outputs": [
    {
     "name": "stdout",
     "output_type": "stream",
     "text": [
      "Shape of df(307511, 191)\n"
     ]
    }
   ],
   "source": [
    "# Reading in the original raw data after initial processing \n",
    "# and adding the engineered bureau attributes\n",
    "path = 'C:/Users/X/Documents/A_Documents/Cap_Data/CSV'\n",
    "df = pd.read_csv(path + '/app_with_features/app_features.csv')\n",
    "print('Shape of df' + str(df.shape))"
   ]
  },
  {
   "cell_type": "code",
   "execution_count": 18,
   "metadata": {},
   "outputs": [],
   "source": [
    "# Ratios from app data\n",
    "df['n_EXT_123'] = df[['EXT_SOURCE_1','EXT_SOURCE_2','EXT_SOURCE_3']].mean(axis=1)\n",
    "df['n_EXT_12'] = df[['EXT_SOURCE_1','EXT_SOURCE_2']].mean(axis=1)\n",
    "df['n_EXT_13'] = df[['EXT_SOURCE_1','EXT_SOURCE_3']].mean(axis=1)\n",
    "df['n_EXT_23'] = df[['EXT_SOURCE_2','EXT_SOURCE_3']].mean(axis=1)\n",
    "df['n_CREDIT_TO_ANNUITY_RATIO'] = df['AMT_CREDIT'] / df['AMT_ANNUITY']\n",
    "df['n_CREDIT_TO_GOODS_RATIO'] = df['AMT_CREDIT'] / df['AMT_GOODS_PRICE']\n",
    "df['n_ANNUITY_TO_INCOME_RATIO'] = df['AMT_ANNUITY'] / df['AMT_INCOME_TOTAL']\n",
    "df['n_CREDIT_TO_INCOME_RATIO'] = df['AMT_CREDIT'] / df['AMT_INCOME_TOTAL']\n",
    "df['n_INCOME_TO_EMPLOYED_RATIO'] = df['AMT_INCOME_TOTAL'] / df['DAYS_EMPLOYED']\n",
    "df['n_INCOME_TO_BIRTH_RATIO'] = df['AMT_INCOME_TOTAL'] / df['DAYS_BIRTH']\n",
    "df['n_EMPLOYED_TO_BIRTH_RATIO'] = df['DAYS_EMPLOYED'] / df['DAYS_BIRTH']\n",
    "df['n_ID_TO_BIRTH_RATIO'] = df['DAYS_ID_PUBLISH'] / df['DAYS_BIRTH']\n",
    "df['n_CAR_TO_BIRTH_RATIO'] = df['OWN_CAR_AGE'] / df['DAYS_BIRTH']\n",
    "df['n_CAR_TO_EMPLOYED_RATIO'] = df['OWN_CAR_AGE'] / df['DAYS_EMPLOYED']\n",
    "df['n_PHONE_TO_BIRTH_RATIO'] = df['DAYS_LAST_PHONE_CHANGE'] / df['DAYS_BIRTH']"
   ]
  },
  {
   "cell_type": "code",
   "execution_count": 20,
   "metadata": {},
   "outputs": [],
   "source": [
    "# Ratios from bureau data\n",
    "df['n_b_AMT_CREDIT_SUM_mean_to_INCOME'] = df['bureau_AMT_CREDIT_SUM_mean']/df['AMT_INCOME_TOTAL']\n",
    "df['n_b_CREDIT_ACTIVE_Active_count_to_INCOME'] = df['bureau_CREDIT_ACTIVE_Active_count']/df['AMT_INCOME_TOTAL']\n",
    "df['n_b_CREDIT_ACTIVE_Active_count_to_BIRTH'] = df['bureau_CREDIT_ACTIVE_Active_count']/df['DAYS_BIRTH']\n",
    "df['n_b_CREDIT_ACTIVE_Active_fraction_to_INCOME'] = df['bureau_CREDIT_ACTIVE_Active_fraction']/df['AMT_INCOME_TOTAL']\n",
    "df['n_b_CREDIT_ACTIVE_Active_fraction_to_BIRTH'] = df['bureau_CREDIT_ACTIVE_Active_fraction']/df['DAYS_BIRTH']\n",
    "df['n_b_DAYS_CREDIT_mean_to_BIRTH'] = df['bureau_DAYS_CREDIT_mean']/df['DAYS_BIRTH']\n",
    "df['n_b_DAYS_CREDIT_mean_to_EMPLOYED'] = df['bureau_DAYS_CREDIT_mean']/df['DAYS_EMPLOYED']"
   ]
  },
  {
   "cell_type": "code",
   "execution_count": 21,
   "metadata": {},
   "outputs": [
    {
     "data": {
      "text/plain": [
       "(307511, 213)"
      ]
     },
     "execution_count": 21,
     "metadata": {},
     "output_type": "execute_result"
    }
   ],
   "source": [
    "# new shape of the data\n",
    "# 22 new attributes have been added\n",
    "df.shape"
   ]
  },
  {
   "cell_type": "code",
   "execution_count": null,
   "metadata": {},
   "outputs": [],
   "source": [
    "# Saving the dataframe with the new attributes to CSV file\n",
    "# This file will now need to be run through the correlation analysis\n",
    "# and test/train file creation\n",
    "#df.to_csv(path + '/app_with_features/app_features_extra.csv', index=False)"
   ]
  },
  {
   "cell_type": "markdown",
   "metadata": {},
   "source": [
    "<a id='ratio_test'></a>\n",
    "# 7. Testing Performance with New Ratio Attributes\n",
    "\n",
    "[Return](#toc)"
   ]
  },
  {
   "cell_type": "code",
   "execution_count": 8,
   "metadata": {},
   "outputs": [],
   "source": [
    "# Reading in the data with the new ratio attributes after correlation \n",
    "# analysis and train/test creation\n",
    "path = 'C:/Users/X/Documents/A_Documents/Cap_Data/CSV'\n",
    "train_set = pd.read_csv(path + '/train_test_sets/train_set_std_extras.csv')\n",
    "train_labels = pd.read_csv(path + '/train_test_sets/train_labels_extras.csv')"
   ]
  },
  {
   "cell_type": "code",
   "execution_count": 9,
   "metadata": {},
   "outputs": [
    {
     "data": {
      "text/plain": [
       "(215257, 275)"
      ]
     },
     "execution_count": 9,
     "metadata": {},
     "output_type": "execute_result"
    }
   ],
   "source": [
    "train_set.shape"
   ]
  },
  {
   "cell_type": "markdown",
   "metadata": {},
   "source": [
    "<a id='test_lr'></a>\n",
    "## A. Logistic Regression\n",
    "\n",
    "[Return](#toc)"
   ]
  },
  {
   "cell_type": "code",
   "execution_count": 30,
   "metadata": {},
   "outputs": [
    {
     "name": "stdout",
     "output_type": "stream",
     "text": [
      "0123456789\n",
      "Results from data with new ratio attributes:\n",
      "\n",
      "Confusion matrix from last fold:\n",
      "\n",
      "Predicted      0     1\n",
      "Actual                \n",
      "0          11926  7855\n",
      "1            504  1240\n",
      "\n",
      "Cross validation results\n",
      "\n",
      "       ROC_AUC    Recall  Precision  F1-Score  Accuracy\n",
      "0     0.717854  0.716927   0.135970  0.228587  0.610889\n",
      "1     0.724595  0.721092   0.136434  0.229454  0.612794\n",
      "2     0.719391  0.717218   0.139592  0.233699  0.616743\n",
      "3     0.731961  0.739895   0.137988  0.232597  0.612840\n",
      "4     0.729840  0.731777   0.139371  0.234147  0.609495\n",
      "5     0.730794  0.725281   0.135704  0.228630  0.615999\n",
      "6     0.728327  0.729669   0.142139  0.237930  0.612840\n",
      "7     0.726683  0.730230   0.142140  0.237960  0.612590\n",
      "8     0.729675  0.730252   0.138053  0.232208  0.616585\n",
      "9     0.712678  0.711009   0.136339  0.228803  0.611661\n",
      "Mean  0.725180  0.725335   0.138373  0.232401  0.613244\n"
     ]
    }
   ],
   "source": [
    "# Training Logistic Regression on the new data with ratio attributes\n",
    "clr = LogisticRegression(C=0.001, penalty='l1')\n",
    "\n",
    "metrics, matrix = classify_folds(clr, np.array(train_set), np.array(train_labels), 'under', 10)\n",
    "\n",
    "print('\\nResults from data with new ratio attributes:')\n",
    "print('\\nConfusion matrix from last fold:\\n'); print(matrix)\n",
    "print('\\nCross validation results\\n'); print(metrics)\n",
    "\n",
    "# saving results\n",
    "metrics.to_csv(path+'/results/LR_extras.csv')"
   ]
  },
  {
   "cell_type": "markdown",
   "metadata": {},
   "source": [
    "<a id='test_rf'></a>\n",
    "## B. Random Forest\n",
    "\n",
    "[Return](#toc)"
   ]
  },
  {
   "cell_type": "code",
   "execution_count": 31,
   "metadata": {},
   "outputs": [
    {
     "name": "stdout",
     "output_type": "stream",
     "text": [
      "0123456789\n",
      "Results from data with new ratio attributes:\n",
      "\n",
      "Confusion matrix from last fold:\n",
      "\n",
      "Predicted      0     1\n",
      "Actual                \n",
      "0          13662  6119\n",
      "1            597  1147\n",
      "\n",
      "Cross validation results\n",
      "\n",
      "       ROC_AUC    Recall  Precision  F1-Score  Accuracy\n",
      "0     0.743479  0.675332   0.159373  0.257887  0.687448\n",
      "1     0.749540  0.665892   0.157396  0.254610  0.688284\n",
      "2     0.743745  0.664766   0.160341  0.258365  0.689027\n",
      "3     0.760190  0.698301   0.164664  0.266488  0.695159\n",
      "4     0.750257  0.686788   0.164462  0.265376  0.689817\n",
      "5     0.755301  0.677324   0.162293  0.261845  0.700362\n",
      "6     0.749648  0.676388   0.164844  0.265084  0.689352\n",
      "7     0.748159  0.678071   0.163977  0.264089  0.686969\n",
      "8     0.749881  0.681685   0.161738  0.261445  0.694216\n",
      "9     0.735180  0.657683   0.157859  0.254606  0.687991\n",
      "Mean  0.748538  0.676223   0.161695  0.260979  0.690863\n"
     ]
    }
   ],
   "source": [
    "# Training Random Forest on the new data with ratio attributes\n",
    "clr = RandomForestClassifier(max_depth=10, max_features=32, min_samples_leaf=10, n_estimators=500, n_jobs=-1, random_state=777)\n",
    "metrics, matrix = classify_folds(clr, np.array(train_set), np.array(train_labels), 'under', 10)\n",
    "\n",
    "print('\\nResults from data with new ratio attributes:')\n",
    "print('\\nConfusion matrix from last fold:\\n'); print(matrix)\n",
    "print('\\nCross validation results\\n'); print(metrics)\n",
    "\n",
    "# saving results\n",
    "metrics.to_csv(path+'/results/RF_extras.csv')"
   ]
  },
  {
   "cell_type": "markdown",
   "metadata": {},
   "source": [
    "<a id='test_ada'></a>\n",
    "## C. AdaBoost\n",
    "\n",
    "[Return](#toc)"
   ]
  },
  {
   "cell_type": "code",
   "execution_count": 32,
   "metadata": {},
   "outputs": [
    {
     "name": "stdout",
     "output_type": "stream",
     "text": [
      "0123456789Results from data with new ratio attributes:\n",
      "\n",
      "Confusion matrix from last fold:\n",
      "\n",
      "Predicted      0     1\n",
      "Actual                \n",
      "0          13875  5906\n",
      "1            565  1179\n",
      "\n",
      "Cross validation results\n",
      "\n",
      "       ROC_AUC    Recall  Precision  F1-Score  Accuracy\n",
      "0     0.749100  0.678221   0.161352  0.260686  0.690653\n",
      "1     0.757913  0.686810   0.164831  0.265857  0.696739\n",
      "2     0.753053  0.674458   0.167090  0.267829  0.699526\n",
      "3     0.768755  0.700059   0.169937  0.273487  0.705054\n",
      "4     0.760138  0.683941   0.167177  0.268680  0.696274\n",
      "5     0.755629  0.674364   0.161974  0.261209  0.700688\n",
      "6     0.756021  0.688727   0.171413  0.274505  0.698458\n",
      "7     0.755910  0.691531   0.168974  0.271586  0.692729\n",
      "8     0.760200  0.682270   0.165109  0.265876  0.700859\n",
      "9     0.746550  0.676032   0.166408  0.267074  0.699373\n",
      "Mean  0.756327  0.683641   0.166426  0.267679  0.698035\n"
     ]
    }
   ],
   "source": [
    "# Training AdaBoost on the new data with ratio attributes\n",
    "clr = AdaBoostClassifier(DecisionTreeClassifier(max_depth=1), learning_rate = 1, n_estimators=300, random_state=777)\n",
    "metrics, matrix = classify_folds(clr, np.array(train_set), np.array(train_labels), 'under', 10)\n",
    "\n",
    "print('Results from data with new ratio attributes:')\n",
    "print('\\nConfusion matrix from last fold:\\n'); print(matrix)\n",
    "print('\\nCross validation results\\n'); print(metrics)\n",
    "\n",
    "# saving results\n",
    "metrics.to_csv(path+'/results/ADA_extras.csv')"
   ]
  },
  {
   "cell_type": "markdown",
   "metadata": {},
   "source": [
    "<a id='summary'></a>\n",
    "## D. Summary of Results\n",
    "\n",
    "[Return](#toc)"
   ]
  },
  {
   "cell_type": "code",
   "execution_count": 27,
   "metadata": {},
   "outputs": [],
   "source": [
    "# Read in the original results before the ratio attributes were added\n",
    "tuned_summary = pd.read_csv(path+'/results/tuned_summary.csv',index_col=0)\n",
    "tuned_summary.insert(loc=0, column='Ratio_Attributes', value='No')"
   ]
  },
  {
   "cell_type": "code",
   "execution_count": 25,
   "metadata": {},
   "outputs": [],
   "source": [
    "# Creating a summary dataframe from saved ratio test results\n",
    "ratio_summary = pd.read_csv(path + '/results/LR_extras.csv', index_col=0).loc[['Mean'],:]\n",
    "ratio_summary = ratio_summary.append(pd.read_csv(path + '/results/RF_extras.csv', index_col=0).loc[['Mean'],:])\n",
    "ratio_summary = ratio_summary.append(pd.read_csv(path + '/results/ADA_extras.csv', index_col=0).loc[['Mean'],:])\n",
    "ratio_summary.index=['Logistic Regression', 'Random Forest', 'AdaBoost']\n",
    "ratio_summary.insert(loc=0, column='Ratio_Attributes', value='Yes')\n",
    "# Saving ratio summary\n",
    "ratio_summary.to_csv(path+'/results/ratio_summary.csv')"
   ]
  },
  {
   "cell_type": "code",
   "execution_count": 28,
   "metadata": {},
   "outputs": [],
   "source": [
    "# Creating a final summary dataframe with all results and saving\n",
    "final_summary = ratio_summary.append(tuned_summary).sort_index()\n",
    "# Saving final summary\n",
    "final_summary.to_csv(path+'/results/final_summary.csv')"
   ]
  },
  {
   "cell_type": "code",
   "execution_count": 30,
   "metadata": {},
   "outputs": [
    {
     "name": "stdout",
     "output_type": "stream",
     "text": [
      "Summary of results with and without Ratio Attributes:\n"
     ]
    },
    {
     "data": {
      "text/html": [
       "<div>\n",
       "<style scoped>\n",
       "    .dataframe tbody tr th:only-of-type {\n",
       "        vertical-align: middle;\n",
       "    }\n",
       "\n",
       "    .dataframe tbody tr th {\n",
       "        vertical-align: top;\n",
       "    }\n",
       "\n",
       "    .dataframe thead th {\n",
       "        text-align: right;\n",
       "    }\n",
       "</style>\n",
       "<table border=\"1\" class=\"dataframe\">\n",
       "  <thead>\n",
       "    <tr style=\"text-align: right;\">\n",
       "      <th></th>\n",
       "      <th>Ratio_Attributes</th>\n",
       "      <th>ROC_AUC</th>\n",
       "      <th>Recall</th>\n",
       "      <th>Precision</th>\n",
       "      <th>F1-Score</th>\n",
       "      <th>Accuracy</th>\n",
       "    </tr>\n",
       "  </thead>\n",
       "  <tbody>\n",
       "    <tr>\n",
       "      <th>AdaBoost</th>\n",
       "      <td>Yes</td>\n",
       "      <td>0.756327</td>\n",
       "      <td>0.683641</td>\n",
       "      <td>0.166426</td>\n",
       "      <td>0.267679</td>\n",
       "      <td>0.698035</td>\n",
       "    </tr>\n",
       "    <tr>\n",
       "      <th>AdaBoost</th>\n",
       "      <td>No</td>\n",
       "      <td>0.750388</td>\n",
       "      <td>0.679599</td>\n",
       "      <td>0.163093</td>\n",
       "      <td>0.263047</td>\n",
       "      <td>0.692637</td>\n",
       "    </tr>\n",
       "    <tr>\n",
       "      <th>Logistic Regression</th>\n",
       "      <td>Yes</td>\n",
       "      <td>0.725180</td>\n",
       "      <td>0.725335</td>\n",
       "      <td>0.138373</td>\n",
       "      <td>0.232401</td>\n",
       "      <td>0.613244</td>\n",
       "    </tr>\n",
       "    <tr>\n",
       "      <th>Logistic Regression</th>\n",
       "      <td>No</td>\n",
       "      <td>0.721779</td>\n",
       "      <td>0.725579</td>\n",
       "      <td>0.135938</td>\n",
       "      <td>0.228970</td>\n",
       "      <td>0.605565</td>\n",
       "    </tr>\n",
       "    <tr>\n",
       "      <th>Random Forest</th>\n",
       "      <td>Yes</td>\n",
       "      <td>0.748538</td>\n",
       "      <td>0.676223</td>\n",
       "      <td>0.161695</td>\n",
       "      <td>0.260979</td>\n",
       "      <td>0.690863</td>\n",
       "    </tr>\n",
       "    <tr>\n",
       "      <th>Random Forest</th>\n",
       "      <td>No</td>\n",
       "      <td>0.744967</td>\n",
       "      <td>0.682176</td>\n",
       "      <td>0.159073</td>\n",
       "      <td>0.257980</td>\n",
       "      <td>0.683230</td>\n",
       "    </tr>\n",
       "  </tbody>\n",
       "</table>\n",
       "</div>"
      ],
      "text/plain": [
       "                    Ratio_Attributes   ROC_AUC    Recall  Precision  F1-Score  \\\n",
       "AdaBoost                         Yes  0.756327  0.683641   0.166426  0.267679   \n",
       "AdaBoost                          No  0.750388  0.679599   0.163093  0.263047   \n",
       "Logistic Regression              Yes  0.725180  0.725335   0.138373  0.232401   \n",
       "Logistic Regression               No  0.721779  0.725579   0.135938  0.228970   \n",
       "Random Forest                    Yes  0.748538  0.676223   0.161695  0.260979   \n",
       "Random Forest                     No  0.744967  0.682176   0.159073  0.257980   \n",
       "\n",
       "                     Accuracy  \n",
       "AdaBoost             0.698035  \n",
       "AdaBoost             0.692637  \n",
       "Logistic Regression  0.613244  \n",
       "Logistic Regression  0.605565  \n",
       "Random Forest        0.690863  \n",
       "Random Forest        0.683230  "
      ]
     },
     "execution_count": 30,
     "metadata": {},
     "output_type": "execute_result"
    }
   ],
   "source": [
    "print('Summary of results with and without Ratio Attributes:')\n",
    "final_summary"
   ]
  },
  {
   "cell_type": "markdown",
   "metadata": {},
   "source": [
    "Logistic Regression and Random Forest saw improvements in all metrics except Recall where there was a small drop. In particular, both models saw improvements in the F1-Score and ROC_AUC.\n",
    "\n",
    "AdaBoost saw improvements in all metrics and has the highest ROC_AUC and F1-Score among the three models."
   ]
  },
  {
   "cell_type": "code",
   "execution_count": 6,
   "metadata": {},
   "outputs": [
    {
     "data": {
      "text/html": [
       "<div>\n",
       "<style scoped>\n",
       "    .dataframe tbody tr th:only-of-type {\n",
       "        vertical-align: middle;\n",
       "    }\n",
       "\n",
       "    .dataframe tbody tr th {\n",
       "        vertical-align: top;\n",
       "    }\n",
       "\n",
       "    .dataframe thead th {\n",
       "        text-align: right;\n",
       "    }\n",
       "</style>\n",
       "<table border=\"1\" class=\"dataframe\">\n",
       "  <thead>\n",
       "    <tr style=\"text-align: right;\">\n",
       "      <th></th>\n",
       "      <th>Ratio_Attributes</th>\n",
       "      <th>ROC_AUC</th>\n",
       "      <th>Recall</th>\n",
       "      <th>Precision</th>\n",
       "      <th>F1-Score</th>\n",
       "      <th>Accuracy</th>\n",
       "    </tr>\n",
       "  </thead>\n",
       "  <tbody>\n",
       "    <tr>\n",
       "      <th>Logistic Regression</th>\n",
       "      <td>Yes</td>\n",
       "      <td>0.725180</td>\n",
       "      <td>0.725335</td>\n",
       "      <td>0.138373</td>\n",
       "      <td>0.232401</td>\n",
       "      <td>0.613244</td>\n",
       "    </tr>\n",
       "    <tr>\n",
       "      <th>Random Forest</th>\n",
       "      <td>Yes</td>\n",
       "      <td>0.748538</td>\n",
       "      <td>0.676223</td>\n",
       "      <td>0.161695</td>\n",
       "      <td>0.260979</td>\n",
       "      <td>0.690863</td>\n",
       "    </tr>\n",
       "    <tr>\n",
       "      <th>AdaBoost</th>\n",
       "      <td>Yes</td>\n",
       "      <td>0.756327</td>\n",
       "      <td>0.683641</td>\n",
       "      <td>0.166426</td>\n",
       "      <td>0.267679</td>\n",
       "      <td>0.698035</td>\n",
       "    </tr>\n",
       "  </tbody>\n",
       "</table>\n",
       "</div>"
      ],
      "text/plain": [
       "                    Ratio_Attributes   ROC_AUC    Recall  Precision  F1-Score  \\\n",
       "Logistic Regression              Yes  0.725180  0.725335   0.138373  0.232401   \n",
       "Random Forest                    Yes  0.748538  0.676223   0.161695  0.260979   \n",
       "AdaBoost                         Yes  0.756327  0.683641   0.166426  0.267679   \n",
       "\n",
       "                     Accuracy  \n",
       "Logistic Regression  0.613244  \n",
       "Random Forest        0.690863  \n",
       "AdaBoost             0.698035  "
      ]
     },
     "execution_count": 6,
     "metadata": {},
     "output_type": "execute_result"
    }
   ],
   "source": [
    "# A table used in 'Disucssion of Results' in final report\n",
    "final_summary = pd.read_csv(path+'/results/final_summary.csv',index_col=0)\n",
    "final_summary[final_summary['Ratio_Attributes']=='Yes'].sort_values('ROC_AUC')"
   ]
  },
  {
   "cell_type": "markdown",
   "metadata": {},
   "source": [
    "<a id='signif'></a>\n",
    "## E. Testing for Significant Difference in Results\n",
    "Here we will test for a significant difference in the results between the original data set and the data set with the new ratio attributes. We will consider the results from the AdaBoost model only.\n",
    "\n",
    "[Return](#toc)"
   ]
  },
  {
   "cell_type": "code",
   "execution_count": 4,
   "metadata": {},
   "outputs": [
    {
     "data": {
      "text/html": [
       "<div>\n",
       "<style scoped>\n",
       "    .dataframe tbody tr th:only-of-type {\n",
       "        vertical-align: middle;\n",
       "    }\n",
       "\n",
       "    .dataframe tbody tr th {\n",
       "        vertical-align: top;\n",
       "    }\n",
       "\n",
       "    .dataframe thead th {\n",
       "        text-align: right;\n",
       "    }\n",
       "</style>\n",
       "<table border=\"1\" class=\"dataframe\">\n",
       "  <thead>\n",
       "    <tr style=\"text-align: right;\">\n",
       "      <th></th>\n",
       "      <th>ROC_AUC</th>\n",
       "      <th>Recall</th>\n",
       "      <th>Precision</th>\n",
       "      <th>F1Score</th>\n",
       "      <th>Accuracy</th>\n",
       "      <th>Source</th>\n",
       "    </tr>\n",
       "  </thead>\n",
       "  <tbody>\n",
       "    <tr>\n",
       "      <th>0</th>\n",
       "      <td>0.744750</td>\n",
       "      <td>0.688042</td>\n",
       "      <td>0.162572</td>\n",
       "      <td>0.263001</td>\n",
       "      <td>0.689910</td>\n",
       "      <td>ADA_Original</td>\n",
       "    </tr>\n",
       "    <tr>\n",
       "      <th>1</th>\n",
       "      <td>0.757162</td>\n",
       "      <td>0.694364</td>\n",
       "      <td>0.163766</td>\n",
       "      <td>0.265026</td>\n",
       "      <td>0.692093</td>\n",
       "      <td>ADA_Original</td>\n",
       "    </tr>\n",
       "    <tr>\n",
       "      <th>2</th>\n",
       "      <td>0.746221</td>\n",
       "      <td>0.656784</td>\n",
       "      <td>0.160984</td>\n",
       "      <td>0.258586</td>\n",
       "      <td>0.693115</td>\n",
       "      <td>ADA_Original</td>\n",
       "    </tr>\n",
       "    <tr>\n",
       "      <th>3</th>\n",
       "      <td>0.762547</td>\n",
       "      <td>0.694200</td>\n",
       "      <td>0.166269</td>\n",
       "      <td>0.268282</td>\n",
       "      <td>0.699712</td>\n",
       "      <td>ADA_Original</td>\n",
       "    </tr>\n",
       "    <tr>\n",
       "      <th>4</th>\n",
       "      <td>0.752650</td>\n",
       "      <td>0.679385</td>\n",
       "      <td>0.163469</td>\n",
       "      <td>0.263530</td>\n",
       "      <td>0.690235</td>\n",
       "      <td>ADA_Original</td>\n",
       "    </tr>\n",
       "    <tr>\n",
       "      <th>5</th>\n",
       "      <td>0.751915</td>\n",
       "      <td>0.678508</td>\n",
       "      <td>0.160123</td>\n",
       "      <td>0.259100</td>\n",
       "      <td>0.695531</td>\n",
       "      <td>ADA_Original</td>\n",
       "    </tr>\n",
       "    <tr>\n",
       "      <th>6</th>\n",
       "      <td>0.750328</td>\n",
       "      <td>0.677510</td>\n",
       "      <td>0.167522</td>\n",
       "      <td>0.268624</td>\n",
       "      <td>0.694416</td>\n",
       "      <td>ADA_Original</td>\n",
       "    </tr>\n",
       "    <tr>\n",
       "      <th>7</th>\n",
       "      <td>0.747073</td>\n",
       "      <td>0.679192</td>\n",
       "      <td>0.164159</td>\n",
       "      <td>0.264410</td>\n",
       "      <td>0.686969</td>\n",
       "      <td>ADA_Original</td>\n",
       "    </tr>\n",
       "    <tr>\n",
       "      <th>8</th>\n",
       "      <td>0.754553</td>\n",
       "      <td>0.683441</td>\n",
       "      <td>0.163015</td>\n",
       "      <td>0.263241</td>\n",
       "      <td>0.696260</td>\n",
       "      <td>ADA_Original</td>\n",
       "    </tr>\n",
       "    <tr>\n",
       "      <th>9</th>\n",
       "      <td>0.736677</td>\n",
       "      <td>0.664564</td>\n",
       "      <td>0.159050</td>\n",
       "      <td>0.256671</td>\n",
       "      <td>0.688130</td>\n",
       "      <td>ADA_Original</td>\n",
       "    </tr>\n",
       "    <tr>\n",
       "      <th>0</th>\n",
       "      <td>0.749100</td>\n",
       "      <td>0.678221</td>\n",
       "      <td>0.161352</td>\n",
       "      <td>0.260686</td>\n",
       "      <td>0.690653</td>\n",
       "      <td>ADA_Ratios</td>\n",
       "    </tr>\n",
       "    <tr>\n",
       "      <th>1</th>\n",
       "      <td>0.757913</td>\n",
       "      <td>0.686810</td>\n",
       "      <td>0.164831</td>\n",
       "      <td>0.265857</td>\n",
       "      <td>0.696739</td>\n",
       "      <td>ADA_Ratios</td>\n",
       "    </tr>\n",
       "    <tr>\n",
       "      <th>2</th>\n",
       "      <td>0.753053</td>\n",
       "      <td>0.674458</td>\n",
       "      <td>0.167090</td>\n",
       "      <td>0.267829</td>\n",
       "      <td>0.699526</td>\n",
       "      <td>ADA_Ratios</td>\n",
       "    </tr>\n",
       "    <tr>\n",
       "      <th>3</th>\n",
       "      <td>0.768755</td>\n",
       "      <td>0.700059</td>\n",
       "      <td>0.169937</td>\n",
       "      <td>0.273487</td>\n",
       "      <td>0.705054</td>\n",
       "      <td>ADA_Ratios</td>\n",
       "    </tr>\n",
       "    <tr>\n",
       "      <th>4</th>\n",
       "      <td>0.760138</td>\n",
       "      <td>0.683941</td>\n",
       "      <td>0.167177</td>\n",
       "      <td>0.268680</td>\n",
       "      <td>0.696274</td>\n",
       "      <td>ADA_Ratios</td>\n",
       "    </tr>\n",
       "    <tr>\n",
       "      <th>5</th>\n",
       "      <td>0.755629</td>\n",
       "      <td>0.674364</td>\n",
       "      <td>0.161974</td>\n",
       "      <td>0.261209</td>\n",
       "      <td>0.700688</td>\n",
       "      <td>ADA_Ratios</td>\n",
       "    </tr>\n",
       "    <tr>\n",
       "      <th>6</th>\n",
       "      <td>0.756021</td>\n",
       "      <td>0.688727</td>\n",
       "      <td>0.171413</td>\n",
       "      <td>0.274505</td>\n",
       "      <td>0.698458</td>\n",
       "      <td>ADA_Ratios</td>\n",
       "    </tr>\n",
       "    <tr>\n",
       "      <th>7</th>\n",
       "      <td>0.755910</td>\n",
       "      <td>0.691531</td>\n",
       "      <td>0.168974</td>\n",
       "      <td>0.271586</td>\n",
       "      <td>0.692729</td>\n",
       "      <td>ADA_Ratios</td>\n",
       "    </tr>\n",
       "    <tr>\n",
       "      <th>8</th>\n",
       "      <td>0.760200</td>\n",
       "      <td>0.682270</td>\n",
       "      <td>0.165109</td>\n",
       "      <td>0.265876</td>\n",
       "      <td>0.700859</td>\n",
       "      <td>ADA_Ratios</td>\n",
       "    </tr>\n",
       "    <tr>\n",
       "      <th>9</th>\n",
       "      <td>0.746550</td>\n",
       "      <td>0.676032</td>\n",
       "      <td>0.166408</td>\n",
       "      <td>0.267074</td>\n",
       "      <td>0.699373</td>\n",
       "      <td>ADA_Ratios</td>\n",
       "    </tr>\n",
       "  </tbody>\n",
       "</table>\n",
       "</div>"
      ],
      "text/plain": [
       "    ROC_AUC    Recall  Precision   F1Score  Accuracy        Source\n",
       "0  0.744750  0.688042   0.162572  0.263001  0.689910  ADA_Original\n",
       "1  0.757162  0.694364   0.163766  0.265026  0.692093  ADA_Original\n",
       "2  0.746221  0.656784   0.160984  0.258586  0.693115  ADA_Original\n",
       "3  0.762547  0.694200   0.166269  0.268282  0.699712  ADA_Original\n",
       "4  0.752650  0.679385   0.163469  0.263530  0.690235  ADA_Original\n",
       "5  0.751915  0.678508   0.160123  0.259100  0.695531  ADA_Original\n",
       "6  0.750328  0.677510   0.167522  0.268624  0.694416  ADA_Original\n",
       "7  0.747073  0.679192   0.164159  0.264410  0.686969  ADA_Original\n",
       "8  0.754553  0.683441   0.163015  0.263241  0.696260  ADA_Original\n",
       "9  0.736677  0.664564   0.159050  0.256671  0.688130  ADA_Original\n",
       "0  0.749100  0.678221   0.161352  0.260686  0.690653    ADA_Ratios\n",
       "1  0.757913  0.686810   0.164831  0.265857  0.696739    ADA_Ratios\n",
       "2  0.753053  0.674458   0.167090  0.267829  0.699526    ADA_Ratios\n",
       "3  0.768755  0.700059   0.169937  0.273487  0.705054    ADA_Ratios\n",
       "4  0.760138  0.683941   0.167177  0.268680  0.696274    ADA_Ratios\n",
       "5  0.755629  0.674364   0.161974  0.261209  0.700688    ADA_Ratios\n",
       "6  0.756021  0.688727   0.171413  0.274505  0.698458    ADA_Ratios\n",
       "7  0.755910  0.691531   0.168974  0.271586  0.692729    ADA_Ratios\n",
       "8  0.760200  0.682270   0.165109  0.265876  0.700859    ADA_Ratios\n",
       "9  0.746550  0.676032   0.166408  0.267074  0.699373    ADA_Ratios"
      ]
     },
     "execution_count": 4,
     "metadata": {},
     "output_type": "execute_result"
    }
   ],
   "source": [
    "# Reading results \n",
    "path = 'C:/Users/X/Documents/A_Documents/Cap_Data/CSV'\n",
    "orig = pd.read_csv(path+'/results/AdaBoost_best_params.csv', index_col=0).drop(['Mean'],axis=0)\n",
    "orig['Source']='ADA_Original'\n",
    "ratio = pd.read_csv(path+'/results/ADA_extras.csv', index_col=0).drop(['Mean'],axis=0)\n",
    "ratio['Source']='ADA_Ratios'\n",
    "\n",
    "#Creating combined dataframe and renaming one column\n",
    "data = orig.append(ratio)\n",
    "data = data.rename(columns={'F1-Score': 'F1Score'})\n",
    "\n",
    "data"
   ]
  },
  {
   "cell_type": "code",
   "execution_count": 8,
   "metadata": {},
   "outputs": [
    {
     "data": {
      "image/png": "[encoded data removed]",
      "text/plain": [
       "<Figure size 432x360 with 1 Axes>"
      ]
     },
     "metadata": {
      "needs_background": "light"
     },
     "output_type": "display_data"
    }
   ],
   "source": [
    "data.boxplot('F1Score', by='Source', figsize=(6,5), grid=False);"
   ]
  },
  {
   "cell_type": "code",
   "execution_count": 7,
   "metadata": {},
   "outputs": [
    {
     "name": "stdout",
     "output_type": "stream",
     "text": [
      "Recall test:\n",
      "t-statistic 1.3681, p-value: 0.102231\n",
      "\n",
      "Precision test:\n",
      "t-statistic 4.2168, p-value: 0.001125\n",
      "\n",
      "F1Score test:\n",
      "t-statistic 3.7645, p-value: 0.002227\n",
      "\n",
      "ROC_AUC test:\n",
      "t-statistic 7.1739, p-value: 0.000026\n",
      "\n",
      "Accuracy test:\n",
      "t-statistic 6.5840, p-value: 0.000051\n"
     ]
    }
   ],
   "source": [
    "# Testing metrics using paired t-test\n",
    "from scipy import stats\n",
    "\n",
    "def sig_test(var, typ):\n",
    "    \n",
    "    X = data[data['Source']=='ADA_Ratios'][var]\n",
    "    Y = data[data['Source']=='ADA_Original'][var]\n",
    "    \n",
    "    # t-test for two indpendent samples\n",
    "    # print(stats.ttest_ind(one,two, equal_var=True))\n",
    "\n",
    "    # Paired test\n",
    "    # test stat from X-Y, two tailed test by default\n",
    "    # Right tailed (X-Y)>0, test-stat>0 then p-value becomes p-value/2\n",
    "    #                       test-stat<0 then p-value becomes 1-p-value/2\n",
    "    # Left tailed (X-Y)<0,  test-stat>0 then p=value becomes 1-p-value/2\n",
    "    #                       test-stat<0 then p=value becomes p-value/2 \n",
    "    \n",
    "    # H0: Mean of <metric> from ADA_Ratios =< mean of <metric> from ADA_Original\n",
    "    # Ha: Mean of <metric> from ADA_Ratios  > mean of <metric> from ADA_Original\n",
    "        \n",
    "    # t-test for paired samples\n",
    "    stat, p = stats.ttest_rel(X,Y)\n",
    "    if typ=='greater' and stat>0:\n",
    "        return (stat, p/2)\n",
    "    if typ=='greater' and stat<0:\n",
    "        return (stat, 1-p/2)\n",
    "    if typ=='lower' and stat>0:\n",
    "        return (stat, 1-p/2)\n",
    "    if typ=='lower' and stat<0:\n",
    "        return (stat, p/2)\n",
    "    if typ=='different':\n",
    "        return (stat, p)\n",
    "\n",
    "print(\"Recall test:\")\n",
    "stat, p = sig_test('Recall', 'greater')\n",
    "print('t-statistic {:.4f}, p-value: {:.6f}'.format(stat,p))\n",
    "\n",
    "print(\"\\nPrecision test:\")\n",
    "stat, p = sig_test('Precision', 'greater')\n",
    "print('t-statistic {:.4f}, p-value: {:.6f}'.format(stat,p))\n",
    "\n",
    "print(\"\\nF1Score test:\")\n",
    "stat, p = sig_test('F1Score', 'greater')\n",
    "print('t-statistic {:.4f}, p-value: {:.6f}'.format(stat,p))\n",
    "\n",
    "print(\"\\nROC_AUC test:\")\n",
    "stat, p = sig_test('ROC_AUC', 'greater')\n",
    "print('t-statistic {:.4f}, p-value: {:.6f}'.format(stat,p))\n",
    "\n",
    "print(\"\\nAccuracy test:\")\n",
    "stat, p = sig_test('Accuracy', 'greater')\n",
    "print('t-statistic {:.4f}, p-value: {:.6f}'.format(stat,p))"
   ]
  },
  {
   "cell_type": "markdown",
   "metadata": {},
   "source": [
    "With the exception of Recall, all the metrics have seen a statistically significant improvement after adding the new ratio attributes."
   ]
  },
  {
   "cell_type": "code",
   "execution_count": 115,
   "metadata": {},
   "outputs": [
    {
     "name": "stdout",
     "output_type": "stream",
     "text": [
      "Recall test:\n",
      "t-statistic 1.3681, p-value: 0.204462\n"
     ]
    }
   ],
   "source": [
    "# Quick check to ensure that Recall is not statistically different\n",
    "print(\"Recall test:\")\n",
    "stat, p = sig_test('Recall', 'different')\n",
    "print('t-statistic {:.4f}, p-value: {:.6f}'.format(stat,p))"
   ]
  },
  {
   "cell_type": "markdown",
   "metadata": {},
   "source": [
    "There has been no statistically significant change in Recall after adding the new ratio attributes. This is a good result given the improvements in all the other metrics. The new attributes have helped reduce the false positives (as shown by the improved precision)."
   ]
  },
  {
   "cell_type": "markdown",
   "metadata": {},
   "source": [
    "<a id='ensemble'></a>\n",
    "# 8. Building an Ensemble Voting Classifier Model\n",
    "Here we will test if an ensemble voting classifier built from our three models above can outperfrom the individual models.\n",
    "\n",
    "[Return](#toc)"
   ]
  },
  {
   "cell_type": "markdown",
   "metadata": {},
   "source": [
    "<a id='soft'></a>\n",
    "## A. Ensemble - Soft Voting\n",
    "\n",
    "[Return](#toc)"
   ]
  },
  {
   "cell_type": "code",
   "execution_count": 10,
   "metadata": {},
   "outputs": [
    {
     "name": "stdout",
     "output_type": "stream",
     "text": [
      "0123456789\n",
      "Confusion matrix from last fold:\n",
      "\n",
      "Predicted      0     1\n",
      "Actual                \n",
      "0          13062  6719\n",
      "1            557  1187\n",
      "\n",
      "Cross validation results\n",
      "\n",
      "       ROC_AUC    Recall  Precision  F1-Score  Accuracy\n",
      "0     0.736170  0.686308   0.149472  0.245480  0.660736\n",
      "1     0.742115  0.688553   0.149395  0.245520  0.661665\n",
      "2     0.736633  0.689852   0.154297  0.252188  0.666636\n",
      "3     0.751126  0.717633   0.154011  0.253597  0.665010\n",
      "4     0.744984  0.695900   0.153210  0.251130  0.661433\n",
      "5     0.748404  0.699230   0.152367  0.250212  0.671188\n",
      "6     0.743732  0.700505   0.156910  0.256389  0.663430\n",
      "7     0.742114  0.707796   0.156576  0.256426  0.659977\n",
      "8     0.744801  0.699824   0.152434  0.250340  0.667224\n",
      "9     0.728804  0.680619   0.150139  0.246010  0.661974\n",
      "Mean  0.741888  0.696622   0.152881  0.250729  0.663927\n"
     ]
    }
   ],
   "source": [
    "# Creating an ensemble model from our three models.\n",
    "from sklearn.ensemble import VotingClassifier\n",
    "\n",
    "# The three models using our tuned hyperparameters\n",
    "c1 = LogisticRegression(C=0.001, penalty='l1')\n",
    "c2 = RandomForestClassifier(max_depth=10, max_features=32, min_samples_leaf=10, n_estimators=500, n_jobs=-1, random_state=777)\n",
    "c3 = AdaBoostClassifier(DecisionTreeClassifier(max_depth=1), learning_rate = 1, n_estimators=300, random_state=777)\n",
    "\n",
    "# Using 'soft' voting were class probabilities are the average of the probabilities from each model\n",
    "eclf = VotingClassifier(estimators=[('lr', c1), ('rf', c2), ('ada', c3)], voting='soft', n_jobs=-1)\n",
    "\n",
    "metrics, matrix = classify_folds(eclf, np.array(train_set), np.array(train_labels), 'under', 10)\n",
    "\n",
    "# saving results\n",
    "metrics.to_csv(path+'/results/ensemble_soft_extras.csv')\n",
    "\n",
    "print('\\nConfusion matrix from last fold:\\n'); print(matrix)\n",
    "print('\\nCross validation results\\n'); print(metrics)\n"
   ]
  },
  {
   "cell_type": "markdown",
   "metadata": {},
   "source": [
    "The soft voting ensemble model doesn't outperform Random Forest or AdadBoost based on the F1-Score."
   ]
  },
  {
   "cell_type": "markdown",
   "metadata": {},
   "source": [
    "<a id='hard'></a>\n",
    "## B. Ensemble - Hard Voting\n",
    "\n",
    "[Return](#toc)"
   ]
  },
  {
   "cell_type": "code",
   "execution_count": 11,
   "metadata": {},
   "outputs": [],
   "source": [
    "# A function to perform cross validation \n",
    "# with three different choices of sampling method\n",
    "# The ROC curve plot has been commented out below. Not required here.\n",
    "# The probability functions have been commented out to allow for 'hard' voting in ensemble model\n",
    "\n",
    "def classify_folds_NoProb(clr, train_x, train_y, sample_method, folds):\n",
    "    \n",
    "    # Lists to store metrics\n",
    "    #aucs=[]\n",
    "    recall=[]\n",
    "    precision=[]\n",
    "    f1score=[]\n",
    "    accuracy=[]\n",
    "\n",
    "    # Create the random under & over samplers\n",
    "    rus = RandomUnderSampler(random_state=777)\n",
    "    smote = SMOTE(ratio='minority', random_state=777, n_jobs=-1)\n",
    "\n",
    "    # Create the folds\n",
    "    splits = KFold(n_splits=folds).split(train_x, train_y)\n",
    "\n",
    "    #fig = plt.figure(figsize=(8,6))\n",
    "    i=0\n",
    "    \n",
    "    # Iterate through the folds\n",
    "    for train_fold, test_fold in splits:\n",
    "        # Depending on choice of sampling method - execute sampling\n",
    "        if sample_method == 'under':\n",
    "            sampled_x, sampled_y = rus.fit_sample(train_x[train_fold], train_y[train_fold])\n",
    "        elif sample_method == 'over':\n",
    "            sampled_x, sampled_y = smote.fit_sample(train_x[train_fold], train_y[train_fold])\n",
    "        elif sample_method == 'none':\n",
    "            sampled_x, sampled_y = train_x[train_fold], train_y[train_fold]            \n",
    "        else:\n",
    "            print('Incorrect Sample Input')\n",
    "            return\n",
    "    \n",
    "        # Train the classifier on the sampled data\n",
    "        clr.fit(sampled_x, sampled_y)\n",
    "    \n",
    "        # Test the classifier on the test fold (which is not sampled and remains imbalanced)\n",
    "        #probs = clr.predict_proba(train_x[test_fold])\n",
    "        predict = clr.predict(train_x[test_fold])\n",
    "        \n",
    "        # Return arrays containing the fpr (x-axis), tpr (y-axis) and thresholds\n",
    "        #fpr, tpr, thresholds = roc_curve(train_y[test_fold], probs[:, 1])\n",
    "    \n",
    "        # Compute area under ROC curve\n",
    "        #roc_auc = auc(fpr, tpr)\n",
    "    \n",
    "        # Plot ROC curve\n",
    "        #plt.plot(fpr, tpr, lw=1, alpha=0.8, label='Fold %d (AUC = %0.2f)' % (i, roc_auc))\n",
    "    \n",
    "        # Generate confusion matrix, compute measures and store\n",
    "        matrix = confusion_matrix(train_y[test_fold], predict)\n",
    "        TP = matrix[1,1]\n",
    "        TN = matrix[0,0]\n",
    "        FP = matrix[0,1]\n",
    "        FN = matrix[1,0]\n",
    "        rec = TP/(TP+FN)\n",
    "        prec = TP/(TP+FP)\n",
    "        f1 = 2*prec*rec/(prec+rec)\n",
    "        acc = (TP+TN) /(TP+TN+FP+FN)\n",
    "    \n",
    "        #aucs.append(roc_auc)\n",
    "        recall.append(rec)\n",
    "        precision.append(prec)\n",
    "        f1score.append(f1)\n",
    "        accuracy.append(acc)\n",
    "        print(i,end=\"\")\n",
    "        i += 1\n",
    "    \n",
    "    #plt.plot([0, 1], [0, 1], linestyle='--', lw=2, color='r', label='Chance', alpha=.8)\n",
    "    #plt.xlabel('False Positive Rate', fontsize=15)\n",
    "    #plt.ylabel('True Positive Rate', fontsize=15)\n",
    "    #plt.title('ROC Curves', fontsize=15)\n",
    "    #plt.legend(loc='lower right'); \n",
    "\n",
    "    # Dataframes to return results\n",
    "    matrix = pd.DataFrame(matrix)\n",
    "    matrix.index.name = 'Actual'; matrix.columns.name = 'Predicted'\n",
    "    #results = pd.DataFrame({'ROC_AUC':aucs, 'Recall':recall, 'Precision':precision, 'F1-Score':f1score, 'Accuracy':accuracy})\n",
    "    results = pd.DataFrame({'Recall':recall, 'Precision':precision, 'F1-Score':f1score, 'Accuracy':accuracy})\n",
    "    mean = results.mean(); mean.name = 'Mean'\n",
    "    #return results.append(mean), fig, matrix\n",
    "    return results.append(mean), matrix"
   ]
  },
  {
   "cell_type": "code",
   "execution_count": 13,
   "metadata": {},
   "outputs": [
    {
     "name": "stdout",
     "output_type": "stream",
     "text": [
      "0123456789\n",
      "Confusion matrix from last fold:\n",
      "\n",
      "Predicted      0     1\n",
      "Actual                \n",
      "0          13340  6441\n",
      "1            555  1189\n",
      "\n",
      "Cross validation results\n",
      "\n",
      "        Recall  Precision  F1-Score  Accuracy\n",
      "0     0.694974   0.154886  0.253316  0.670538\n",
      "1     0.694364   0.154913  0.253312  0.672721\n",
      "2     0.683580   0.157514  0.256032  0.676298\n",
      "3     0.719977   0.160612  0.262635  0.679411\n",
      "4     0.702733   0.159824  0.260420  0.674394\n",
      "5     0.695086   0.156784  0.255857  0.682756\n",
      "6     0.696579   0.161593  0.262330  0.675509\n",
      "7     0.699383   0.160015  0.260443  0.670987\n",
      "8     0.703335   0.158492  0.258689  0.679954\n",
      "9     0.681766   0.155832  0.253680  0.674983\n",
      "Mean  0.697178   0.158047  0.257672  0.675755\n"
     ]
    }
   ],
   "source": [
    "# Creating an ensemble model from our three models.\n",
    "from sklearn.ensemble import VotingClassifier\n",
    "\n",
    "# The three models using our tuned hyperparameters\n",
    "c1 = LogisticRegression(C=0.001, penalty='l1')\n",
    "c2 = RandomForestClassifier(max_depth=10, max_features=32, min_samples_leaf=10, n_estimators=500, n_jobs=-1, random_state=777)\n",
    "c3 = AdaBoostClassifier(DecisionTreeClassifier(max_depth=1), learning_rate = 1, n_estimators=300, random_state=777)\n",
    "\n",
    "# Using 'hard' voting were classes are assigned based on a majority vote\n",
    "eclf = VotingClassifier(estimators=[('lr', c1), ('rf', c2), ('ada', c3)], voting='hard', n_jobs=-1)\n",
    "\n",
    "metrics, matrix = classify_folds_NoProb(eclf, np.array(train_set), np.array(train_labels), 'under', 10)\n",
    "\n",
    "# saving results\n",
    "metrics.to_csv(path+'/results/ensemble_hard_extras.csv')\n",
    "\n",
    "print('\\nConfusion matrix from last fold:\\n'); print(matrix)\n",
    "print('\\nCross validation results\\n'); print(metrics)"
   ]
  },
  {
   "cell_type": "markdown",
   "metadata": {},
   "source": [
    "As above, the hard voting ensemble method doesn't outperform Random Forest or AdaBoost based on the F1-Score."
   ]
  },
  {
   "cell_type": "markdown",
   "metadata": {},
   "source": [
    "<a id='ensemble_summary'></a>\n",
    "## C. Summary Results with Ensemble Models\n",
    "\n",
    "[Return](#toc)"
   ]
  },
  {
   "cell_type": "code",
   "execution_count": 7,
   "metadata": {},
   "outputs": [],
   "source": [
    "# Reading in data\n",
    "path = 'C:/Users/X/Documents/A_Documents/Cap_Data/CSV'\n",
    "final_summary = pd.read_csv(path+'/results/final_summary.csv', index_col=0)\n",
    "final_summary = final_summary.loc[final_summary['Ratio_Attributes']=='Yes', ]\n",
    "soft = pd.read_csv(path + '/results/ensemble_soft_extras.csv', index_col=0).loc[['Mean'],:]\n",
    "soft['Ratio_Attributes']='Yes'\n",
    "soft.index=['Ensemble_Soft_Voting']\n",
    "hard = pd.read_csv(path + '/results/ensemble_hard_extras.csv', index_col=0).loc[['Mean'],:]\n",
    "hard['Ratio_Attributes']='Yes'\n",
    "hard.index=['Ensemble_Hard_Voting']"
   ]
  },
  {
   "cell_type": "code",
   "execution_count": 9,
   "metadata": {},
   "outputs": [
    {
     "name": "stdout",
     "output_type": "stream",
     "text": [
      "Summary Results:\n"
     ]
    },
    {
     "data": {
      "text/html": [
       "<div>\n",
       "<style scoped>\n",
       "    .dataframe tbody tr th:only-of-type {\n",
       "        vertical-align: middle;\n",
       "    }\n",
       "\n",
       "    .dataframe tbody tr th {\n",
       "        vertical-align: top;\n",
       "    }\n",
       "\n",
       "    .dataframe thead th {\n",
       "        text-align: right;\n",
       "    }\n",
       "</style>\n",
       "<table border=\"1\" class=\"dataframe\">\n",
       "  <thead>\n",
       "    <tr style=\"text-align: right;\">\n",
       "      <th></th>\n",
       "      <th>Ratio_Attributes</th>\n",
       "      <th>ROC_AUC</th>\n",
       "      <th>Recall</th>\n",
       "      <th>Precision</th>\n",
       "      <th>F1-Score</th>\n",
       "      <th>Accuracy</th>\n",
       "    </tr>\n",
       "  </thead>\n",
       "  <tbody>\n",
       "    <tr>\n",
       "      <th>AdaBoost</th>\n",
       "      <td>Yes</td>\n",
       "      <td>0.756327</td>\n",
       "      <td>0.683641</td>\n",
       "      <td>0.166426</td>\n",
       "      <td>0.267679</td>\n",
       "      <td>0.698035</td>\n",
       "    </tr>\n",
       "    <tr>\n",
       "      <th>Logistic Regression</th>\n",
       "      <td>Yes</td>\n",
       "      <td>0.725180</td>\n",
       "      <td>0.725335</td>\n",
       "      <td>0.138373</td>\n",
       "      <td>0.232401</td>\n",
       "      <td>0.613244</td>\n",
       "    </tr>\n",
       "    <tr>\n",
       "      <th>Random Forest</th>\n",
       "      <td>Yes</td>\n",
       "      <td>0.748538</td>\n",
       "      <td>0.676223</td>\n",
       "      <td>0.161695</td>\n",
       "      <td>0.260979</td>\n",
       "      <td>0.690863</td>\n",
       "    </tr>\n",
       "    <tr>\n",
       "      <th>Ensemble_Soft_Voting</th>\n",
       "      <td>Yes</td>\n",
       "      <td>0.741888</td>\n",
       "      <td>0.696622</td>\n",
       "      <td>0.152881</td>\n",
       "      <td>0.250729</td>\n",
       "      <td>0.663927</td>\n",
       "    </tr>\n",
       "    <tr>\n",
       "      <th>Ensemble_Hard_Voting</th>\n",
       "      <td>Yes</td>\n",
       "      <td>NaN</td>\n",
       "      <td>0.697178</td>\n",
       "      <td>0.158047</td>\n",
       "      <td>0.257672</td>\n",
       "      <td>0.675755</td>\n",
       "    </tr>\n",
       "  </tbody>\n",
       "</table>\n",
       "</div>"
      ],
      "text/plain": [
       "                     Ratio_Attributes   ROC_AUC    Recall  Precision  \\\n",
       "AdaBoost                          Yes  0.756327  0.683641   0.166426   \n",
       "Logistic Regression               Yes  0.725180  0.725335   0.138373   \n",
       "Random Forest                     Yes  0.748538  0.676223   0.161695   \n",
       "Ensemble_Soft_Voting              Yes  0.741888  0.696622   0.152881   \n",
       "Ensemble_Hard_Voting              Yes       NaN  0.697178   0.158047   \n",
       "\n",
       "                      F1-Score  Accuracy  \n",
       "AdaBoost              0.267679  0.698035  \n",
       "Logistic Regression   0.232401  0.613244  \n",
       "Random Forest         0.260979  0.690863  \n",
       "Ensemble_Soft_Voting  0.250729  0.663927  \n",
       "Ensemble_Hard_Voting  0.257672  0.675755  "
      ]
     },
     "execution_count": 9,
     "metadata": {},
     "output_type": "execute_result"
    }
   ],
   "source": [
    "# Creating an expanded summary to include the ensemble results\n",
    "ens_summary = final_summary.append(soft).append(hard)[list(final_summary.columns)]\n",
    "# Saving summary\n",
    "ens_summary.to_csv(path+'/results/ens_summary_extras_2.csv')\n",
    "print('Summary Results:')\n",
    "ens_summary"
   ]
  },
  {
   "cell_type": "code",
   "execution_count": null,
   "metadata": {},
   "outputs": [],
   "source": []
  }
 ],
 "metadata": {
  "kernelspec": {
   "display_name": "Python 3",
   "language": "python",
   "name": "python3"
  },
  "language_info": {
   "codemirror_mode": {
    "name": "ipython",
    "version": 3
   },
   "file_extension": ".py",
   "mimetype": "text/x-python",
   "name": "python",
   "nbconvert_exporter": "python",
   "pygments_lexer": "ipython3",
   "version": "3.6.6"
  }
 },
 "nbformat": 4,
 "nbformat_minor": 2
}
