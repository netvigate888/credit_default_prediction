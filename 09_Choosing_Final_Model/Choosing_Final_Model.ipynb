{
 "cells": [
  {
   "cell_type": "markdown",
   "metadata": {},
   "source": [
    "<a id='toc'></a>\n",
    "# Choosing a Final Model\n",
    "\n",
    "1. [Setting up the Environment](#envir)\n",
    "1. [Testing for Significant Difference in Results](#signif)\n",
    "    1. [F1-Score ANOVA Test](#anova)\n",
    "    1. [Paired t-tests](#ttest)  "
   ]
  },
  {
   "cell_type": "markdown",
   "metadata": {},
   "source": [
    "<a id='envir'></a>\n",
    "# 1. Setting up the Environment\n",
    "\n",
    "[Return](#toc)"
   ]
  },
  {
   "cell_type": "code",
   "execution_count": null,
   "metadata": {},
   "outputs": [],
   "source": [
    "import numpy as np\n",
    "import pandas as pd\n",
    "from numpy import nan as NaN\n",
    "import matplotlib.pyplot as plt\n",
    "import warnings\n",
    "warnings.filterwarnings('ignore')\n",
    "pd.options.display.max_rows = 200\n",
    "pd.options.display.max_columns = 200"
   ]
  },
  {
   "cell_type": "markdown",
   "metadata": {},
   "source": [
    "<a id='signif'></a>\n",
    "# 2. Testing for Significant Difference in Results\n",
    "Which model is performing the best? \n",
    "\n",
    "Logistic Regression has the highest Recall but the lowest F1-Score. Is Logistic Regression's F1-Score statistically different from the other two models?\n",
    "\n",
    "AdaBoost appears to be outperforming Random Forest on all metrics but is the difference statistically significant?\n",
    "\n",
    "[Return](#toc)"
   ]
  },
  {
   "cell_type": "code",
   "execution_count": null,
   "metadata": {},
   "outputs": [],
   "source": [
    "# Reading results for significance testing\n",
    "path = 'C:/Users/X/Documents/A_Documents/Cap_Data/CSV'\n",
    "LR = pd.read_csv(path+'/results/LR_extras.csv', index_col=0).drop(['Mean'],axis=0)\n",
    "LR['Model']='Logistic Regression'\n",
    "RF = pd.read_csv(path+'/results/RF_extras.csv', index_col=0).drop(['Mean'],axis=0)\n",
    "RF['Model']='Random Forest'\n",
    "ADA = pd.read_csv(path+'/results/ADA_extras.csv', index_col=0).drop(['Mean'],axis=0)\n",
    "ADA['Model']='AdaBoost'\n",
    "\n",
    "#Creating combined dataframe and renaming one column\n",
    "data = LR.append(RF).append(ADA)\n",
    "data = data.rename(columns={'F1-Score': 'F1Score'})\n",
    "# data = data[data['Model']!='Logistic Regression']\n",
    "# data"
   ]
  },
  {
   "cell_type": "markdown",
   "metadata": {},
   "source": [
    "<a id='anova'></a>\n",
    "## A. F1-Score ANOVA Test\n",
    "Here we will run a One-Way Analysis of Variance (ANOVA), at a 5% significance level,  to test for a difference in F1-Scores.\n",
    "\n",
    "[Return](#toc)"
   ]
  },
  {
   "cell_type": "code",
   "execution_count": 5,
   "metadata": {},
   "outputs": [
    {
     "data": {
      "image/png": "[encoded data removed]",
      "text/plain": [
       "<Figure size 432x360 with 1 Axes>"
      ]
     },
     "metadata": {
      "needs_background": "light"
     },
     "output_type": "display_data"
    }
   ],
   "source": [
    "data.boxplot('F1Score', by='Model', figsize=(6,5), grid=False);"
   ]
  },
  {
   "cell_type": "code",
   "execution_count": 6,
   "metadata": {},
   "outputs": [
    {
     "name": "stdout",
     "output_type": "stream",
     "text": [
      "ANOVA table for F1-Score:\n",
      "\n",
      "            sum_sq    df           F        PR(>F)\n",
      "Model     0.007020   2.0  195.111056  8.880799e-17\n",
      "Residual  0.000486  27.0         NaN           NaN\n"
     ]
    }
   ],
   "source": [
    "import statsmodels.api as sm\n",
    "from statsmodels.formula.api import ols\n",
    "\n",
    "# Creating ANOVA table for F1-Score\n",
    "mod=ols('F1Score ~ Model', data=data).fit()\n",
    "aov_table = sm.stats.anova_lm(mod, typ=2)\n",
    "print('ANOVA table for F1-Score:\\n')\n",
    "print(aov_table)"
   ]
  },
  {
   "cell_type": "code",
   "execution_count": 7,
   "metadata": {},
   "outputs": [
    {
     "data": {
      "text/plain": [
       "F_onewayResult(statistic=195.11105554154224, pvalue=8.88079913321113e-17)"
      ]
     },
     "execution_count": 7,
     "metadata": {},
     "output_type": "execute_result"
    }
   ],
   "source": [
    "# Just a quick check using a different stats package...\n",
    "from scipy import stats\n",
    "\n",
    "var='F1Score'\n",
    "one = data[data['Model']=='Logistic Regression'][var]\n",
    "two = data[data['Model']=='Random Forest'][var]\n",
    "three = data[data['Model']=='AdaBoost'][var]\n",
    "\n",
    "stats.f_oneway(one, two, three)"
   ]
  },
  {
   "cell_type": "markdown",
   "metadata": {},
   "source": [
    "The above p-value is extremely small and well below 5%. At least one of the F1-Scores is significantly different from another."
   ]
  },
  {
   "cell_type": "markdown",
   "metadata": {},
   "source": [
    "<a id='ttest'></a>\n",
    "## B. Paired t-tests\n",
    "Here we will run one-tailed paired t-tests, at 5% significance level, to establish if any model's F1-Score is statistically higher than another.\n",
    "\n",
    "[Return](#toc)"
   ]
  },
  {
   "cell_type": "code",
   "execution_count": 8,
   "metadata": {},
   "outputs": [],
   "source": [
    "# Testing metrics using paired t-test\n",
    "from scipy import stats\n",
    "\n",
    "def sig_test(model1, model2, metric, typ):\n",
    "    \n",
    "    X = data[data['Model']==model1][metric]\n",
    "    Y = data[data['Model']==model2][metric]\n",
    "    \n",
    "    # t-test for two indpendent samples\n",
    "    # print(stats.ttest_ind(one,two, equal_var=True))\n",
    "\n",
    "    # Paired test\n",
    "    # test stat from X-Y, two tailed test by default\n",
    "    # Right tailed (X-Y)>0, test-stat>0 then p-value becomes pvalue/2\n",
    "    #                       test-stat<0 then p-value becomes 1-pvalue/2\n",
    "    # Left tailed (X-Y)<0,  test-stat>0 then p=value becomes 1-pvalue/2\n",
    "    #                       test-stat<0 then p=value becomes pvalue/2 \n",
    "    \n",
    "    # H0: Mean of <metric> from model1 =< mean of <metric> from model2\n",
    "    # Ha: Mean of <metric> from model1  > mean of <metric> from model2\n",
    "        \n",
    "    # t-test for paired samples\n",
    "    stat, p = stats.ttest_rel(X,Y)\n",
    "    if typ=='greater' and stat>0:\n",
    "        return (stat, p/2)\n",
    "    if typ=='greater' and stat<0:\n",
    "        return (stat, 1-p/2)\n",
    "    if typ=='lower' and stat>0:\n",
    "        return (stat, 1-p/2)\n",
    "    if typ=='lower' and stat<0:\n",
    "        return (stat, p/2)\n",
    "    if typ=='different':\n",
    "        return (stat, p)"
   ]
  },
  {
   "cell_type": "code",
   "execution_count": 9,
   "metadata": {},
   "outputs": [
    {
     "name": "stdout",
     "output_type": "stream",
     "text": [
      "Testing F1-Score: Is Random Forest significantly higher than Logistic Regression?\n",
      "H_0: Random Forest <= Logistic Regression\n",
      "H_a: Random Forest > Logistic Regression\n",
      "t-statistic 27.0509, p-value: 3.1223898635376625e-10\n"
     ]
    }
   ],
   "source": [
    "# Testing Random Forest against Logistic Regression\n",
    "print(\"Testing F1-Score: Is Random Forest significantly higher than Logistic Regression?\\nH_0: Random Forest <= Logistic Regression\\nH_a: Random Forest > Logistic Regression\")\n",
    "stat, p = sig_test('Random Forest', 'Logistic Regression', 'F1Score', 'greater')\n",
    "print('t-statistic {:.4f}, p-value: {}'.format(stat,p))"
   ]
  },
  {
   "cell_type": "markdown",
   "metadata": {},
   "source": [
    "Based on the p-value, which is well below 5% (and well below 5%/3 if a Bonferroni correction is desired), Random Forest's F1-Score is significantly higher than Logistic Regression's F1-Score."
   ]
  },
  {
   "cell_type": "code",
   "execution_count": 10,
   "metadata": {},
   "outputs": [
    {
     "name": "stdout",
     "output_type": "stream",
     "text": [
      "Testing F1-Score: Is AdaBoost significantly higher than Logistic Regression?\n",
      "H_0: AdaBoost <= Logistic Regression\n",
      "H_a: AdaBoost > Logistic Regression\n",
      "t-statistic 40.5877, p-value: 8.329278796488487e-12\n"
     ]
    }
   ],
   "source": [
    "# Testing AdaBoost against Logistic Regression\n",
    "print(\"Testing F1-Score: Is AdaBoost significantly higher than Logistic Regression?\\nH_0: AdaBoost <= Logistic Regression\\nH_a: AdaBoost > Logistic Regression\")\n",
    "stat, p = sig_test('AdaBoost', 'Logistic Regression', 'F1Score', 'greater')\n",
    "print('t-statistic {:.4f}, p-value: {}'.format(stat,p))"
   ]
  },
  {
   "cell_type": "markdown",
   "metadata": {},
   "source": [
    "Based on the p-value, which is well below 5% (and well below 5%/3 if a Bonferroni correction is desired), AdaBoost's F1-Score is significantly higher than Logistic Regression's F1-Score."
   ]
  },
  {
   "cell_type": "code",
   "execution_count": 11,
   "metadata": {},
   "outputs": [
    {
     "name": "stdout",
     "output_type": "stream",
     "text": [
      "Testing F1-Score: Is AdaBoost significantly higher than Random Forest?\n",
      "H_0: AdaBoost <= Random Forest\n",
      "H_a: AdaBoost > Random Forest\n",
      "t-statistic 5.0979, p-value: 0.00032348277550732913\n"
     ]
    }
   ],
   "source": [
    "# Testing AdaBoost against Random Forest\n",
    "print(\"Testing F1-Score: Is AdaBoost significantly higher than Random Forest?\\nH_0: AdaBoost <= Random Forest\\nH_a: AdaBoost > Random Forest\")\n",
    "stat, p = sig_test('AdaBoost', 'Random Forest', 'F1Score', 'greater')\n",
    "print('t-statistic {:.4f}, p-value: {}'.format(stat,p))"
   ]
  },
  {
   "cell_type": "markdown",
   "metadata": {},
   "source": [
    "Based on the p-value, which is less than 5% (and less than 5%/3 if a Bonferroni correction is desired), AdaBoost's F1-Score is significantly higher than Random Forest's F1-Score.\n",
    "\n",
    "Based on F1-Scores, AdaBoost has statistically significant better performance than the other two models."
   ]
  }
 ],
 "metadata": {
  "kernelspec": {
   "display_name": "Python 3",
   "language": "python",
   "name": "python3"
  },
  "language_info": {
   "codemirror_mode": {
    "name": "ipython",
    "version": 3
   },
   "file_extension": ".py",
   "mimetype": "text/x-python",
   "name": "python",
   "nbconvert_exporter": "python",
   "pygments_lexer": "ipython3",
   "version": "3.6.6"
  }
 },
 "nbformat": 4,
 "nbformat_minor": 2
}
