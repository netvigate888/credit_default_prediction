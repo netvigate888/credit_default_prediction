{
 "cells": [
  {
   "cell_type": "markdown",
   "metadata": {},
   "source": [
    "<a id='toc'></a>\n",
    "# Initial Processing \n",
    "In this notebook, we take a first look at the data, check dimensions, count missing values, clean up some inconsistent values, remove some low variance attributes and delete an attribute that may be corrupt.\n",
    "\n",
    "1. [Setting up the Environment](#envir)\n",
    "1. [Read in the Data](#read)\n",
    "1. [Check Dimensions and Attribute Types for Each Dataframe](#check)\n",
    "4. [Check Balance of Target Variable](#bal)\n",
    "5. [Examine Missing Values](#miss)\n",
    "6. [Checking Data Types](#types)\n",
    "7. [Checking Summary Statistics, Distributions and Consistency for Numeric Attributes](#num)\n",
    "    1. [Checking 'app' Dataframe](#appint)\n",
    "        1. [First check integer type attributes](#appint)\n",
    "        1. [Now check float type attributes](#appfloat)\n",
    "    1. [Checking 'bureau' Dataframe](#burint)\n",
    "        1. [First check integer type attributes](#burint)\n",
    "        1. [Now check the float type attributes](#burfloat)\n",
    "    1. [Checking 'bureau_balance' Dataframe](#burbal)\n",
    "8. [Checking Levels of Categorical Attributes](#cat)\n",
    "    1. [Checking the dataframe 'app'](#appcat)\n",
    "    1. [Checking the dataframe 'bureau'](#burcat)\n",
    "    1. [Checking the dataframe 'bureau_balance'](#balcat)\n",
    "9. [Outputing the Updated Dataframes for Use in Next Steps](#out)     "
   ]
  },
  {
   "cell_type": "markdown",
   "metadata": {},
   "source": [
    "<a id='envir'></a>\n",
    "# 1. Setting up the Environment\n",
    "\n",
    "[Return](#toc)"
   ]
  },
  {
   "cell_type": "code",
   "execution_count": 13,
   "metadata": {},
   "outputs": [],
   "source": [
    "import pandas as pd\n",
    "import numpy as np\n",
    "import matplotlib.pyplot as plt\n",
    "from numpy import nan as NaN\n",
    "import os\n",
    "import warnings\n",
    "warnings.filterwarnings('ignore')\n",
    "pd.options.display.max_rows = 150\n",
    "pd.options.display.max_columns = 125"
   ]
  },
  {
   "cell_type": "code",
   "execution_count": 2,
   "metadata": {},
   "outputs": [
    {
     "name": "stdout",
     "output_type": "stream",
     "text": [
      "['application_train.csv', 'app_with_features', 'bureau.csv', 'bureau_balance.csv', 'credit_card_balance.csv', 'initial_output', 'installments_payments.csv', 'POS_CASH_balance.csv', 'previous_application.csv']\n"
     ]
    }
   ],
   "source": [
    "# Creates a list of file names in directory\n",
    "files = os.listdir(\"C:/Users/X/Documents/A_Documents/Cap_Data/CSV\")\n",
    "print(files)"
   ]
  },
  {
   "cell_type": "markdown",
   "metadata": {},
   "source": [
    "<a id='read'></a>\n",
    "# 2. Read in the Data\n",
    "The main dataframe containing the application data will be 'app'.  \n",
    "The credit bureau data will be in 'bureau'.  \n",
    "The credit bureau time sequence data will be in 'bureau_balance'.  \n",
    "\n",
    "[Return](#toc)"
   ]
  },
  {
   "cell_type": "code",
   "execution_count": 35,
   "metadata": {},
   "outputs": [],
   "source": [
    "# Read in the files\n",
    "path = 'C:/Users/X/Documents/A_Documents/Cap_Data/CSV/'\n",
    "app = pd.read_csv(path + 'application_train.csv')\n",
    "bureau = pd.read_csv(path + 'bureau.csv')\n",
    "bureau_balance = pd.read_csv(path + 'bureau_balance.csv')\n",
    "prev_app = pd.read_csv(path + 'previous_application.csv')\n",
    "pos_cash_bal = pd.read_csv(path + 'pos_cash_balance.csv')\n",
    "instal_pay = pd.read_csv(path + 'installments_payments.csv')\n",
    "credit_card_bal = pd.read_csv(path + 'credit_card_balance.csv')\n",
    "\n",
    "# A list of lists to hold dataframes and their names for looping below\n",
    "dfs = [[app, 'app'], [bureau, 'bureau'], [bureau_balance, 'bureau_balance'], [prev_app, 'prev_app'], [pos_cash_bal, 'pos_cash_bal'], [instal_pay, 'instal_pay'], [credit_card_bal, 'credit_card_bal']]\n"
   ]
  },
  {
   "cell_type": "markdown",
   "metadata": {},
   "source": [
    "<a id='check'></a>\n",
    "# 3. Check Dimensions and Attribute Types for Each Dataframe\n",
    "\n",
    "[Return](#toc)"
   ]
  },
  {
   "cell_type": "code",
   "execution_count": 4,
   "metadata": {},
   "outputs": [
    {
     "data": {
      "text/html": [
       "<div>\n",
       "<style scoped>\n",
       "    .dataframe tbody tr th:only-of-type {\n",
       "        vertical-align: middle;\n",
       "    }\n",
       "\n",
       "    .dataframe tbody tr th {\n",
       "        vertical-align: top;\n",
       "    }\n",
       "\n",
       "    .dataframe thead th {\n",
       "        text-align: right;\n",
       "    }\n",
       "</style>\n",
       "<table border=\"1\" class=\"dataframe\">\n",
       "  <thead>\n",
       "    <tr style=\"text-align: right;\">\n",
       "      <th></th>\n",
       "      <th>app</th>\n",
       "      <th>bureau</th>\n",
       "      <th>bureau_balance</th>\n",
       "      <th>prev_app</th>\n",
       "      <th>pos_cash_bal</th>\n",
       "      <th>instal_pay</th>\n",
       "      <th>credit_card_bal</th>\n",
       "    </tr>\n",
       "  </thead>\n",
       "  <tbody>\n",
       "    <tr>\n",
       "      <th>Attributes</th>\n",
       "      <td>122</td>\n",
       "      <td>17</td>\n",
       "      <td>3</td>\n",
       "      <td>37</td>\n",
       "      <td>8</td>\n",
       "      <td>8</td>\n",
       "      <td>23</td>\n",
       "    </tr>\n",
       "    <tr>\n",
       "      <th>Observations</th>\n",
       "      <td>307511</td>\n",
       "      <td>1716428</td>\n",
       "      <td>27299925</td>\n",
       "      <td>1670214</td>\n",
       "      <td>10001358</td>\n",
       "      <td>13605401</td>\n",
       "      <td>3840312</td>\n",
       "    </tr>\n",
       "    <tr>\n",
       "      <th>Categorical</th>\n",
       "      <td>16</td>\n",
       "      <td>3</td>\n",
       "      <td>1</td>\n",
       "      <td>16</td>\n",
       "      <td>1</td>\n",
       "      <td>0</td>\n",
       "      <td>1</td>\n",
       "    </tr>\n",
       "    <tr>\n",
       "      <th>Numeric</th>\n",
       "      <td>106</td>\n",
       "      <td>14</td>\n",
       "      <td>2</td>\n",
       "      <td>21</td>\n",
       "      <td>7</td>\n",
       "      <td>8</td>\n",
       "      <td>22</td>\n",
       "    </tr>\n",
       "  </tbody>\n",
       "</table>\n",
       "</div>"
      ],
      "text/plain": [
       "                 app   bureau  bureau_balance  prev_app  pos_cash_bal  \\\n",
       "Attributes       122       17               3        37             8   \n",
       "Observations  307511  1716428        27299925   1670214      10001358   \n",
       "Categorical       16        3               1        16             1   \n",
       "Numeric          106       14               2        21             7   \n",
       "\n",
       "              instal_pay  credit_card_bal  \n",
       "Attributes             8               23  \n",
       "Observations    13605401          3840312  \n",
       "Categorical            0                1  \n",
       "Numeric                8               22  "
      ]
     },
     "execution_count": 4,
     "metadata": {},
     "output_type": "execute_result"
    }
   ],
   "source": [
    "# Count the columns, rows, numeric and catorgorical attributes\n",
    "\n",
    "# Set up empty dataframe to hold values\n",
    "info_table = pd.DataFrame(index = ['Attributes', 'Observations', 'Categorical', 'Numeric'])\n",
    "\n",
    "# loop through all dataframes and populate the info_table with values\n",
    "for pair in dfs:\n",
    "    rows = pair[0].shape[0]\n",
    "    cols = pair[0].shape[1]\n",
    "    cat = sum(pair[0].dtypes == 'object')\n",
    "    num = sum(pair[0].dtypes != 'object')\n",
    "    info_table[pair[1]] = [cols, rows, cat, num]\n",
    "\n",
    "info_table\n",
    "\n",
    "# info_table.to_html('table.html')"
   ]
  },
  {
   "cell_type": "markdown",
   "metadata": {},
   "source": [
    "<a id='bal'></a>\n",
    "# 4. Check Balance of Target Variable\n",
    "We have a very imbalanced target variable. This will need addressing when the prediction experiment is setup.\n",
    "\n",
    "[Return](#toc)"
   ]
  },
  {
   "cell_type": "code",
   "execution_count": 5,
   "metadata": {},
   "outputs": [
    {
     "data": {
      "text/html": [
       "<div>\n",
       "<style scoped>\n",
       "    .dataframe tbody tr th:only-of-type {\n",
       "        vertical-align: middle;\n",
       "    }\n",
       "\n",
       "    .dataframe tbody tr th {\n",
       "        vertical-align: top;\n",
       "    }\n",
       "\n",
       "    .dataframe thead th {\n",
       "        text-align: right;\n",
       "    }\n",
       "</style>\n",
       "<table border=\"1\" class=\"dataframe\">\n",
       "  <thead>\n",
       "    <tr style=\"text-align: right;\">\n",
       "      <th></th>\n",
       "      <th>Count</th>\n",
       "      <th>Percent (%)</th>\n",
       "    </tr>\n",
       "  </thead>\n",
       "  <tbody>\n",
       "    <tr>\n",
       "      <th>0</th>\n",
       "      <td>282686</td>\n",
       "      <td>91.9</td>\n",
       "    </tr>\n",
       "    <tr>\n",
       "      <th>1</th>\n",
       "      <td>24825</td>\n",
       "      <td>8.1</td>\n",
       "    </tr>\n",
       "  </tbody>\n",
       "</table>\n",
       "</div>"
      ],
      "text/plain": [
       "    Count  Percent (%)\n",
       "0  282686         91.9\n",
       "1   24825          8.1"
      ]
     },
     "execution_count": 5,
     "metadata": {},
     "output_type": "execute_result"
    }
   ],
   "source": [
    "# Check the balance of the TARGET variable\n",
    "# print(app['TARGET'].value_counts(dropna=False))\n",
    "pd.DataFrame({'Count':app['TARGET'].value_counts(), \\\n",
    "'Percent (%)':round(app['TARGET'].value_counts()/len(app)*100,1)})"
   ]
  },
  {
   "cell_type": "code",
   "execution_count": 6,
   "metadata": {},
   "outputs": [
    {
     "data": {
      "image/png": "[encoded data removed]",
      "text/plain": [
       "<Figure size 432x288 with 1 Axes>"
      ]
     },
     "metadata": {
      "needs_background": "light"
     },
     "output_type": "display_data"
    }
   ],
   "source": [
    "# Output a histogram to png file\n",
    "app['TARGET'].plot.hist(title = 'Target Variable');\n",
    "# plt.savefig('target_hist.png', bbox_inches='tight')\n",
    "# plt.close()"
   ]
  },
  {
   "cell_type": "markdown",
   "metadata": {},
   "source": [
    "<a id='miss'></a>\n",
    "# 5. Examine Missing Values\n",
    "Here we are checking the missing values counts for all dataframes. Removing or imputing missing values will be addressed later.\n",
    "\n",
    "[Return](#toc)"
   ]
  },
  {
   "cell_type": "code",
   "execution_count": 7,
   "metadata": {},
   "outputs": [
    {
     "data": {
      "text/html": [
       "<div>\n",
       "<style scoped>\n",
       "    .dataframe tbody tr th:only-of-type {\n",
       "        vertical-align: middle;\n",
       "    }\n",
       "\n",
       "    .dataframe tbody tr th {\n",
       "        vertical-align: top;\n",
       "    }\n",
       "\n",
       "    .dataframe thead th {\n",
       "        text-align: right;\n",
       "    }\n",
       "</style>\n",
       "<table border=\"1\" class=\"dataframe\">\n",
       "  <thead>\n",
       "    <tr style=\"text-align: right;\">\n",
       "      <th></th>\n",
       "      <th>app</th>\n",
       "      <th>bureau</th>\n",
       "      <th>bureau_balance</th>\n",
       "      <th>prev_app</th>\n",
       "      <th>pos_cash_bal</th>\n",
       "      <th>instal_pay</th>\n",
       "      <th>credit_card_bal</th>\n",
       "    </tr>\n",
       "  </thead>\n",
       "  <tbody>\n",
       "    <tr>\n",
       "      <th>Attributes</th>\n",
       "      <td>122</td>\n",
       "      <td>17</td>\n",
       "      <td>3</td>\n",
       "      <td>37</td>\n",
       "      <td>8</td>\n",
       "      <td>8</td>\n",
       "      <td>23</td>\n",
       "    </tr>\n",
       "    <tr>\n",
       "      <th>Attributes with Missing Values</th>\n",
       "      <td>67</td>\n",
       "      <td>7</td>\n",
       "      <td>0</td>\n",
       "      <td>16</td>\n",
       "      <td>2</td>\n",
       "      <td>2</td>\n",
       "      <td>9</td>\n",
       "    </tr>\n",
       "    <tr>\n",
       "      <th>Attributes with Missing Values &gt; 60%</th>\n",
       "      <td>17</td>\n",
       "      <td>2</td>\n",
       "      <td>0</td>\n",
       "      <td>2</td>\n",
       "      <td>0</td>\n",
       "      <td>0</td>\n",
       "      <td>0</td>\n",
       "    </tr>\n",
       "    <tr>\n",
       "      <th>Observations</th>\n",
       "      <td>307511</td>\n",
       "      <td>1716428</td>\n",
       "      <td>27299925</td>\n",
       "      <td>1670214</td>\n",
       "      <td>10001358</td>\n",
       "      <td>13605401</td>\n",
       "      <td>3840312</td>\n",
       "    </tr>\n",
       "    <tr>\n",
       "      <th>Observations with Missing Values</th>\n",
       "      <td>298909</td>\n",
       "      <td>1676762</td>\n",
       "      <td>0</td>\n",
       "      <td>1670143</td>\n",
       "      <td>26184</td>\n",
       "      <td>2905</td>\n",
       "      <td>826036</td>\n",
       "    </tr>\n",
       "    <tr>\n",
       "      <th>Observations with Missing Values &gt; 50%</th>\n",
       "      <td>0</td>\n",
       "      <td>0</td>\n",
       "      <td>0</td>\n",
       "      <td>0</td>\n",
       "      <td>0</td>\n",
       "      <td>0</td>\n",
       "      <td>0</td>\n",
       "    </tr>\n",
       "  </tbody>\n",
       "</table>\n",
       "</div>"
      ],
      "text/plain": [
       "                                           app   bureau  bureau_balance  \\\n",
       "Attributes                                 122       17               3   \n",
       "Attributes with Missing Values              67        7               0   \n",
       "Attributes with Missing Values > 60%        17        2               0   \n",
       "Observations                            307511  1716428        27299925   \n",
       "Observations with Missing Values        298909  1676762               0   \n",
       "Observations with Missing Values > 50%       0        0               0   \n",
       "\n",
       "                                        prev_app  pos_cash_bal  instal_pay  \\\n",
       "Attributes                                    37             8           8   \n",
       "Attributes with Missing Values                16             2           2   \n",
       "Attributes with Missing Values > 60%           2             0           0   \n",
       "Observations                             1670214      10001358    13605401   \n",
       "Observations with Missing Values         1670143         26184        2905   \n",
       "Observations with Missing Values > 50%         0             0           0   \n",
       "\n",
       "                                        credit_card_bal  \n",
       "Attributes                                           23  \n",
       "Attributes with Missing Values                        9  \n",
       "Attributes with Missing Values > 60%                  0  \n",
       "Observations                                    3840312  \n",
       "Observations with Missing Values                 826036  \n",
       "Observations with Missing Values > 50%                0  "
      ]
     },
     "execution_count": 7,
     "metadata": {},
     "output_type": "execute_result"
    }
   ],
   "source": [
    "# Count attributes and observations with missing values\n",
    "\n",
    "def missing_values(df, name, p, q):\n",
    "    \"\"\" \n",
    "    Function to calculate number of missing values in attributes and observations.\n",
    "    df: dataframe\n",
    "    names: name of dataframe\n",
    "    p: theshold used to calculate number of attributes with missing values > p%\n",
    "    q: theshold used to calculate number of observations with missing values > q%\n",
    "    \"\"\"\n",
    "    # Set up empty dataframe to hold results\n",
    "    results = pd.DataFrame(index = ['Attributes', 'Attributes with Missing Values', 'Attributes with Missing Values > '+str(p)+'%', \\\n",
    "                                   'Observations', 'Observations with Missing Values', 'Observations with Missing Values > '+str(q)+'%'])\n",
    "    \n",
    "    # Number of columns\n",
    "    cols = df.shape[1]\n",
    "    # Calculate number of missing values in each column\n",
    "    no_mis_val_in_col = df.isnull().sum()  #sum() acts on cols in dataframe -> defaults to sum(axis=0)\n",
    "    #Count number of cols with missing values\n",
    "    no_col_with_mis_val = sum(no_mis_val_in_col != 0)\n",
    "    # Calculate % of missing values in each column\n",
    "    percent_mis_val_in_col = round(no_mis_val_in_col / len(df) * 100, 1) \n",
    "    # Calculate number of cols with missing values > p%\n",
    "    no_cols_greater_p = sum(percent_mis_val_in_col > p)\n",
    "    \n",
    "    # Number of rows\n",
    "    rows = len(df)\n",
    "    # Calculate number of missing values in each row\n",
    "    no_mis_val_in_row = df.isnull().sum(axis = 1)\n",
    "    # Count number of rows with missing values\n",
    "    no_rows_with_mis_val = np.count_nonzero(no_mis_val_in_row)\n",
    "    # Calculate % of missing values in each row\n",
    "    percent_mis_val_in_row = round(no_mis_val_in_row / cols * 100, 1)\n",
    "    # Calculate number of rows with missing values > q%\n",
    "    no_rows_greater_p = np.count_nonzero(percent_mis_val_in_row > q)\n",
    "    \n",
    "    \n",
    "    results[name] = [cols, no_col_with_mis_val, no_cols_greater_p, rows, no_rows_with_mis_val, no_rows_greater_p]\n",
    "    return results\n",
    "\n",
    "hold = pd.DataFrame()\n",
    "i = 1\n",
    "p = 60\n",
    "q = 50\n",
    "for pair in dfs:\n",
    "    if i == 1:\n",
    "        hold = missing_values(pair[0], pair[1], p, q)\n",
    "    else: \n",
    "        hold = pd.merge(hold, missing_values(pair[0], pair[1], p, q), left_index=True, right_index=True)\n",
    "    i += 1\n",
    "hold"
   ]
  },
  {
   "cell_type": "markdown",
   "metadata": {},
   "source": [
    "For our initial three dataframes of interest ('app', 'bureau' and 'bureau_balance'), let's check the missing values by attribute."
   ]
  },
  {
   "cell_type": "code",
   "execution_count": 8,
   "metadata": {},
   "outputs": [
    {
     "name": "stdout",
     "output_type": "stream",
     "text": [
      "app Attributes with Missing Values > 60%\n",
      "\n",
      "                          Number  Percent (%)\n",
      "COMMONAREA_MEDI           214865         69.9\n",
      "COMMONAREA_AVG            214865         69.9\n",
      "COMMONAREA_MODE           214865         69.9\n",
      "NONLIVINGAPARTMENTS_MEDI  213514         69.4\n",
      "NONLIVINGAPARTMENTS_AVG   213514         69.4\n",
      "NONLIVINGAPARTMENTS_MODE  213514         69.4\n",
      "FONDKAPREMONT_MODE        210295         68.4\n",
      "LIVINGAPARTMENTS_AVG      210199         68.4\n",
      "LIVINGAPARTMENTS_MEDI     210199         68.4\n",
      "LIVINGAPARTMENTS_MODE     210199         68.4\n",
      "FLOORSMIN_MEDI            208642         67.8\n",
      "FLOORSMIN_MODE            208642         67.8\n",
      "FLOORSMIN_AVG             208642         67.8\n",
      "YEARS_BUILD_MEDI          204488         66.5\n",
      "YEARS_BUILD_AVG           204488         66.5\n",
      "YEARS_BUILD_MODE          204488         66.5\n",
      "OWN_CAR_AGE               202929         66.0\n",
      "\n",
      "bureau Attributes with Missing Values > 60%\n",
      "\n",
      "                         Number  Percent (%)\n",
      "AMT_ANNUITY             1226791         71.5\n",
      "AMT_CREDIT_MAX_OVERDUE  1124488         65.5\n",
      "\n",
      "bureau_balance Attributes with Missing Values > 60%\n",
      "Empty DataFrame\n",
      "Columns: [Number, Percent (%)]\n",
      "Index: []\n"
     ]
    }
   ],
   "source": [
    "# Function to show number and percentage of missing missing values (above p%) by column name\n",
    "def att_missing_values(df, p):\n",
    "    #Calculate number of missing values in each column\n",
    "    no_mis_val_in_col = df.isnull().sum()\n",
    "    #Calculate percentage of missing values in each column\n",
    "    percent_mis_val_in_col = round(no_mis_val_in_col / len(df) * 100, 1)\n",
    "    #Put results in a dataframe\n",
    "    results = pd.DataFrame({'Number':no_mis_val_in_col, \"Percent (%)\":percent_mis_val_in_col}, index = df.columns)\n",
    "    # Filter out attributes with missing values below p%\n",
    "    results = results[results['Percent (%)']>p]\n",
    "    return results\n",
    "\n",
    "p=60\n",
    "print(\"app Attributes with Missing Values > \"+str(p)+\"%\\n\")\n",
    "print(att_missing_values(app, p).sort_values(by='Percent (%)', ascending=False))\n",
    "print(\"\\nbureau Attributes with Missing Values > \"+str(p)+\"%\\n\")\n",
    "print(att_missing_values(bureau, p).sort_values(by='Percent (%)', ascending=False))\n",
    "print(\"\\nbureau_balance Attributes with Missing Values > \"+str(p)+\"%\")\n",
    "print(att_missing_values(bureau_balance, p).sort_values(by='Percent (%)', ascending=False))"
   ]
  },
  {
   "cell_type": "markdown",
   "metadata": {},
   "source": [
    "There is only one attribute with missing values above 70%. We will not remove any attributes at this time."
   ]
  },
  {
   "cell_type": "markdown",
   "metadata": {},
   "source": [
    "<a id='types'></a>\n",
    "# 6. Checking Data Types\n",
    "Check the data types for attributes in the initial three dataframes of interest ('app', 'bureau' and 'bureau_balance').\n",
    "\n",
    "All data types look fine.\n",
    "\n",
    "[Return](#toc)"
   ]
  },
  {
   "cell_type": "code",
   "execution_count": 9,
   "metadata": {},
   "outputs": [
    {
     "name": "stdout",
     "output_type": "stream",
     "text": [
      "app Data Types\n",
      "\n",
      "SK_ID_CURR                        int64\n",
      "TARGET                            int64\n",
      "NAME_CONTRACT_TYPE               object\n",
      "CODE_GENDER                      object\n",
      "FLAG_OWN_CAR                     object\n",
      "FLAG_OWN_REALTY                  object\n",
      "CNT_CHILDREN                      int64\n",
      "AMT_INCOME_TOTAL                float64\n",
      "AMT_CREDIT                      float64\n",
      "AMT_ANNUITY                     float64\n",
      "AMT_GOODS_PRICE                 float64\n",
      "NAME_TYPE_SUITE                  object\n",
      "NAME_INCOME_TYPE                 object\n",
      "NAME_EDUCATION_TYPE              object\n",
      "NAME_FAMILY_STATUS               object\n",
      "NAME_HOUSING_TYPE                object\n",
      "REGION_POPULATION_RELATIVE      float64\n",
      "DAYS_BIRTH                        int64\n",
      "DAYS_EMPLOYED                     int64\n",
      "DAYS_REGISTRATION               float64\n",
      "DAYS_ID_PUBLISH                   int64\n",
      "OWN_CAR_AGE                     float64\n",
      "FLAG_MOBIL                        int64\n",
      "FLAG_EMP_PHONE                    int64\n",
      "FLAG_WORK_PHONE                   int64\n",
      "FLAG_CONT_MOBILE                  int64\n",
      "FLAG_PHONE                        int64\n",
      "FLAG_EMAIL                        int64\n",
      "OCCUPATION_TYPE                  object\n",
      "CNT_FAM_MEMBERS                 float64\n",
      "REGION_RATING_CLIENT              int64\n",
      "REGION_RATING_CLIENT_W_CITY       int64\n",
      "WEEKDAY_APPR_PROCESS_START       object\n",
      "HOUR_APPR_PROCESS_START           int64\n",
      "REG_REGION_NOT_LIVE_REGION        int64\n",
      "REG_REGION_NOT_WORK_REGION        int64\n",
      "LIVE_REGION_NOT_WORK_REGION       int64\n",
      "REG_CITY_NOT_LIVE_CITY            int64\n",
      "REG_CITY_NOT_WORK_CITY            int64\n",
      "LIVE_CITY_NOT_WORK_CITY           int64\n",
      "ORGANIZATION_TYPE                object\n",
      "EXT_SOURCE_1                    float64\n",
      "EXT_SOURCE_2                    float64\n",
      "EXT_SOURCE_3                    float64\n",
      "APARTMENTS_AVG                  float64\n",
      "BASEMENTAREA_AVG                float64\n",
      "YEARS_BEGINEXPLUATATION_AVG     float64\n",
      "YEARS_BUILD_AVG                 float64\n",
      "COMMONAREA_AVG                  float64\n",
      "ELEVATORS_AVG                   float64\n",
      "ENTRANCES_AVG                   float64\n",
      "FLOORSMAX_AVG                   float64\n",
      "FLOORSMIN_AVG                   float64\n",
      "LANDAREA_AVG                    float64\n",
      "LIVINGAPARTMENTS_AVG            float64\n",
      "LIVINGAREA_AVG                  float64\n",
      "NONLIVINGAPARTMENTS_AVG         float64\n",
      "NONLIVINGAREA_AVG               float64\n",
      "APARTMENTS_MODE                 float64\n",
      "BASEMENTAREA_MODE               float64\n",
      "YEARS_BEGINEXPLUATATION_MODE    float64\n",
      "YEARS_BUILD_MODE                float64\n",
      "COMMONAREA_MODE                 float64\n",
      "ELEVATORS_MODE                  float64\n",
      "ENTRANCES_MODE                  float64\n",
      "FLOORSMAX_MODE                  float64\n",
      "FLOORSMIN_MODE                  float64\n",
      "LANDAREA_MODE                   float64\n",
      "LIVINGAPARTMENTS_MODE           float64\n",
      "LIVINGAREA_MODE                 float64\n",
      "NONLIVINGAPARTMENTS_MODE        float64\n",
      "NONLIVINGAREA_MODE              float64\n",
      "APARTMENTS_MEDI                 float64\n",
      "BASEMENTAREA_MEDI               float64\n",
      "YEARS_BEGINEXPLUATATION_MEDI    float64\n",
      "YEARS_BUILD_MEDI                float64\n",
      "COMMONAREA_MEDI                 float64\n",
      "ELEVATORS_MEDI                  float64\n",
      "ENTRANCES_MEDI                  float64\n",
      "FLOORSMAX_MEDI                  float64\n",
      "FLOORSMIN_MEDI                  float64\n",
      "LANDAREA_MEDI                   float64\n",
      "LIVINGAPARTMENTS_MEDI           float64\n",
      "LIVINGAREA_MEDI                 float64\n",
      "NONLIVINGAPARTMENTS_MEDI        float64\n",
      "NONLIVINGAREA_MEDI              float64\n",
      "FONDKAPREMONT_MODE               object\n",
      "HOUSETYPE_MODE                   object\n",
      "TOTALAREA_MODE                  float64\n",
      "WALLSMATERIAL_MODE               object\n",
      "EMERGENCYSTATE_MODE              object\n",
      "OBS_30_CNT_SOCIAL_CIRCLE        float64\n",
      "DEF_30_CNT_SOCIAL_CIRCLE        float64\n",
      "OBS_60_CNT_SOCIAL_CIRCLE        float64\n",
      "DEF_60_CNT_SOCIAL_CIRCLE        float64\n",
      "DAYS_LAST_PHONE_CHANGE          float64\n",
      "FLAG_DOCUMENT_2                   int64\n",
      "FLAG_DOCUMENT_3                   int64\n",
      "FLAG_DOCUMENT_4                   int64\n",
      "FLAG_DOCUMENT_5                   int64\n",
      "FLAG_DOCUMENT_6                   int64\n",
      "FLAG_DOCUMENT_7                   int64\n",
      "FLAG_DOCUMENT_8                   int64\n",
      "FLAG_DOCUMENT_9                   int64\n",
      "FLAG_DOCUMENT_10                  int64\n",
      "FLAG_DOCUMENT_11                  int64\n",
      "FLAG_DOCUMENT_12                  int64\n",
      "FLAG_DOCUMENT_13                  int64\n",
      "FLAG_DOCUMENT_14                  int64\n",
      "FLAG_DOCUMENT_15                  int64\n",
      "FLAG_DOCUMENT_16                  int64\n",
      "FLAG_DOCUMENT_17                  int64\n",
      "FLAG_DOCUMENT_18                  int64\n",
      "FLAG_DOCUMENT_19                  int64\n",
      "FLAG_DOCUMENT_20                  int64\n",
      "FLAG_DOCUMENT_21                  int64\n",
      "AMT_REQ_CREDIT_BUREAU_HOUR      float64\n",
      "AMT_REQ_CREDIT_BUREAU_DAY       float64\n",
      "AMT_REQ_CREDIT_BUREAU_WEEK      float64\n",
      "AMT_REQ_CREDIT_BUREAU_MON       float64\n",
      "AMT_REQ_CREDIT_BUREAU_QRT       float64\n",
      "AMT_REQ_CREDIT_BUREAU_YEAR      float64\n",
      "dtype: object\n",
      "\n",
      "\n",
      "bureau Data Types\n",
      "\n",
      "SK_ID_CURR                  int64\n",
      "SK_ID_BUREAU                int64\n",
      "CREDIT_ACTIVE              object\n",
      "CREDIT_CURRENCY            object\n",
      "DAYS_CREDIT                 int64\n",
      "CREDIT_DAY_OVERDUE          int64\n",
      "DAYS_CREDIT_ENDDATE       float64\n",
      "DAYS_ENDDATE_FACT         float64\n",
      "AMT_CREDIT_MAX_OVERDUE    float64\n",
      "CNT_CREDIT_PROLONG          int64\n",
      "AMT_CREDIT_SUM            float64\n",
      "AMT_CREDIT_SUM_DEBT       float64\n",
      "AMT_CREDIT_SUM_LIMIT      float64\n",
      "AMT_CREDIT_SUM_OVERDUE    float64\n",
      "CREDIT_TYPE                object\n",
      "DAYS_CREDIT_UPDATE          int64\n",
      "AMT_ANNUITY               float64\n",
      "dtype: object\n",
      "\n",
      "\n",
      "bureau_balance Data Types\n",
      "\n",
      "SK_ID_BUREAU       int64\n",
      "MONTHS_BALANCE     int64\n",
      "STATUS            object\n",
      "dtype: object\n",
      "\n",
      "\n"
     ]
    }
   ],
   "source": [
    "# Checking the data types of attributes of app, bureau & bureau_balance\n",
    "print(\"app Data Types\\n\"); print(app.dtypes); print('\\n')\n",
    "print(\"bureau Data Types\\n\"); print(bureau.dtypes); print('\\n')\n",
    "print(\"bureau_balance Data Types\\n\"); print(bureau_balance.dtypes); print('\\n')"
   ]
  },
  {
   "cell_type": "markdown",
   "metadata": {},
   "source": [
    "<a id='num'></a>\n",
    "# 7. Checking Summary Statistics, Distributions and Consistency for Numeric Attributes\n",
    "\n",
    "[Return](#toc)"
   ]
  },
  {
   "cell_type": "markdown",
   "metadata": {},
   "source": [
    "<a id='appint'></a>\n",
    "## A. Checking 'app' Dataframe  \n",
    "### (a) First check integer type attributes\n",
    "\n",
    "[Return](#toc)"
   ]
  },
  {
   "cell_type": "code",
   "execution_count": 10,
   "metadata": {},
   "outputs": [
    {
     "data": {
      "text/html": [
       "<div>\n",
       "<style scoped>\n",
       "    .dataframe tbody tr th:only-of-type {\n",
       "        vertical-align: middle;\n",
       "    }\n",
       "\n",
       "    .dataframe tbody tr th {\n",
       "        vertical-align: top;\n",
       "    }\n",
       "\n",
       "    .dataframe thead th {\n",
       "        text-align: right;\n",
       "    }\n",
       "</style>\n",
       "<table border=\"1\" class=\"dataframe\">\n",
       "  <thead>\n",
       "    <tr style=\"text-align: right;\">\n",
       "      <th></th>\n",
       "      <th>SK_ID_CURR</th>\n",
       "      <th>TARGET</th>\n",
       "      <th>CNT_CHILDREN</th>\n",
       "      <th>DAYS_BIRTH</th>\n",
       "      <th>DAYS_EMPLOYED</th>\n",
       "      <th>DAYS_ID_PUBLISH</th>\n",
       "      <th>FLAG_MOBIL</th>\n",
       "      <th>FLAG_EMP_PHONE</th>\n",
       "      <th>FLAG_WORK_PHONE</th>\n",
       "      <th>FLAG_CONT_MOBILE</th>\n",
       "      <th>FLAG_PHONE</th>\n",
       "      <th>FLAG_EMAIL</th>\n",
       "      <th>REGION_RATING_CLIENT</th>\n",
       "      <th>REGION_RATING_CLIENT_W_CITY</th>\n",
       "      <th>HOUR_APPR_PROCESS_START</th>\n",
       "      <th>REG_REGION_NOT_LIVE_REGION</th>\n",
       "      <th>REG_REGION_NOT_WORK_REGION</th>\n",
       "      <th>LIVE_REGION_NOT_WORK_REGION</th>\n",
       "      <th>REG_CITY_NOT_LIVE_CITY</th>\n",
       "      <th>REG_CITY_NOT_WORK_CITY</th>\n",
       "      <th>LIVE_CITY_NOT_WORK_CITY</th>\n",
       "      <th>FLAG_DOCUMENT_2</th>\n",
       "      <th>FLAG_DOCUMENT_3</th>\n",
       "      <th>FLAG_DOCUMENT_4</th>\n",
       "      <th>FLAG_DOCUMENT_5</th>\n",
       "      <th>FLAG_DOCUMENT_6</th>\n",
       "      <th>FLAG_DOCUMENT_7</th>\n",
       "      <th>FLAG_DOCUMENT_8</th>\n",
       "      <th>FLAG_DOCUMENT_9</th>\n",
       "      <th>FLAG_DOCUMENT_10</th>\n",
       "      <th>FLAG_DOCUMENT_11</th>\n",
       "      <th>FLAG_DOCUMENT_12</th>\n",
       "      <th>FLAG_DOCUMENT_13</th>\n",
       "      <th>FLAG_DOCUMENT_14</th>\n",
       "      <th>FLAG_DOCUMENT_15</th>\n",
       "      <th>FLAG_DOCUMENT_16</th>\n",
       "      <th>FLAG_DOCUMENT_17</th>\n",
       "      <th>FLAG_DOCUMENT_18</th>\n",
       "      <th>FLAG_DOCUMENT_19</th>\n",
       "      <th>FLAG_DOCUMENT_20</th>\n",
       "      <th>FLAG_DOCUMENT_21</th>\n",
       "    </tr>\n",
       "  </thead>\n",
       "  <tbody>\n",
       "    <tr>\n",
       "      <th>count</th>\n",
       "      <td>307511.000000</td>\n",
       "      <td>307511.000000</td>\n",
       "      <td>307511.000000</td>\n",
       "      <td>307511.000000</td>\n",
       "      <td>307511.000000</td>\n",
       "      <td>307511.000000</td>\n",
       "      <td>307511.000000</td>\n",
       "      <td>307511.000000</td>\n",
       "      <td>307511.000000</td>\n",
       "      <td>307511.000000</td>\n",
       "      <td>307511.000000</td>\n",
       "      <td>307511.000000</td>\n",
       "      <td>307511.000000</td>\n",
       "      <td>307511.000000</td>\n",
       "      <td>307511.000000</td>\n",
       "      <td>307511.000000</td>\n",
       "      <td>307511.000000</td>\n",
       "      <td>307511.000000</td>\n",
       "      <td>307511.000000</td>\n",
       "      <td>307511.000000</td>\n",
       "      <td>307511.000000</td>\n",
       "      <td>307511.000000</td>\n",
       "      <td>307511.000000</td>\n",
       "      <td>307511.000000</td>\n",
       "      <td>307511.000000</td>\n",
       "      <td>307511.000000</td>\n",
       "      <td>307511.000000</td>\n",
       "      <td>307511.000000</td>\n",
       "      <td>307511.000000</td>\n",
       "      <td>307511.000000</td>\n",
       "      <td>307511.000000</td>\n",
       "      <td>307511.000000</td>\n",
       "      <td>307511.000000</td>\n",
       "      <td>307511.000000</td>\n",
       "      <td>307511.00000</td>\n",
       "      <td>307511.000000</td>\n",
       "      <td>307511.000000</td>\n",
       "      <td>307511.000000</td>\n",
       "      <td>307511.000000</td>\n",
       "      <td>307511.000000</td>\n",
       "      <td>307511.000000</td>\n",
       "    </tr>\n",
       "    <tr>\n",
       "      <th>mean</th>\n",
       "      <td>278180.518577</td>\n",
       "      <td>0.080729</td>\n",
       "      <td>0.417052</td>\n",
       "      <td>-16036.995067</td>\n",
       "      <td>63815.045904</td>\n",
       "      <td>-2994.202373</td>\n",
       "      <td>0.999997</td>\n",
       "      <td>0.819889</td>\n",
       "      <td>0.199368</td>\n",
       "      <td>0.998133</td>\n",
       "      <td>0.281066</td>\n",
       "      <td>0.056720</td>\n",
       "      <td>2.052463</td>\n",
       "      <td>2.031521</td>\n",
       "      <td>12.063419</td>\n",
       "      <td>0.015144</td>\n",
       "      <td>0.050769</td>\n",
       "      <td>0.040659</td>\n",
       "      <td>0.078173</td>\n",
       "      <td>0.230454</td>\n",
       "      <td>0.179555</td>\n",
       "      <td>0.000042</td>\n",
       "      <td>0.710023</td>\n",
       "      <td>0.000081</td>\n",
       "      <td>0.015115</td>\n",
       "      <td>0.088055</td>\n",
       "      <td>0.000192</td>\n",
       "      <td>0.081376</td>\n",
       "      <td>0.003896</td>\n",
       "      <td>0.000023</td>\n",
       "      <td>0.003912</td>\n",
       "      <td>0.000007</td>\n",
       "      <td>0.003525</td>\n",
       "      <td>0.002936</td>\n",
       "      <td>0.00121</td>\n",
       "      <td>0.009928</td>\n",
       "      <td>0.000267</td>\n",
       "      <td>0.008130</td>\n",
       "      <td>0.000595</td>\n",
       "      <td>0.000507</td>\n",
       "      <td>0.000335</td>\n",
       "    </tr>\n",
       "    <tr>\n",
       "      <th>std</th>\n",
       "      <td>102790.175348</td>\n",
       "      <td>0.272419</td>\n",
       "      <td>0.722121</td>\n",
       "      <td>4363.988632</td>\n",
       "      <td>141275.766519</td>\n",
       "      <td>1509.450419</td>\n",
       "      <td>0.001803</td>\n",
       "      <td>0.384280</td>\n",
       "      <td>0.399526</td>\n",
       "      <td>0.043164</td>\n",
       "      <td>0.449521</td>\n",
       "      <td>0.231307</td>\n",
       "      <td>0.509034</td>\n",
       "      <td>0.502737</td>\n",
       "      <td>3.265832</td>\n",
       "      <td>0.122126</td>\n",
       "      <td>0.219526</td>\n",
       "      <td>0.197499</td>\n",
       "      <td>0.268444</td>\n",
       "      <td>0.421124</td>\n",
       "      <td>0.383817</td>\n",
       "      <td>0.006502</td>\n",
       "      <td>0.453752</td>\n",
       "      <td>0.009016</td>\n",
       "      <td>0.122010</td>\n",
       "      <td>0.283376</td>\n",
       "      <td>0.013850</td>\n",
       "      <td>0.273412</td>\n",
       "      <td>0.062295</td>\n",
       "      <td>0.004771</td>\n",
       "      <td>0.062424</td>\n",
       "      <td>0.002550</td>\n",
       "      <td>0.059268</td>\n",
       "      <td>0.054110</td>\n",
       "      <td>0.03476</td>\n",
       "      <td>0.099144</td>\n",
       "      <td>0.016327</td>\n",
       "      <td>0.089798</td>\n",
       "      <td>0.024387</td>\n",
       "      <td>0.022518</td>\n",
       "      <td>0.018299</td>\n",
       "    </tr>\n",
       "    <tr>\n",
       "      <th>min</th>\n",
       "      <td>100002.000000</td>\n",
       "      <td>0.000000</td>\n",
       "      <td>0.000000</td>\n",
       "      <td>-25229.000000</td>\n",
       "      <td>-17912.000000</td>\n",
       "      <td>-7197.000000</td>\n",
       "      <td>0.000000</td>\n",
       "      <td>0.000000</td>\n",
       "      <td>0.000000</td>\n",
       "      <td>0.000000</td>\n",
       "      <td>0.000000</td>\n",
       "      <td>0.000000</td>\n",
       "      <td>1.000000</td>\n",
       "      <td>1.000000</td>\n",
       "      <td>0.000000</td>\n",
       "      <td>0.000000</td>\n",
       "      <td>0.000000</td>\n",
       "      <td>0.000000</td>\n",
       "      <td>0.000000</td>\n",
       "      <td>0.000000</td>\n",
       "      <td>0.000000</td>\n",
       "      <td>0.000000</td>\n",
       "      <td>0.000000</td>\n",
       "      <td>0.000000</td>\n",
       "      <td>0.000000</td>\n",
       "      <td>0.000000</td>\n",
       "      <td>0.000000</td>\n",
       "      <td>0.000000</td>\n",
       "      <td>0.000000</td>\n",
       "      <td>0.000000</td>\n",
       "      <td>0.000000</td>\n",
       "      <td>0.000000</td>\n",
       "      <td>0.000000</td>\n",
       "      <td>0.000000</td>\n",
       "      <td>0.00000</td>\n",
       "      <td>0.000000</td>\n",
       "      <td>0.000000</td>\n",
       "      <td>0.000000</td>\n",
       "      <td>0.000000</td>\n",
       "      <td>0.000000</td>\n",
       "      <td>0.000000</td>\n",
       "    </tr>\n",
       "    <tr>\n",
       "      <th>25%</th>\n",
       "      <td>189145.500000</td>\n",
       "      <td>0.000000</td>\n",
       "      <td>0.000000</td>\n",
       "      <td>-19682.000000</td>\n",
       "      <td>-2760.000000</td>\n",
       "      <td>-4299.000000</td>\n",
       "      <td>1.000000</td>\n",
       "      <td>1.000000</td>\n",
       "      <td>0.000000</td>\n",
       "      <td>1.000000</td>\n",
       "      <td>0.000000</td>\n",
       "      <td>0.000000</td>\n",
       "      <td>2.000000</td>\n",
       "      <td>2.000000</td>\n",
       "      <td>10.000000</td>\n",
       "      <td>0.000000</td>\n",
       "      <td>0.000000</td>\n",
       "      <td>0.000000</td>\n",
       "      <td>0.000000</td>\n",
       "      <td>0.000000</td>\n",
       "      <td>0.000000</td>\n",
       "      <td>0.000000</td>\n",
       "      <td>0.000000</td>\n",
       "      <td>0.000000</td>\n",
       "      <td>0.000000</td>\n",
       "      <td>0.000000</td>\n",
       "      <td>0.000000</td>\n",
       "      <td>0.000000</td>\n",
       "      <td>0.000000</td>\n",
       "      <td>0.000000</td>\n",
       "      <td>0.000000</td>\n",
       "      <td>0.000000</td>\n",
       "      <td>0.000000</td>\n",
       "      <td>0.000000</td>\n",
       "      <td>0.00000</td>\n",
       "      <td>0.000000</td>\n",
       "      <td>0.000000</td>\n",
       "      <td>0.000000</td>\n",
       "      <td>0.000000</td>\n",
       "      <td>0.000000</td>\n",
       "      <td>0.000000</td>\n",
       "    </tr>\n",
       "    <tr>\n",
       "      <th>50%</th>\n",
       "      <td>278202.000000</td>\n",
       "      <td>0.000000</td>\n",
       "      <td>0.000000</td>\n",
       "      <td>-15750.000000</td>\n",
       "      <td>-1213.000000</td>\n",
       "      <td>-3254.000000</td>\n",
       "      <td>1.000000</td>\n",
       "      <td>1.000000</td>\n",
       "      <td>0.000000</td>\n",
       "      <td>1.000000</td>\n",
       "      <td>0.000000</td>\n",
       "      <td>0.000000</td>\n",
       "      <td>2.000000</td>\n",
       "      <td>2.000000</td>\n",
       "      <td>12.000000</td>\n",
       "      <td>0.000000</td>\n",
       "      <td>0.000000</td>\n",
       "      <td>0.000000</td>\n",
       "      <td>0.000000</td>\n",
       "      <td>0.000000</td>\n",
       "      <td>0.000000</td>\n",
       "      <td>0.000000</td>\n",
       "      <td>1.000000</td>\n",
       "      <td>0.000000</td>\n",
       "      <td>0.000000</td>\n",
       "      <td>0.000000</td>\n",
       "      <td>0.000000</td>\n",
       "      <td>0.000000</td>\n",
       "      <td>0.000000</td>\n",
       "      <td>0.000000</td>\n",
       "      <td>0.000000</td>\n",
       "      <td>0.000000</td>\n",
       "      <td>0.000000</td>\n",
       "      <td>0.000000</td>\n",
       "      <td>0.00000</td>\n",
       "      <td>0.000000</td>\n",
       "      <td>0.000000</td>\n",
       "      <td>0.000000</td>\n",
       "      <td>0.000000</td>\n",
       "      <td>0.000000</td>\n",
       "      <td>0.000000</td>\n",
       "    </tr>\n",
       "    <tr>\n",
       "      <th>75%</th>\n",
       "      <td>367142.500000</td>\n",
       "      <td>0.000000</td>\n",
       "      <td>1.000000</td>\n",
       "      <td>-12413.000000</td>\n",
       "      <td>-289.000000</td>\n",
       "      <td>-1720.000000</td>\n",
       "      <td>1.000000</td>\n",
       "      <td>1.000000</td>\n",
       "      <td>0.000000</td>\n",
       "      <td>1.000000</td>\n",
       "      <td>1.000000</td>\n",
       "      <td>0.000000</td>\n",
       "      <td>2.000000</td>\n",
       "      <td>2.000000</td>\n",
       "      <td>14.000000</td>\n",
       "      <td>0.000000</td>\n",
       "      <td>0.000000</td>\n",
       "      <td>0.000000</td>\n",
       "      <td>0.000000</td>\n",
       "      <td>0.000000</td>\n",
       "      <td>0.000000</td>\n",
       "      <td>0.000000</td>\n",
       "      <td>1.000000</td>\n",
       "      <td>0.000000</td>\n",
       "      <td>0.000000</td>\n",
       "      <td>0.000000</td>\n",
       "      <td>0.000000</td>\n",
       "      <td>0.000000</td>\n",
       "      <td>0.000000</td>\n",
       "      <td>0.000000</td>\n",
       "      <td>0.000000</td>\n",
       "      <td>0.000000</td>\n",
       "      <td>0.000000</td>\n",
       "      <td>0.000000</td>\n",
       "      <td>0.00000</td>\n",
       "      <td>0.000000</td>\n",
       "      <td>0.000000</td>\n",
       "      <td>0.000000</td>\n",
       "      <td>0.000000</td>\n",
       "      <td>0.000000</td>\n",
       "      <td>0.000000</td>\n",
       "    </tr>\n",
       "    <tr>\n",
       "      <th>max</th>\n",
       "      <td>456255.000000</td>\n",
       "      <td>1.000000</td>\n",
       "      <td>19.000000</td>\n",
       "      <td>-7489.000000</td>\n",
       "      <td>365243.000000</td>\n",
       "      <td>0.000000</td>\n",
       "      <td>1.000000</td>\n",
       "      <td>1.000000</td>\n",
       "      <td>1.000000</td>\n",
       "      <td>1.000000</td>\n",
       "      <td>1.000000</td>\n",
       "      <td>1.000000</td>\n",
       "      <td>3.000000</td>\n",
       "      <td>3.000000</td>\n",
       "      <td>23.000000</td>\n",
       "      <td>1.000000</td>\n",
       "      <td>1.000000</td>\n",
       "      <td>1.000000</td>\n",
       "      <td>1.000000</td>\n",
       "      <td>1.000000</td>\n",
       "      <td>1.000000</td>\n",
       "      <td>1.000000</td>\n",
       "      <td>1.000000</td>\n",
       "      <td>1.000000</td>\n",
       "      <td>1.000000</td>\n",
       "      <td>1.000000</td>\n",
       "      <td>1.000000</td>\n",
       "      <td>1.000000</td>\n",
       "      <td>1.000000</td>\n",
       "      <td>1.000000</td>\n",
       "      <td>1.000000</td>\n",
       "      <td>1.000000</td>\n",
       "      <td>1.000000</td>\n",
       "      <td>1.000000</td>\n",
       "      <td>1.00000</td>\n",
       "      <td>1.000000</td>\n",
       "      <td>1.000000</td>\n",
       "      <td>1.000000</td>\n",
       "      <td>1.000000</td>\n",
       "      <td>1.000000</td>\n",
       "      <td>1.000000</td>\n",
       "    </tr>\n",
       "  </tbody>\n",
       "</table>\n",
       "</div>"
      ],
      "text/plain": [
       "          SK_ID_CURR         TARGET   CNT_CHILDREN     DAYS_BIRTH  \\\n",
       "count  307511.000000  307511.000000  307511.000000  307511.000000   \n",
       "mean   278180.518577       0.080729       0.417052  -16036.995067   \n",
       "std    102790.175348       0.272419       0.722121    4363.988632   \n",
       "min    100002.000000       0.000000       0.000000  -25229.000000   \n",
       "25%    189145.500000       0.000000       0.000000  -19682.000000   \n",
       "50%    278202.000000       0.000000       0.000000  -15750.000000   \n",
       "75%    367142.500000       0.000000       1.000000  -12413.000000   \n",
       "max    456255.000000       1.000000      19.000000   -7489.000000   \n",
       "\n",
       "       DAYS_EMPLOYED  DAYS_ID_PUBLISH     FLAG_MOBIL  FLAG_EMP_PHONE  \\\n",
       "count  307511.000000    307511.000000  307511.000000   307511.000000   \n",
       "mean    63815.045904     -2994.202373       0.999997        0.819889   \n",
       "std    141275.766519      1509.450419       0.001803        0.384280   \n",
       "min    -17912.000000     -7197.000000       0.000000        0.000000   \n",
       "25%     -2760.000000     -4299.000000       1.000000        1.000000   \n",
       "50%     -1213.000000     -3254.000000       1.000000        1.000000   \n",
       "75%      -289.000000     -1720.000000       1.000000        1.000000   \n",
       "max    365243.000000         0.000000       1.000000        1.000000   \n",
       "\n",
       "       FLAG_WORK_PHONE  FLAG_CONT_MOBILE     FLAG_PHONE     FLAG_EMAIL  \\\n",
       "count    307511.000000     307511.000000  307511.000000  307511.000000   \n",
       "mean          0.199368          0.998133       0.281066       0.056720   \n",
       "std           0.399526          0.043164       0.449521       0.231307   \n",
       "min           0.000000          0.000000       0.000000       0.000000   \n",
       "25%           0.000000          1.000000       0.000000       0.000000   \n",
       "50%           0.000000          1.000000       0.000000       0.000000   \n",
       "75%           0.000000          1.000000       1.000000       0.000000   \n",
       "max           1.000000          1.000000       1.000000       1.000000   \n",
       "\n",
       "       REGION_RATING_CLIENT  REGION_RATING_CLIENT_W_CITY  \\\n",
       "count         307511.000000                307511.000000   \n",
       "mean               2.052463                     2.031521   \n",
       "std                0.509034                     0.502737   \n",
       "min                1.000000                     1.000000   \n",
       "25%                2.000000                     2.000000   \n",
       "50%                2.000000                     2.000000   \n",
       "75%                2.000000                     2.000000   \n",
       "max                3.000000                     3.000000   \n",
       "\n",
       "       HOUR_APPR_PROCESS_START  REG_REGION_NOT_LIVE_REGION  \\\n",
       "count            307511.000000               307511.000000   \n",
       "mean                 12.063419                    0.015144   \n",
       "std                   3.265832                    0.122126   \n",
       "min                   0.000000                    0.000000   \n",
       "25%                  10.000000                    0.000000   \n",
       "50%                  12.000000                    0.000000   \n",
       "75%                  14.000000                    0.000000   \n",
       "max                  23.000000                    1.000000   \n",
       "\n",
       "       REG_REGION_NOT_WORK_REGION  LIVE_REGION_NOT_WORK_REGION  \\\n",
       "count               307511.000000                307511.000000   \n",
       "mean                     0.050769                     0.040659   \n",
       "std                      0.219526                     0.197499   \n",
       "min                      0.000000                     0.000000   \n",
       "25%                      0.000000                     0.000000   \n",
       "50%                      0.000000                     0.000000   \n",
       "75%                      0.000000                     0.000000   \n",
       "max                      1.000000                     1.000000   \n",
       "\n",
       "       REG_CITY_NOT_LIVE_CITY  REG_CITY_NOT_WORK_CITY  \\\n",
       "count           307511.000000           307511.000000   \n",
       "mean                 0.078173                0.230454   \n",
       "std                  0.268444                0.421124   \n",
       "min                  0.000000                0.000000   \n",
       "25%                  0.000000                0.000000   \n",
       "50%                  0.000000                0.000000   \n",
       "75%                  0.000000                0.000000   \n",
       "max                  1.000000                1.000000   \n",
       "\n",
       "       LIVE_CITY_NOT_WORK_CITY  FLAG_DOCUMENT_2  FLAG_DOCUMENT_3  \\\n",
       "count            307511.000000    307511.000000    307511.000000   \n",
       "mean                  0.179555         0.000042         0.710023   \n",
       "std                   0.383817         0.006502         0.453752   \n",
       "min                   0.000000         0.000000         0.000000   \n",
       "25%                   0.000000         0.000000         0.000000   \n",
       "50%                   0.000000         0.000000         1.000000   \n",
       "75%                   0.000000         0.000000         1.000000   \n",
       "max                   1.000000         1.000000         1.000000   \n",
       "\n",
       "       FLAG_DOCUMENT_4  FLAG_DOCUMENT_5  FLAG_DOCUMENT_6  FLAG_DOCUMENT_7  \\\n",
       "count    307511.000000    307511.000000    307511.000000    307511.000000   \n",
       "mean          0.000081         0.015115         0.088055         0.000192   \n",
       "std           0.009016         0.122010         0.283376         0.013850   \n",
       "min           0.000000         0.000000         0.000000         0.000000   \n",
       "25%           0.000000         0.000000         0.000000         0.000000   \n",
       "50%           0.000000         0.000000         0.000000         0.000000   \n",
       "75%           0.000000         0.000000         0.000000         0.000000   \n",
       "max           1.000000         1.000000         1.000000         1.000000   \n",
       "\n",
       "       FLAG_DOCUMENT_8  FLAG_DOCUMENT_9  FLAG_DOCUMENT_10  FLAG_DOCUMENT_11  \\\n",
       "count    307511.000000    307511.000000     307511.000000     307511.000000   \n",
       "mean          0.081376         0.003896          0.000023          0.003912   \n",
       "std           0.273412         0.062295          0.004771          0.062424   \n",
       "min           0.000000         0.000000          0.000000          0.000000   \n",
       "25%           0.000000         0.000000          0.000000          0.000000   \n",
       "50%           0.000000         0.000000          0.000000          0.000000   \n",
       "75%           0.000000         0.000000          0.000000          0.000000   \n",
       "max           1.000000         1.000000          1.000000          1.000000   \n",
       "\n",
       "       FLAG_DOCUMENT_12  FLAG_DOCUMENT_13  FLAG_DOCUMENT_14  FLAG_DOCUMENT_15  \\\n",
       "count     307511.000000     307511.000000     307511.000000      307511.00000   \n",
       "mean           0.000007          0.003525          0.002936           0.00121   \n",
       "std            0.002550          0.059268          0.054110           0.03476   \n",
       "min            0.000000          0.000000          0.000000           0.00000   \n",
       "25%            0.000000          0.000000          0.000000           0.00000   \n",
       "50%            0.000000          0.000000          0.000000           0.00000   \n",
       "75%            0.000000          0.000000          0.000000           0.00000   \n",
       "max            1.000000          1.000000          1.000000           1.00000   \n",
       "\n",
       "       FLAG_DOCUMENT_16  FLAG_DOCUMENT_17  FLAG_DOCUMENT_18  FLAG_DOCUMENT_19  \\\n",
       "count     307511.000000     307511.000000     307511.000000     307511.000000   \n",
       "mean           0.009928          0.000267          0.008130          0.000595   \n",
       "std            0.099144          0.016327          0.089798          0.024387   \n",
       "min            0.000000          0.000000          0.000000          0.000000   \n",
       "25%            0.000000          0.000000          0.000000          0.000000   \n",
       "50%            0.000000          0.000000          0.000000          0.000000   \n",
       "75%            0.000000          0.000000          0.000000          0.000000   \n",
       "max            1.000000          1.000000          1.000000          1.000000   \n",
       "\n",
       "       FLAG_DOCUMENT_20  FLAG_DOCUMENT_21  \n",
       "count     307511.000000     307511.000000  \n",
       "mean           0.000507          0.000335  \n",
       "std            0.022518          0.018299  \n",
       "min            0.000000          0.000000  \n",
       "25%            0.000000          0.000000  \n",
       "50%            0.000000          0.000000  \n",
       "75%            0.000000          0.000000  \n",
       "max            1.000000          1.000000  "
      ]
     },
     "execution_count": 10,
     "metadata": {},
     "output_type": "execute_result"
    }
   ],
   "source": [
    "# Selecting all columns with data type int64\n",
    "app.select_dtypes('int64').describe()"
   ]
  },
  {
   "cell_type": "markdown",
   "metadata": {},
   "source": [
    "### CNT_CHILDREN\n",
    "The maximum value of CNT_CHILDREN looks too high at 19. We need to check the full distribution and frequency table.  "
   ]
  },
  {
   "cell_type": "code",
   "execution_count": 11,
   "metadata": {},
   "outputs": [
    {
     "data": {
      "image/png": "[encoded data removed]",
      "text/plain": [
       "<Figure size 432x288 with 1 Axes>"
      ]
     },
     "metadata": {
      "needs_background": "light"
     },
     "output_type": "display_data"
    }
   ],
   "source": [
    "# Plot the distribution of CNT_CHILDREN\n",
    "app['CNT_CHILDREN'].plot.hist(title = 'Number of Children')\n",
    "plt.xlabel('Children');"
   ]
  },
  {
   "cell_type": "code",
   "execution_count": 12,
   "metadata": {},
   "outputs": [
    {
     "data": {
      "text/plain": [
       "0     215371\n",
       "1      61119\n",
       "2      26749\n",
       "3       3717\n",
       "4        429\n",
       "5         84\n",
       "6         21\n",
       "7          7\n",
       "8          2\n",
       "9          2\n",
       "10         2\n",
       "11         1\n",
       "12         2\n",
       "14         3\n",
       "19         2\n",
       "Name: CNT_CHILDREN, dtype: int64"
      ]
     },
     "execution_count": 12,
     "metadata": {},
     "output_type": "execute_result"
    }
   ],
   "source": [
    "# Look at the frequency table of CNT_CHILDREN\n",
    "app['CNT_CHILDREN'].value_counts().sort_index()"
   ]
  },
  {
   "cell_type": "markdown",
   "metadata": {},
   "source": [
    "The number of potential high 'outliers' is very low. We will leave 'as is' for now."
   ]
  },
  {
   "cell_type": "markdown",
   "metadata": {},
   "source": [
    "### DAYS_EMPLOYED\n",
    "DAYS_EMPLOYED has a 1000 year positive value while the other values are negative. We need to check this."
   ]
  },
  {
   "cell_type": "code",
   "execution_count": 13,
   "metadata": {},
   "outputs": [
    {
     "data": {
      "image/png": "[encoded data removed]",
      "text/plain": [
       "<Figure size 432x288 with 1 Axes>"
      ]
     },
     "metadata": {
      "needs_background": "light"
     },
     "output_type": "display_data"
    }
   ],
   "source": [
    "app['DAYS_EMPLOYED'].plot.hist(title = 'Days Employed');"
   ]
  },
  {
   "cell_type": "markdown",
   "metadata": {},
   "source": [
    "Quite a large number of observations have this inconsistent value."
   ]
  },
  {
   "cell_type": "code",
   "execution_count": 27,
   "metadata": {},
   "outputs": [
    {
     "data": {
      "text/plain": [
       "55374"
      ]
     },
     "execution_count": 27,
     "metadata": {},
     "output_type": "execute_result"
    }
   ],
   "source": [
    "# How many observations have this inconsistent value?\n",
    "sum(app['DAYS_EMPLOYED'] == 365243)"
   ]
  },
  {
   "cell_type": "markdown",
   "metadata": {},
   "source": [
    "We will replace this value with NaN and create a boolean flag attribute to mark the change."
   ]
  },
  {
   "cell_type": "code",
   "execution_count": 15,
   "metadata": {},
   "outputs": [
    {
     "data": {
      "image/png": "[encoded data removed]",
      "text/plain": [
       "<Figure size 432x288 with 1 Axes>"
      ]
     },
     "metadata": {
      "needs_background": "light"
     },
     "output_type": "display_data"
    }
   ],
   "source": [
    "# Create the flag attribute\n",
    "app['DAYS_EMPLOYED_FLAG'] = (app[\"DAYS_EMPLOYED\"] == 365243)\n",
    "# Replace 365243 with NaN\n",
    "app['DAYS_EMPLOYED'].replace({365243: NaN}, inplace = True)\n",
    "# Replot the histogram\n",
    "app['DAYS_EMPLOYED'].plot.hist(title = 'Updated Days Employed')\n",
    "plt.xlabel('Days');"
   ]
  },
  {
   "cell_type": "markdown",
   "metadata": {},
   "source": [
    "The new distribution looks much more like what we'd expect to see."
   ]
  },
  {
   "cell_type": "markdown",
   "metadata": {},
   "source": [
    "### FLAG_MOBIL and FLAG_CONT_MOBILE\n",
    "Both these attributes have very low variance. See the frequency tables below. We will remove these attributes."
   ]
  },
  {
   "cell_type": "code",
   "execution_count": 16,
   "metadata": {},
   "outputs": [
    {
     "name": "stdout",
     "output_type": "stream",
     "text": [
      "Frequency Table Shown as Percentage\n",
      "\n",
      "1    0.999997\n",
      "0    0.000003\n",
      "Name: FLAG_MOBIL, dtype: float64\n",
      "\n",
      "\n",
      "1    0.998133\n",
      "0    0.001867\n",
      "Name: FLAG_CONT_MOBILE, dtype: float64\n"
     ]
    }
   ],
   "source": [
    "# Checking frequency tables\n",
    "print('Frequency Table Shown as Percentage\\n')\n",
    "print(app['FLAG_MOBIL'].value_counts(dropna=False)/len(app)); print('\\n')\n",
    "print(app['FLAG_CONT_MOBILE'].value_counts(dropna=False)/len(app))"
   ]
  },
  {
   "cell_type": "code",
   "execution_count": 17,
   "metadata": {},
   "outputs": [],
   "source": [
    "# Removing the attributes\n",
    "app.drop(['FLAG_MOBIL', 'FLAG_CONT_MOBILE'], axis=1, inplace=True)"
   ]
  },
  {
   "cell_type": "markdown",
   "metadata": {},
   "source": [
    "### REG_REGION_NOT_LIVE_REGION and LIVE_REGION_NOT_WORK_REGION\n",
    "Both these attributes have very low variance. See the frequency tables below. We will remove these attributes."
   ]
  },
  {
   "cell_type": "code",
   "execution_count": 18,
   "metadata": {},
   "outputs": [
    {
     "name": "stdout",
     "output_type": "stream",
     "text": [
      "Frequency Table Shown as Percentage\n",
      "\n",
      "0    0.984856\n",
      "1    0.015144\n",
      "Name: REG_REGION_NOT_LIVE_REGION, dtype: float64\n",
      "\n",
      "\n",
      "0    0.959341\n",
      "1    0.040659\n",
      "Name: LIVE_REGION_NOT_WORK_REGION, dtype: float64\n"
     ]
    }
   ],
   "source": [
    "# Checking frequency tables\n",
    "print('Frequency Table Shown as Percentage\\n')\n",
    "print(app['REG_REGION_NOT_LIVE_REGION'].value_counts(dropna=False)/len(app)); print('\\n')\n",
    "print(app['LIVE_REGION_NOT_WORK_REGION'].value_counts(dropna=False)/len(app))"
   ]
  },
  {
   "cell_type": "code",
   "execution_count": 19,
   "metadata": {},
   "outputs": [],
   "source": [
    "# Removing the attributes\n",
    "app.drop(['REG_REGION_NOT_LIVE_REGION', 'LIVE_REGION_NOT_WORK_REGION'], axis=1, inplace=True)"
   ]
  },
  {
   "cell_type": "markdown",
   "metadata": {},
   "source": [
    "### FLAG_DOCUMENT_2, 4, 5, 7, 9, 10, 11, 12, 13, 14, 15, 16, 17, 18, 19, 20 & 21\n",
    "All the above attributes have close to zero variance. They will be removed. FLAG_DOCUMENT_3, 6 & 8 will remain."
   ]
  },
  {
   "cell_type": "code",
   "execution_count": 20,
   "metadata": {},
   "outputs": [
    {
     "name": "stdout",
     "output_type": "stream",
     "text": [
      "Frequency Table shown as Percentage\n",
      "\n",
      "0    99.647\n",
      "1     0.353\n",
      "Name: FLAG_DOCUMENT_13, dtype: float64\n"
     ]
    }
   ],
   "source": [
    "# Example of low variance FLAG_DOCUMENT_ attribute.\n",
    "print('Frequency Table shown as Percentage\\n')\n",
    "print(round(app['FLAG_DOCUMENT_13'].value_counts(dropna=False)\\\n",
    "            .sort_index()/len(app),5)*100)"
   ]
  },
  {
   "cell_type": "code",
   "execution_count": 21,
   "metadata": {},
   "outputs": [],
   "source": [
    "# Removing the attributes\n",
    "app.drop(['FLAG_DOCUMENT_2','FLAG_DOCUMENT_4','FLAG_DOCUMENT_5',\\\n",
    "          'FLAG_DOCUMENT_7','FLAG_DOCUMENT_9','FLAG_DOCUMENT_10',\\\n",
    "          'FLAG_DOCUMENT_11','FLAG_DOCUMENT_12','FLAG_DOCUMENT_13',\\\n",
    "          'FLAG_DOCUMENT_14','FLAG_DOCUMENT_15','FLAG_DOCUMENT_16',\\\n",
    "          'FLAG_DOCUMENT_17','FLAG_DOCUMENT_18','FLAG_DOCUMENT_19',\\\n",
    "          'FLAG_DOCUMENT_20','FLAG_DOCUMENT_21'], axis=1, inplace=True)"
   ]
  },
  {
   "cell_type": "markdown",
   "metadata": {},
   "source": [
    "<a id='appfloat'></a>\n",
    "### (b) Now check float type attributes \n",
    "\n",
    "[Return](#toc)"
   ]
  },
  {
   "cell_type": "code",
   "execution_count": 22,
   "metadata": {},
   "outputs": [
    {
     "data": {
      "text/html": [
       "<div>\n",
       "<style scoped>\n",
       "    .dataframe tbody tr th:only-of-type {\n",
       "        vertical-align: middle;\n",
       "    }\n",
       "\n",
       "    .dataframe tbody tr th {\n",
       "        vertical-align: top;\n",
       "    }\n",
       "\n",
       "    .dataframe thead th {\n",
       "        text-align: right;\n",
       "    }\n",
       "</style>\n",
       "<table border=\"1\" class=\"dataframe\">\n",
       "  <thead>\n",
       "    <tr style=\"text-align: right;\">\n",
       "      <th></th>\n",
       "      <th>AMT_INCOME_TOTAL</th>\n",
       "      <th>AMT_CREDIT</th>\n",
       "      <th>AMT_ANNUITY</th>\n",
       "      <th>AMT_GOODS_PRICE</th>\n",
       "      <th>REGION_POPULATION_RELATIVE</th>\n",
       "      <th>DAYS_EMPLOYED</th>\n",
       "      <th>DAYS_REGISTRATION</th>\n",
       "      <th>OWN_CAR_AGE</th>\n",
       "      <th>CNT_FAM_MEMBERS</th>\n",
       "      <th>EXT_SOURCE_1</th>\n",
       "      <th>EXT_SOURCE_2</th>\n",
       "      <th>EXT_SOURCE_3</th>\n",
       "      <th>APARTMENTS_AVG</th>\n",
       "      <th>BASEMENTAREA_AVG</th>\n",
       "      <th>YEARS_BEGINEXPLUATATION_AVG</th>\n",
       "      <th>YEARS_BUILD_AVG</th>\n",
       "      <th>COMMONAREA_AVG</th>\n",
       "      <th>ELEVATORS_AVG</th>\n",
       "      <th>ENTRANCES_AVG</th>\n",
       "      <th>FLOORSMAX_AVG</th>\n",
       "      <th>FLOORSMIN_AVG</th>\n",
       "      <th>LANDAREA_AVG</th>\n",
       "      <th>LIVINGAPARTMENTS_AVG</th>\n",
       "      <th>LIVINGAREA_AVG</th>\n",
       "      <th>NONLIVINGAPARTMENTS_AVG</th>\n",
       "      <th>NONLIVINGAREA_AVG</th>\n",
       "      <th>APARTMENTS_MODE</th>\n",
       "      <th>BASEMENTAREA_MODE</th>\n",
       "      <th>YEARS_BEGINEXPLUATATION_MODE</th>\n",
       "      <th>YEARS_BUILD_MODE</th>\n",
       "      <th>COMMONAREA_MODE</th>\n",
       "      <th>ELEVATORS_MODE</th>\n",
       "      <th>ENTRANCES_MODE</th>\n",
       "      <th>FLOORSMAX_MODE</th>\n",
       "      <th>FLOORSMIN_MODE</th>\n",
       "      <th>LANDAREA_MODE</th>\n",
       "      <th>LIVINGAPARTMENTS_MODE</th>\n",
       "      <th>LIVINGAREA_MODE</th>\n",
       "      <th>NONLIVINGAPARTMENTS_MODE</th>\n",
       "      <th>NONLIVINGAREA_MODE</th>\n",
       "      <th>APARTMENTS_MEDI</th>\n",
       "      <th>BASEMENTAREA_MEDI</th>\n",
       "      <th>YEARS_BEGINEXPLUATATION_MEDI</th>\n",
       "      <th>YEARS_BUILD_MEDI</th>\n",
       "      <th>COMMONAREA_MEDI</th>\n",
       "      <th>ELEVATORS_MEDI</th>\n",
       "      <th>ENTRANCES_MEDI</th>\n",
       "      <th>FLOORSMAX_MEDI</th>\n",
       "      <th>FLOORSMIN_MEDI</th>\n",
       "      <th>LANDAREA_MEDI</th>\n",
       "      <th>LIVINGAPARTMENTS_MEDI</th>\n",
       "      <th>LIVINGAREA_MEDI</th>\n",
       "      <th>NONLIVINGAPARTMENTS_MEDI</th>\n",
       "      <th>NONLIVINGAREA_MEDI</th>\n",
       "      <th>TOTALAREA_MODE</th>\n",
       "      <th>OBS_30_CNT_SOCIAL_CIRCLE</th>\n",
       "      <th>DEF_30_CNT_SOCIAL_CIRCLE</th>\n",
       "      <th>OBS_60_CNT_SOCIAL_CIRCLE</th>\n",
       "      <th>DEF_60_CNT_SOCIAL_CIRCLE</th>\n",
       "      <th>DAYS_LAST_PHONE_CHANGE</th>\n",
       "      <th>AMT_REQ_CREDIT_BUREAU_HOUR</th>\n",
       "      <th>AMT_REQ_CREDIT_BUREAU_DAY</th>\n",
       "      <th>AMT_REQ_CREDIT_BUREAU_WEEK</th>\n",
       "      <th>AMT_REQ_CREDIT_BUREAU_MON</th>\n",
       "      <th>AMT_REQ_CREDIT_BUREAU_QRT</th>\n",
       "      <th>AMT_REQ_CREDIT_BUREAU_YEAR</th>\n",
       "    </tr>\n",
       "  </thead>\n",
       "  <tbody>\n",
       "    <tr>\n",
       "      <th>count</th>\n",
       "      <td>3.075110e+05</td>\n",
       "      <td>3.075110e+05</td>\n",
       "      <td>307499.000000</td>\n",
       "      <td>3.072330e+05</td>\n",
       "      <td>307511.000000</td>\n",
       "      <td>252137.000000</td>\n",
       "      <td>307511.000000</td>\n",
       "      <td>104582.000000</td>\n",
       "      <td>307509.000000</td>\n",
       "      <td>134133.000000</td>\n",
       "      <td>3.068510e+05</td>\n",
       "      <td>246546.000000</td>\n",
       "      <td>151450.00000</td>\n",
       "      <td>127568.000000</td>\n",
       "      <td>157504.000000</td>\n",
       "      <td>103023.000000</td>\n",
       "      <td>92646.000000</td>\n",
       "      <td>143620.000000</td>\n",
       "      <td>152683.000000</td>\n",
       "      <td>154491.000000</td>\n",
       "      <td>98869.000000</td>\n",
       "      <td>124921.000000</td>\n",
       "      <td>97312.000000</td>\n",
       "      <td>153161.000000</td>\n",
       "      <td>93997.000000</td>\n",
       "      <td>137829.000000</td>\n",
       "      <td>151450.000000</td>\n",
       "      <td>127568.000000</td>\n",
       "      <td>157504.000000</td>\n",
       "      <td>103023.000000</td>\n",
       "      <td>92646.000000</td>\n",
       "      <td>143620.000000</td>\n",
       "      <td>152683.000000</td>\n",
       "      <td>154491.000000</td>\n",
       "      <td>98869.000000</td>\n",
       "      <td>124921.000000</td>\n",
       "      <td>97312.000000</td>\n",
       "      <td>153161.000000</td>\n",
       "      <td>93997.000000</td>\n",
       "      <td>137829.000000</td>\n",
       "      <td>151450.000000</td>\n",
       "      <td>127568.000000</td>\n",
       "      <td>157504.000000</td>\n",
       "      <td>103023.000000</td>\n",
       "      <td>92646.000000</td>\n",
       "      <td>143620.000000</td>\n",
       "      <td>152683.000000</td>\n",
       "      <td>154491.000000</td>\n",
       "      <td>98869.000000</td>\n",
       "      <td>124921.000000</td>\n",
       "      <td>97312.000000</td>\n",
       "      <td>153161.000000</td>\n",
       "      <td>93997.000000</td>\n",
       "      <td>137829.000000</td>\n",
       "      <td>159080.000000</td>\n",
       "      <td>306490.000000</td>\n",
       "      <td>306490.000000</td>\n",
       "      <td>306490.000000</td>\n",
       "      <td>306490.000000</td>\n",
       "      <td>307510.000000</td>\n",
       "      <td>265992.000000</td>\n",
       "      <td>265992.000000</td>\n",
       "      <td>265992.000000</td>\n",
       "      <td>265992.000000</td>\n",
       "      <td>265992.000000</td>\n",
       "      <td>265992.000000</td>\n",
       "    </tr>\n",
       "    <tr>\n",
       "      <th>mean</th>\n",
       "      <td>1.687979e+05</td>\n",
       "      <td>5.990260e+05</td>\n",
       "      <td>27108.573909</td>\n",
       "      <td>5.383962e+05</td>\n",
       "      <td>0.020868</td>\n",
       "      <td>-2384.169325</td>\n",
       "      <td>-4986.120328</td>\n",
       "      <td>12.061091</td>\n",
       "      <td>2.152665</td>\n",
       "      <td>0.502130</td>\n",
       "      <td>5.143927e-01</td>\n",
       "      <td>0.510853</td>\n",
       "      <td>0.11744</td>\n",
       "      <td>0.088442</td>\n",
       "      <td>0.977735</td>\n",
       "      <td>0.752471</td>\n",
       "      <td>0.044621</td>\n",
       "      <td>0.078942</td>\n",
       "      <td>0.149725</td>\n",
       "      <td>0.226282</td>\n",
       "      <td>0.231894</td>\n",
       "      <td>0.066333</td>\n",
       "      <td>0.100775</td>\n",
       "      <td>0.107399</td>\n",
       "      <td>0.008809</td>\n",
       "      <td>0.028358</td>\n",
       "      <td>0.114231</td>\n",
       "      <td>0.087543</td>\n",
       "      <td>0.977065</td>\n",
       "      <td>0.759637</td>\n",
       "      <td>0.042553</td>\n",
       "      <td>0.074490</td>\n",
       "      <td>0.145193</td>\n",
       "      <td>0.222315</td>\n",
       "      <td>0.228058</td>\n",
       "      <td>0.064958</td>\n",
       "      <td>0.105645</td>\n",
       "      <td>0.105975</td>\n",
       "      <td>0.008076</td>\n",
       "      <td>0.027022</td>\n",
       "      <td>0.117850</td>\n",
       "      <td>0.087955</td>\n",
       "      <td>0.977752</td>\n",
       "      <td>0.755746</td>\n",
       "      <td>0.044595</td>\n",
       "      <td>0.078078</td>\n",
       "      <td>0.149213</td>\n",
       "      <td>0.225897</td>\n",
       "      <td>0.231625</td>\n",
       "      <td>0.067169</td>\n",
       "      <td>0.101954</td>\n",
       "      <td>0.108607</td>\n",
       "      <td>0.008651</td>\n",
       "      <td>0.028236</td>\n",
       "      <td>0.102547</td>\n",
       "      <td>1.422245</td>\n",
       "      <td>0.143421</td>\n",
       "      <td>1.405292</td>\n",
       "      <td>0.100049</td>\n",
       "      <td>-962.858788</td>\n",
       "      <td>0.006402</td>\n",
       "      <td>0.007000</td>\n",
       "      <td>0.034362</td>\n",
       "      <td>0.267395</td>\n",
       "      <td>0.265474</td>\n",
       "      <td>1.899974</td>\n",
       "    </tr>\n",
       "    <tr>\n",
       "      <th>std</th>\n",
       "      <td>2.371231e+05</td>\n",
       "      <td>4.024908e+05</td>\n",
       "      <td>14493.737315</td>\n",
       "      <td>3.694465e+05</td>\n",
       "      <td>0.013831</td>\n",
       "      <td>2338.360162</td>\n",
       "      <td>3522.886321</td>\n",
       "      <td>11.944812</td>\n",
       "      <td>0.910682</td>\n",
       "      <td>0.211062</td>\n",
       "      <td>1.910602e-01</td>\n",
       "      <td>0.194844</td>\n",
       "      <td>0.10824</td>\n",
       "      <td>0.082438</td>\n",
       "      <td>0.059223</td>\n",
       "      <td>0.113280</td>\n",
       "      <td>0.076036</td>\n",
       "      <td>0.134576</td>\n",
       "      <td>0.100049</td>\n",
       "      <td>0.144641</td>\n",
       "      <td>0.161380</td>\n",
       "      <td>0.081184</td>\n",
       "      <td>0.092576</td>\n",
       "      <td>0.110565</td>\n",
       "      <td>0.047732</td>\n",
       "      <td>0.069523</td>\n",
       "      <td>0.107936</td>\n",
       "      <td>0.084307</td>\n",
       "      <td>0.064575</td>\n",
       "      <td>0.110111</td>\n",
       "      <td>0.074445</td>\n",
       "      <td>0.132256</td>\n",
       "      <td>0.100977</td>\n",
       "      <td>0.143709</td>\n",
       "      <td>0.161160</td>\n",
       "      <td>0.081750</td>\n",
       "      <td>0.097880</td>\n",
       "      <td>0.111845</td>\n",
       "      <td>0.046276</td>\n",
       "      <td>0.070254</td>\n",
       "      <td>0.109076</td>\n",
       "      <td>0.082179</td>\n",
       "      <td>0.059897</td>\n",
       "      <td>0.112066</td>\n",
       "      <td>0.076144</td>\n",
       "      <td>0.134467</td>\n",
       "      <td>0.100368</td>\n",
       "      <td>0.145067</td>\n",
       "      <td>0.161934</td>\n",
       "      <td>0.082167</td>\n",
       "      <td>0.093642</td>\n",
       "      <td>0.112260</td>\n",
       "      <td>0.047415</td>\n",
       "      <td>0.070166</td>\n",
       "      <td>0.107462</td>\n",
       "      <td>2.400989</td>\n",
       "      <td>0.446698</td>\n",
       "      <td>2.379803</td>\n",
       "      <td>0.362291</td>\n",
       "      <td>826.808487</td>\n",
       "      <td>0.083849</td>\n",
       "      <td>0.110757</td>\n",
       "      <td>0.204685</td>\n",
       "      <td>0.916002</td>\n",
       "      <td>0.794056</td>\n",
       "      <td>1.869295</td>\n",
       "    </tr>\n",
       "    <tr>\n",
       "      <th>min</th>\n",
       "      <td>2.565000e+04</td>\n",
       "      <td>4.500000e+04</td>\n",
       "      <td>1615.500000</td>\n",
       "      <td>4.050000e+04</td>\n",
       "      <td>0.000290</td>\n",
       "      <td>-17912.000000</td>\n",
       "      <td>-24672.000000</td>\n",
       "      <td>0.000000</td>\n",
       "      <td>1.000000</td>\n",
       "      <td>0.014568</td>\n",
       "      <td>8.173617e-08</td>\n",
       "      <td>0.000527</td>\n",
       "      <td>0.00000</td>\n",
       "      <td>0.000000</td>\n",
       "      <td>0.000000</td>\n",
       "      <td>0.000000</td>\n",
       "      <td>0.000000</td>\n",
       "      <td>0.000000</td>\n",
       "      <td>0.000000</td>\n",
       "      <td>0.000000</td>\n",
       "      <td>0.000000</td>\n",
       "      <td>0.000000</td>\n",
       "      <td>0.000000</td>\n",
       "      <td>0.000000</td>\n",
       "      <td>0.000000</td>\n",
       "      <td>0.000000</td>\n",
       "      <td>0.000000</td>\n",
       "      <td>0.000000</td>\n",
       "      <td>0.000000</td>\n",
       "      <td>0.000000</td>\n",
       "      <td>0.000000</td>\n",
       "      <td>0.000000</td>\n",
       "      <td>0.000000</td>\n",
       "      <td>0.000000</td>\n",
       "      <td>0.000000</td>\n",
       "      <td>0.000000</td>\n",
       "      <td>0.000000</td>\n",
       "      <td>0.000000</td>\n",
       "      <td>0.000000</td>\n",
       "      <td>0.000000</td>\n",
       "      <td>0.000000</td>\n",
       "      <td>0.000000</td>\n",
       "      <td>0.000000</td>\n",
       "      <td>0.000000</td>\n",
       "      <td>0.000000</td>\n",
       "      <td>0.000000</td>\n",
       "      <td>0.000000</td>\n",
       "      <td>0.000000</td>\n",
       "      <td>0.000000</td>\n",
       "      <td>0.000000</td>\n",
       "      <td>0.000000</td>\n",
       "      <td>0.000000</td>\n",
       "      <td>0.000000</td>\n",
       "      <td>0.000000</td>\n",
       "      <td>0.000000</td>\n",
       "      <td>0.000000</td>\n",
       "      <td>0.000000</td>\n",
       "      <td>0.000000</td>\n",
       "      <td>0.000000</td>\n",
       "      <td>-4292.000000</td>\n",
       "      <td>0.000000</td>\n",
       "      <td>0.000000</td>\n",
       "      <td>0.000000</td>\n",
       "      <td>0.000000</td>\n",
       "      <td>0.000000</td>\n",
       "      <td>0.000000</td>\n",
       "    </tr>\n",
       "    <tr>\n",
       "      <th>25%</th>\n",
       "      <td>1.125000e+05</td>\n",
       "      <td>2.700000e+05</td>\n",
       "      <td>16524.000000</td>\n",
       "      <td>2.385000e+05</td>\n",
       "      <td>0.010006</td>\n",
       "      <td>-3175.000000</td>\n",
       "      <td>-7479.500000</td>\n",
       "      <td>5.000000</td>\n",
       "      <td>2.000000</td>\n",
       "      <td>0.334007</td>\n",
       "      <td>3.924574e-01</td>\n",
       "      <td>0.370650</td>\n",
       "      <td>0.05770</td>\n",
       "      <td>0.044200</td>\n",
       "      <td>0.976700</td>\n",
       "      <td>0.687200</td>\n",
       "      <td>0.007800</td>\n",
       "      <td>0.000000</td>\n",
       "      <td>0.069000</td>\n",
       "      <td>0.166700</td>\n",
       "      <td>0.083300</td>\n",
       "      <td>0.018700</td>\n",
       "      <td>0.050400</td>\n",
       "      <td>0.045300</td>\n",
       "      <td>0.000000</td>\n",
       "      <td>0.000000</td>\n",
       "      <td>0.052500</td>\n",
       "      <td>0.040700</td>\n",
       "      <td>0.976700</td>\n",
       "      <td>0.699400</td>\n",
       "      <td>0.007200</td>\n",
       "      <td>0.000000</td>\n",
       "      <td>0.069000</td>\n",
       "      <td>0.166700</td>\n",
       "      <td>0.083300</td>\n",
       "      <td>0.016600</td>\n",
       "      <td>0.054200</td>\n",
       "      <td>0.042700</td>\n",
       "      <td>0.000000</td>\n",
       "      <td>0.000000</td>\n",
       "      <td>0.058300</td>\n",
       "      <td>0.043700</td>\n",
       "      <td>0.976700</td>\n",
       "      <td>0.691400</td>\n",
       "      <td>0.007900</td>\n",
       "      <td>0.000000</td>\n",
       "      <td>0.069000</td>\n",
       "      <td>0.166700</td>\n",
       "      <td>0.083300</td>\n",
       "      <td>0.018700</td>\n",
       "      <td>0.051300</td>\n",
       "      <td>0.045700</td>\n",
       "      <td>0.000000</td>\n",
       "      <td>0.000000</td>\n",
       "      <td>0.041200</td>\n",
       "      <td>0.000000</td>\n",
       "      <td>0.000000</td>\n",
       "      <td>0.000000</td>\n",
       "      <td>0.000000</td>\n",
       "      <td>-1570.000000</td>\n",
       "      <td>0.000000</td>\n",
       "      <td>0.000000</td>\n",
       "      <td>0.000000</td>\n",
       "      <td>0.000000</td>\n",
       "      <td>0.000000</td>\n",
       "      <td>0.000000</td>\n",
       "    </tr>\n",
       "    <tr>\n",
       "      <th>50%</th>\n",
       "      <td>1.471500e+05</td>\n",
       "      <td>5.135310e+05</td>\n",
       "      <td>24903.000000</td>\n",
       "      <td>4.500000e+05</td>\n",
       "      <td>0.018850</td>\n",
       "      <td>-1648.000000</td>\n",
       "      <td>-4504.000000</td>\n",
       "      <td>9.000000</td>\n",
       "      <td>2.000000</td>\n",
       "      <td>0.505998</td>\n",
       "      <td>5.659614e-01</td>\n",
       "      <td>0.535276</td>\n",
       "      <td>0.08760</td>\n",
       "      <td>0.076300</td>\n",
       "      <td>0.981600</td>\n",
       "      <td>0.755200</td>\n",
       "      <td>0.021100</td>\n",
       "      <td>0.000000</td>\n",
       "      <td>0.137900</td>\n",
       "      <td>0.166700</td>\n",
       "      <td>0.208300</td>\n",
       "      <td>0.048100</td>\n",
       "      <td>0.075600</td>\n",
       "      <td>0.074500</td>\n",
       "      <td>0.000000</td>\n",
       "      <td>0.003600</td>\n",
       "      <td>0.084000</td>\n",
       "      <td>0.074600</td>\n",
       "      <td>0.981600</td>\n",
       "      <td>0.764800</td>\n",
       "      <td>0.019000</td>\n",
       "      <td>0.000000</td>\n",
       "      <td>0.137900</td>\n",
       "      <td>0.166700</td>\n",
       "      <td>0.208300</td>\n",
       "      <td>0.045800</td>\n",
       "      <td>0.077100</td>\n",
       "      <td>0.073100</td>\n",
       "      <td>0.000000</td>\n",
       "      <td>0.001100</td>\n",
       "      <td>0.086400</td>\n",
       "      <td>0.075800</td>\n",
       "      <td>0.981600</td>\n",
       "      <td>0.758500</td>\n",
       "      <td>0.020800</td>\n",
       "      <td>0.000000</td>\n",
       "      <td>0.137900</td>\n",
       "      <td>0.166700</td>\n",
       "      <td>0.208300</td>\n",
       "      <td>0.048700</td>\n",
       "      <td>0.076100</td>\n",
       "      <td>0.074900</td>\n",
       "      <td>0.000000</td>\n",
       "      <td>0.003100</td>\n",
       "      <td>0.068800</td>\n",
       "      <td>0.000000</td>\n",
       "      <td>0.000000</td>\n",
       "      <td>0.000000</td>\n",
       "      <td>0.000000</td>\n",
       "      <td>-757.000000</td>\n",
       "      <td>0.000000</td>\n",
       "      <td>0.000000</td>\n",
       "      <td>0.000000</td>\n",
       "      <td>0.000000</td>\n",
       "      <td>0.000000</td>\n",
       "      <td>1.000000</td>\n",
       "    </tr>\n",
       "    <tr>\n",
       "      <th>75%</th>\n",
       "      <td>2.025000e+05</td>\n",
       "      <td>8.086500e+05</td>\n",
       "      <td>34596.000000</td>\n",
       "      <td>6.795000e+05</td>\n",
       "      <td>0.028663</td>\n",
       "      <td>-767.000000</td>\n",
       "      <td>-2010.000000</td>\n",
       "      <td>15.000000</td>\n",
       "      <td>3.000000</td>\n",
       "      <td>0.675053</td>\n",
       "      <td>6.636171e-01</td>\n",
       "      <td>0.669057</td>\n",
       "      <td>0.14850</td>\n",
       "      <td>0.112200</td>\n",
       "      <td>0.986600</td>\n",
       "      <td>0.823200</td>\n",
       "      <td>0.051500</td>\n",
       "      <td>0.120000</td>\n",
       "      <td>0.206900</td>\n",
       "      <td>0.333300</td>\n",
       "      <td>0.375000</td>\n",
       "      <td>0.085600</td>\n",
       "      <td>0.121000</td>\n",
       "      <td>0.129900</td>\n",
       "      <td>0.003900</td>\n",
       "      <td>0.027700</td>\n",
       "      <td>0.143900</td>\n",
       "      <td>0.112400</td>\n",
       "      <td>0.986600</td>\n",
       "      <td>0.823600</td>\n",
       "      <td>0.049000</td>\n",
       "      <td>0.120800</td>\n",
       "      <td>0.206900</td>\n",
       "      <td>0.333300</td>\n",
       "      <td>0.375000</td>\n",
       "      <td>0.084100</td>\n",
       "      <td>0.131300</td>\n",
       "      <td>0.125200</td>\n",
       "      <td>0.003900</td>\n",
       "      <td>0.023100</td>\n",
       "      <td>0.148900</td>\n",
       "      <td>0.111600</td>\n",
       "      <td>0.986600</td>\n",
       "      <td>0.825600</td>\n",
       "      <td>0.051300</td>\n",
       "      <td>0.120000</td>\n",
       "      <td>0.206900</td>\n",
       "      <td>0.333300</td>\n",
       "      <td>0.375000</td>\n",
       "      <td>0.086800</td>\n",
       "      <td>0.123100</td>\n",
       "      <td>0.130300</td>\n",
       "      <td>0.003900</td>\n",
       "      <td>0.026600</td>\n",
       "      <td>0.127600</td>\n",
       "      <td>2.000000</td>\n",
       "      <td>0.000000</td>\n",
       "      <td>2.000000</td>\n",
       "      <td>0.000000</td>\n",
       "      <td>-274.000000</td>\n",
       "      <td>0.000000</td>\n",
       "      <td>0.000000</td>\n",
       "      <td>0.000000</td>\n",
       "      <td>0.000000</td>\n",
       "      <td>0.000000</td>\n",
       "      <td>3.000000</td>\n",
       "    </tr>\n",
       "    <tr>\n",
       "      <th>max</th>\n",
       "      <td>1.170000e+08</td>\n",
       "      <td>4.050000e+06</td>\n",
       "      <td>258025.500000</td>\n",
       "      <td>4.050000e+06</td>\n",
       "      <td>0.072508</td>\n",
       "      <td>0.000000</td>\n",
       "      <td>0.000000</td>\n",
       "      <td>91.000000</td>\n",
       "      <td>20.000000</td>\n",
       "      <td>0.962693</td>\n",
       "      <td>8.549997e-01</td>\n",
       "      <td>0.896010</td>\n",
       "      <td>1.00000</td>\n",
       "      <td>1.000000</td>\n",
       "      <td>1.000000</td>\n",
       "      <td>1.000000</td>\n",
       "      <td>1.000000</td>\n",
       "      <td>1.000000</td>\n",
       "      <td>1.000000</td>\n",
       "      <td>1.000000</td>\n",
       "      <td>1.000000</td>\n",
       "      <td>1.000000</td>\n",
       "      <td>1.000000</td>\n",
       "      <td>1.000000</td>\n",
       "      <td>1.000000</td>\n",
       "      <td>1.000000</td>\n",
       "      <td>1.000000</td>\n",
       "      <td>1.000000</td>\n",
       "      <td>1.000000</td>\n",
       "      <td>1.000000</td>\n",
       "      <td>1.000000</td>\n",
       "      <td>1.000000</td>\n",
       "      <td>1.000000</td>\n",
       "      <td>1.000000</td>\n",
       "      <td>1.000000</td>\n",
       "      <td>1.000000</td>\n",
       "      <td>1.000000</td>\n",
       "      <td>1.000000</td>\n",
       "      <td>1.000000</td>\n",
       "      <td>1.000000</td>\n",
       "      <td>1.000000</td>\n",
       "      <td>1.000000</td>\n",
       "      <td>1.000000</td>\n",
       "      <td>1.000000</td>\n",
       "      <td>1.000000</td>\n",
       "      <td>1.000000</td>\n",
       "      <td>1.000000</td>\n",
       "      <td>1.000000</td>\n",
       "      <td>1.000000</td>\n",
       "      <td>1.000000</td>\n",
       "      <td>1.000000</td>\n",
       "      <td>1.000000</td>\n",
       "      <td>1.000000</td>\n",
       "      <td>1.000000</td>\n",
       "      <td>1.000000</td>\n",
       "      <td>348.000000</td>\n",
       "      <td>34.000000</td>\n",
       "      <td>344.000000</td>\n",
       "      <td>24.000000</td>\n",
       "      <td>0.000000</td>\n",
       "      <td>4.000000</td>\n",
       "      <td>9.000000</td>\n",
       "      <td>8.000000</td>\n",
       "      <td>27.000000</td>\n",
       "      <td>261.000000</td>\n",
       "      <td>25.000000</td>\n",
       "    </tr>\n",
       "  </tbody>\n",
       "</table>\n",
       "</div>"
      ],
      "text/plain": [
       "       AMT_INCOME_TOTAL    AMT_CREDIT    AMT_ANNUITY  AMT_GOODS_PRICE  \\\n",
       "count      3.075110e+05  3.075110e+05  307499.000000     3.072330e+05   \n",
       "mean       1.687979e+05  5.990260e+05   27108.573909     5.383962e+05   \n",
       "std        2.371231e+05  4.024908e+05   14493.737315     3.694465e+05   \n",
       "min        2.565000e+04  4.500000e+04    1615.500000     4.050000e+04   \n",
       "25%        1.125000e+05  2.700000e+05   16524.000000     2.385000e+05   \n",
       "50%        1.471500e+05  5.135310e+05   24903.000000     4.500000e+05   \n",
       "75%        2.025000e+05  8.086500e+05   34596.000000     6.795000e+05   \n",
       "max        1.170000e+08  4.050000e+06  258025.500000     4.050000e+06   \n",
       "\n",
       "       REGION_POPULATION_RELATIVE  DAYS_EMPLOYED  DAYS_REGISTRATION  \\\n",
       "count               307511.000000  252137.000000      307511.000000   \n",
       "mean                     0.020868   -2384.169325       -4986.120328   \n",
       "std                      0.013831    2338.360162        3522.886321   \n",
       "min                      0.000290  -17912.000000      -24672.000000   \n",
       "25%                      0.010006   -3175.000000       -7479.500000   \n",
       "50%                      0.018850   -1648.000000       -4504.000000   \n",
       "75%                      0.028663    -767.000000       -2010.000000   \n",
       "max                      0.072508       0.000000           0.000000   \n",
       "\n",
       "         OWN_CAR_AGE  CNT_FAM_MEMBERS   EXT_SOURCE_1  EXT_SOURCE_2  \\\n",
       "count  104582.000000    307509.000000  134133.000000  3.068510e+05   \n",
       "mean       12.061091         2.152665       0.502130  5.143927e-01   \n",
       "std        11.944812         0.910682       0.211062  1.910602e-01   \n",
       "min         0.000000         1.000000       0.014568  8.173617e-08   \n",
       "25%         5.000000         2.000000       0.334007  3.924574e-01   \n",
       "50%         9.000000         2.000000       0.505998  5.659614e-01   \n",
       "75%        15.000000         3.000000       0.675053  6.636171e-01   \n",
       "max        91.000000        20.000000       0.962693  8.549997e-01   \n",
       "\n",
       "        EXT_SOURCE_3  APARTMENTS_AVG  BASEMENTAREA_AVG  \\\n",
       "count  246546.000000    151450.00000     127568.000000   \n",
       "mean        0.510853         0.11744          0.088442   \n",
       "std         0.194844         0.10824          0.082438   \n",
       "min         0.000527         0.00000          0.000000   \n",
       "25%         0.370650         0.05770          0.044200   \n",
       "50%         0.535276         0.08760          0.076300   \n",
       "75%         0.669057         0.14850          0.112200   \n",
       "max         0.896010         1.00000          1.000000   \n",
       "\n",
       "       YEARS_BEGINEXPLUATATION_AVG  YEARS_BUILD_AVG  COMMONAREA_AVG  \\\n",
       "count                157504.000000    103023.000000    92646.000000   \n",
       "mean                      0.977735         0.752471        0.044621   \n",
       "std                       0.059223         0.113280        0.076036   \n",
       "min                       0.000000         0.000000        0.000000   \n",
       "25%                       0.976700         0.687200        0.007800   \n",
       "50%                       0.981600         0.755200        0.021100   \n",
       "75%                       0.986600         0.823200        0.051500   \n",
       "max                       1.000000         1.000000        1.000000   \n",
       "\n",
       "       ELEVATORS_AVG  ENTRANCES_AVG  FLOORSMAX_AVG  FLOORSMIN_AVG  \\\n",
       "count  143620.000000  152683.000000  154491.000000   98869.000000   \n",
       "mean        0.078942       0.149725       0.226282       0.231894   \n",
       "std         0.134576       0.100049       0.144641       0.161380   \n",
       "min         0.000000       0.000000       0.000000       0.000000   \n",
       "25%         0.000000       0.069000       0.166700       0.083300   \n",
       "50%         0.000000       0.137900       0.166700       0.208300   \n",
       "75%         0.120000       0.206900       0.333300       0.375000   \n",
       "max         1.000000       1.000000       1.000000       1.000000   \n",
       "\n",
       "        LANDAREA_AVG  LIVINGAPARTMENTS_AVG  LIVINGAREA_AVG  \\\n",
       "count  124921.000000          97312.000000   153161.000000   \n",
       "mean        0.066333              0.100775        0.107399   \n",
       "std         0.081184              0.092576        0.110565   \n",
       "min         0.000000              0.000000        0.000000   \n",
       "25%         0.018700              0.050400        0.045300   \n",
       "50%         0.048100              0.075600        0.074500   \n",
       "75%         0.085600              0.121000        0.129900   \n",
       "max         1.000000              1.000000        1.000000   \n",
       "\n",
       "       NONLIVINGAPARTMENTS_AVG  NONLIVINGAREA_AVG  APARTMENTS_MODE  \\\n",
       "count             93997.000000      137829.000000    151450.000000   \n",
       "mean                  0.008809           0.028358         0.114231   \n",
       "std                   0.047732           0.069523         0.107936   \n",
       "min                   0.000000           0.000000         0.000000   \n",
       "25%                   0.000000           0.000000         0.052500   \n",
       "50%                   0.000000           0.003600         0.084000   \n",
       "75%                   0.003900           0.027700         0.143900   \n",
       "max                   1.000000           1.000000         1.000000   \n",
       "\n",
       "       BASEMENTAREA_MODE  YEARS_BEGINEXPLUATATION_MODE  YEARS_BUILD_MODE  \\\n",
       "count      127568.000000                 157504.000000     103023.000000   \n",
       "mean            0.087543                      0.977065          0.759637   \n",
       "std             0.084307                      0.064575          0.110111   \n",
       "min             0.000000                      0.000000          0.000000   \n",
       "25%             0.040700                      0.976700          0.699400   \n",
       "50%             0.074600                      0.981600          0.764800   \n",
       "75%             0.112400                      0.986600          0.823600   \n",
       "max             1.000000                      1.000000          1.000000   \n",
       "\n",
       "       COMMONAREA_MODE  ELEVATORS_MODE  ENTRANCES_MODE  FLOORSMAX_MODE  \\\n",
       "count     92646.000000   143620.000000   152683.000000   154491.000000   \n",
       "mean          0.042553        0.074490        0.145193        0.222315   \n",
       "std           0.074445        0.132256        0.100977        0.143709   \n",
       "min           0.000000        0.000000        0.000000        0.000000   \n",
       "25%           0.007200        0.000000        0.069000        0.166700   \n",
       "50%           0.019000        0.000000        0.137900        0.166700   \n",
       "75%           0.049000        0.120800        0.206900        0.333300   \n",
       "max           1.000000        1.000000        1.000000        1.000000   \n",
       "\n",
       "       FLOORSMIN_MODE  LANDAREA_MODE  LIVINGAPARTMENTS_MODE  LIVINGAREA_MODE  \\\n",
       "count    98869.000000  124921.000000           97312.000000    153161.000000   \n",
       "mean         0.228058       0.064958               0.105645         0.105975   \n",
       "std          0.161160       0.081750               0.097880         0.111845   \n",
       "min          0.000000       0.000000               0.000000         0.000000   \n",
       "25%          0.083300       0.016600               0.054200         0.042700   \n",
       "50%          0.208300       0.045800               0.077100         0.073100   \n",
       "75%          0.375000       0.084100               0.131300         0.125200   \n",
       "max          1.000000       1.000000               1.000000         1.000000   \n",
       "\n",
       "       NONLIVINGAPARTMENTS_MODE  NONLIVINGAREA_MODE  APARTMENTS_MEDI  \\\n",
       "count              93997.000000       137829.000000    151450.000000   \n",
       "mean                   0.008076            0.027022         0.117850   \n",
       "std                    0.046276            0.070254         0.109076   \n",
       "min                    0.000000            0.000000         0.000000   \n",
       "25%                    0.000000            0.000000         0.058300   \n",
       "50%                    0.000000            0.001100         0.086400   \n",
       "75%                    0.003900            0.023100         0.148900   \n",
       "max                    1.000000            1.000000         1.000000   \n",
       "\n",
       "       BASEMENTAREA_MEDI  YEARS_BEGINEXPLUATATION_MEDI  YEARS_BUILD_MEDI  \\\n",
       "count      127568.000000                 157504.000000     103023.000000   \n",
       "mean            0.087955                      0.977752          0.755746   \n",
       "std             0.082179                      0.059897          0.112066   \n",
       "min             0.000000                      0.000000          0.000000   \n",
       "25%             0.043700                      0.976700          0.691400   \n",
       "50%             0.075800                      0.981600          0.758500   \n",
       "75%             0.111600                      0.986600          0.825600   \n",
       "max             1.000000                      1.000000          1.000000   \n",
       "\n",
       "       COMMONAREA_MEDI  ELEVATORS_MEDI  ENTRANCES_MEDI  FLOORSMAX_MEDI  \\\n",
       "count     92646.000000   143620.000000   152683.000000   154491.000000   \n",
       "mean          0.044595        0.078078        0.149213        0.225897   \n",
       "std           0.076144        0.134467        0.100368        0.145067   \n",
       "min           0.000000        0.000000        0.000000        0.000000   \n",
       "25%           0.007900        0.000000        0.069000        0.166700   \n",
       "50%           0.020800        0.000000        0.137900        0.166700   \n",
       "75%           0.051300        0.120000        0.206900        0.333300   \n",
       "max           1.000000        1.000000        1.000000        1.000000   \n",
       "\n",
       "       FLOORSMIN_MEDI  LANDAREA_MEDI  LIVINGAPARTMENTS_MEDI  LIVINGAREA_MEDI  \\\n",
       "count    98869.000000  124921.000000           97312.000000    153161.000000   \n",
       "mean         0.231625       0.067169               0.101954         0.108607   \n",
       "std          0.161934       0.082167               0.093642         0.112260   \n",
       "min          0.000000       0.000000               0.000000         0.000000   \n",
       "25%          0.083300       0.018700               0.051300         0.045700   \n",
       "50%          0.208300       0.048700               0.076100         0.074900   \n",
       "75%          0.375000       0.086800               0.123100         0.130300   \n",
       "max          1.000000       1.000000               1.000000         1.000000   \n",
       "\n",
       "       NONLIVINGAPARTMENTS_MEDI  NONLIVINGAREA_MEDI  TOTALAREA_MODE  \\\n",
       "count              93997.000000       137829.000000   159080.000000   \n",
       "mean                   0.008651            0.028236        0.102547   \n",
       "std                    0.047415            0.070166        0.107462   \n",
       "min                    0.000000            0.000000        0.000000   \n",
       "25%                    0.000000            0.000000        0.041200   \n",
       "50%                    0.000000            0.003100        0.068800   \n",
       "75%                    0.003900            0.026600        0.127600   \n",
       "max                    1.000000            1.000000        1.000000   \n",
       "\n",
       "       OBS_30_CNT_SOCIAL_CIRCLE  DEF_30_CNT_SOCIAL_CIRCLE  \\\n",
       "count             306490.000000             306490.000000   \n",
       "mean                   1.422245                  0.143421   \n",
       "std                    2.400989                  0.446698   \n",
       "min                    0.000000                  0.000000   \n",
       "25%                    0.000000                  0.000000   \n",
       "50%                    0.000000                  0.000000   \n",
       "75%                    2.000000                  0.000000   \n",
       "max                  348.000000                 34.000000   \n",
       "\n",
       "       OBS_60_CNT_SOCIAL_CIRCLE  DEF_60_CNT_SOCIAL_CIRCLE  \\\n",
       "count             306490.000000             306490.000000   \n",
       "mean                   1.405292                  0.100049   \n",
       "std                    2.379803                  0.362291   \n",
       "min                    0.000000                  0.000000   \n",
       "25%                    0.000000                  0.000000   \n",
       "50%                    0.000000                  0.000000   \n",
       "75%                    2.000000                  0.000000   \n",
       "max                  344.000000                 24.000000   \n",
       "\n",
       "       DAYS_LAST_PHONE_CHANGE  AMT_REQ_CREDIT_BUREAU_HOUR  \\\n",
       "count           307510.000000               265992.000000   \n",
       "mean              -962.858788                    0.006402   \n",
       "std                826.808487                    0.083849   \n",
       "min              -4292.000000                    0.000000   \n",
       "25%              -1570.000000                    0.000000   \n",
       "50%               -757.000000                    0.000000   \n",
       "75%               -274.000000                    0.000000   \n",
       "max                  0.000000                    4.000000   \n",
       "\n",
       "       AMT_REQ_CREDIT_BUREAU_DAY  AMT_REQ_CREDIT_BUREAU_WEEK  \\\n",
       "count              265992.000000               265992.000000   \n",
       "mean                    0.007000                    0.034362   \n",
       "std                     0.110757                    0.204685   \n",
       "min                     0.000000                    0.000000   \n",
       "25%                     0.000000                    0.000000   \n",
       "50%                     0.000000                    0.000000   \n",
       "75%                     0.000000                    0.000000   \n",
       "max                     9.000000                    8.000000   \n",
       "\n",
       "       AMT_REQ_CREDIT_BUREAU_MON  AMT_REQ_CREDIT_BUREAU_QRT  \\\n",
       "count              265992.000000              265992.000000   \n",
       "mean                    0.267395                   0.265474   \n",
       "std                     0.916002                   0.794056   \n",
       "min                     0.000000                   0.000000   \n",
       "25%                     0.000000                   0.000000   \n",
       "50%                     0.000000                   0.000000   \n",
       "75%                     0.000000                   0.000000   \n",
       "max                    27.000000                 261.000000   \n",
       "\n",
       "       AMT_REQ_CREDIT_BUREAU_YEAR  \n",
       "count               265992.000000  \n",
       "mean                     1.899974  \n",
       "std                      1.869295  \n",
       "min                      0.000000  \n",
       "25%                      0.000000  \n",
       "50%                      1.000000  \n",
       "75%                      3.000000  \n",
       "max                     25.000000  "
      ]
     },
     "execution_count": 22,
     "metadata": {},
     "output_type": "execute_result"
    }
   ],
   "source": [
    "# Selecting all columns with data type float64\n",
    "app.select_dtypes('float').describe()"
   ]
  },
  {
   "cell_type": "markdown",
   "metadata": {},
   "source": [
    "### AMT_INCOME_TOTAL\n",
    "The distribution has a small number of large 'outliers' above 1,000,000 but with one potentially spurious value above 100,000,000. The spurious value will be set to NaN."
   ]
  },
  {
   "cell_type": "code",
   "execution_count": 25,
   "metadata": {},
   "outputs": [
    {
     "name": "stdout",
     "output_type": "stream",
     "text": [
      "Number of observations above 100,000,000 is: 1\n",
      "Number of observations above 1,000,000 is: 250\n",
      "Percentage of observations above 1,000,000 is: 0.08%\n"
     ]
    },
    {
     "data": {
      "image/png": "[encoded data removed]",
      "text/plain": [
       "<Figure size 432x288 with 1 Axes>"
      ]
     },
     "metadata": {
      "needs_background": "light"
     },
     "output_type": "display_data"
    }
   ],
   "source": [
    "print('Number of observations above 100,000,000 is: '+str(sum(app['AMT_INCOME_TOTAL']>100000000)))\n",
    "print('Number of observations above 1,000,000 is: '+str(sum(app['AMT_INCOME_TOTAL']>1000000)))\n",
    "print('Percentage of observations above 1,000,000 is: {:.2f}%'.format(sum(app['AMT_INCOME_TOTAL']>1000000)/len(app)*100))\n",
    "app.loc[app['AMT_INCOME_TOTAL']<1000000, 'AMT_INCOME_TOTAL'].plot.hist(title='AMT_INCOME_TOTAL < 1,000,000');"
   ]
  },
  {
   "cell_type": "code",
   "execution_count": 24,
   "metadata": {},
   "outputs": [],
   "source": [
    "# Setting the spurious value to NaN\n",
    "app.loc[app['AMT_INCOME_TOTAL']>100000000, 'AMT_INCOME_TOTAL'] = NaN"
   ]
  },
  {
   "cell_type": "markdown",
   "metadata": {},
   "source": [
    "### OWN_CAR_AGE\n",
    "The unit of measurement is not clear (perhaps months?) and the maximum value looks high. We should check the full distribution."
   ]
  },
  {
   "cell_type": "code",
   "execution_count": 25,
   "metadata": {},
   "outputs": [
    {
     "name": "stdout",
     "output_type": "stream",
     "text": [
      "Percentage of observations over 60: 1.1%\n"
     ]
    },
    {
     "data": {
      "image/png": "[encoded data removed]",
      "text/plain": [
       "<Figure size 432x288 with 1 Axes>"
      ]
     },
     "metadata": {
      "needs_background": "light"
     },
     "output_type": "display_data"
    }
   ],
   "source": [
    "app['OWN_CAR_AGE'].plot.hist(title = 'Own Car Age')\n",
    "plt.xlabel('Age of Car')\n",
    "print('Percentage of observations over 60: {}%'.format(round(100*sum(app['OWN_CAR_AGE']>60)/len(app),1)))"
   ]
  },
  {
   "cell_type": "markdown",
   "metadata": {},
   "source": [
    "The number of high 'outliers' is small. We will leave 'as is' for now."
   ]
  },
  {
   "cell_type": "markdown",
   "metadata": {},
   "source": [
    "### XX_CNT_SOCIAL_CIRCLE\n",
    "Let's check the frequency tables for the four attributes. The maximum values look potentially high."
   ]
  },
  {
   "cell_type": "code",
   "execution_count": 26,
   "metadata": {},
   "outputs": [
    {
     "name": "stdout",
     "output_type": "stream",
     "text": [
      "OBS_30_CNT_SOCIAL_CIRCLE\n",
      "0.0      163910\n",
      "1.0       48783\n",
      "2.0       29808\n",
      "3.0       20322\n",
      "4.0       14143\n",
      "5.0        9553\n",
      "6.0        6453\n",
      "7.0        4390\n",
      "8.0        2967\n",
      "9.0        2003\n",
      "10.0       1376\n",
      "11.0        852\n",
      "12.0        652\n",
      "13.0        411\n",
      "14.0        258\n",
      "15.0        166\n",
      "16.0        133\n",
      "17.0         88\n",
      "18.0         46\n",
      "19.0         44\n",
      "20.0         30\n",
      "21.0         29\n",
      "22.0         22\n",
      "23.0         15\n",
      "24.0         11\n",
      "25.0         11\n",
      "26.0          3\n",
      "27.0          5\n",
      "28.0          1\n",
      "29.0          1\n",
      "30.0          2\n",
      "47.0          1\n",
      "348.0         1\n",
      "Name: OBS_30_CNT_SOCIAL_CIRCLE, dtype: int64\n",
      "\n",
      "OBS_60_CNT_SOCIAL_CIRCLE\n",
      "0.0      164666\n",
      "1.0       48870\n",
      "2.0       29766\n",
      "3.0       20215\n",
      "4.0       13946\n",
      "5.0        9463\n",
      "6.0        6349\n",
      "7.0        4344\n",
      "8.0        2886\n",
      "9.0        1959\n",
      "10.0       1335\n",
      "11.0        837\n",
      "12.0        620\n",
      "13.0        401\n",
      "14.0        238\n",
      "15.0        166\n",
      "16.0        137\n",
      "17.0         73\n",
      "18.0         49\n",
      "19.0         44\n",
      "20.0         30\n",
      "21.0         28\n",
      "22.0         20\n",
      "23.0         13\n",
      "24.0         12\n",
      "25.0         11\n",
      "26.0          1\n",
      "27.0          5\n",
      "28.0          1\n",
      "29.0          2\n",
      "30.0          1\n",
      "47.0          1\n",
      "344.0         1\n",
      "Name: OBS_60_CNT_SOCIAL_CIRCLE, dtype: int64\n",
      "\n",
      "DEF_30_CNT_SOCIAL_CIRCLE\n",
      "0.0     271324\n",
      "1.0      28328\n",
      "2.0       5323\n",
      "3.0       1192\n",
      "4.0        253\n",
      "5.0         56\n",
      "6.0         11\n",
      "7.0          1\n",
      "8.0          1\n",
      "34.0         1\n",
      "Name: DEF_30_CNT_SOCIAL_CIRCLE, dtype: int64\n",
      "\n",
      "DEF_60_CNT_SOCIAL_CIRCLE\n",
      "0.0     280721\n",
      "1.0      21841\n",
      "2.0       3170\n",
      "3.0        598\n",
      "4.0        135\n",
      "5.0         20\n",
      "6.0          3\n",
      "7.0          1\n",
      "24.0         1\n",
      "Name: DEF_60_CNT_SOCIAL_CIRCLE, dtype: int64\n"
     ]
    }
   ],
   "source": [
    "# Check frequency tables\n",
    "print(\"OBS_30_CNT_SOCIAL_CIRCLE\"); print(app['OBS_30_CNT_SOCIAL_CIRCLE'].value_counts().sort_index())\n",
    "print(\"\\nOBS_60_CNT_SOCIAL_CIRCLE\");print(app['OBS_60_CNT_SOCIAL_CIRCLE'].value_counts().sort_index())\n",
    "print(\"\\nDEF_30_CNT_SOCIAL_CIRCLE\");print(app['DEF_30_CNT_SOCIAL_CIRCLE'].value_counts().sort_index())\n",
    "print(\"\\nDEF_60_CNT_SOCIAL_CIRCLE\");print(app['DEF_60_CNT_SOCIAL_CIRCLE'].value_counts().sort_index())"
   ]
  },
  {
   "cell_type": "markdown",
   "metadata": {},
   "source": [
    "Are all these high values from the same observation?"
   ]
  },
  {
   "cell_type": "code",
   "execution_count": 27,
   "metadata": {},
   "outputs": [
    {
     "data": {
      "text/html": [
       "<div>\n",
       "<style scoped>\n",
       "    .dataframe tbody tr th:only-of-type {\n",
       "        vertical-align: middle;\n",
       "    }\n",
       "\n",
       "    .dataframe tbody tr th {\n",
       "        vertical-align: top;\n",
       "    }\n",
       "\n",
       "    .dataframe thead th {\n",
       "        text-align: right;\n",
       "    }\n",
       "</style>\n",
       "<table border=\"1\" class=\"dataframe\">\n",
       "  <thead>\n",
       "    <tr style=\"text-align: right;\">\n",
       "      <th></th>\n",
       "      <th>OBS_30_CNT_SOCIAL_CIRCLE</th>\n",
       "      <th>OBS_60_CNT_SOCIAL_CIRCLE</th>\n",
       "      <th>DEF_30_CNT_SOCIAL_CIRCLE</th>\n",
       "      <th>DEF_60_CNT_SOCIAL_CIRCLE</th>\n",
       "    </tr>\n",
       "  </thead>\n",
       "  <tbody>\n",
       "    <tr>\n",
       "      <th>148403</th>\n",
       "      <td>348.0</td>\n",
       "      <td>344.0</td>\n",
       "      <td>34.0</td>\n",
       "      <td>24.0</td>\n",
       "    </tr>\n",
       "  </tbody>\n",
       "</table>\n",
       "</div>"
      ],
      "text/plain": [
       "        OBS_30_CNT_SOCIAL_CIRCLE  OBS_60_CNT_SOCIAL_CIRCLE  \\\n",
       "148403                     348.0                     344.0   \n",
       "\n",
       "        DEF_30_CNT_SOCIAL_CIRCLE  DEF_60_CNT_SOCIAL_CIRCLE  \n",
       "148403                      34.0                      24.0  "
      ]
     },
     "execution_count": 27,
     "metadata": {},
     "output_type": "execute_result"
    }
   ],
   "source": [
    "# Checking to see if one observation has all values\n",
    "app[app['OBS_30_CNT_SOCIAL_CIRCLE']==348][['OBS_30_CNT_SOCIAL_CIRCLE','OBS_60_CNT_SOCIAL_CIRCLE', \\\n",
    "                                           'DEF_30_CNT_SOCIAL_CIRCLE', 'DEF_60_CNT_SOCIAL_CIRCLE']]"
   ]
  },
  {
   "cell_type": "markdown",
   "metadata": {},
   "source": [
    "Yes, they all come from the same observation. Let's set these values to NaN; they will be imputed later."
   ]
  },
  {
   "cell_type": "code",
   "execution_count": 28,
   "metadata": {},
   "outputs": [
    {
     "data": {
      "text/plain": [
       "OBS_30_CNT_SOCIAL_CIRCLE    NaN\n",
       "OBS_60_CNT_SOCIAL_CIRCLE    NaN\n",
       "DEF_30_CNT_SOCIAL_CIRCLE    NaN\n",
       "DEF_60_CNT_SOCIAL_CIRCLE    NaN\n",
       "Name: 148403, dtype: object"
      ]
     },
     "execution_count": 28,
     "metadata": {},
     "output_type": "execute_result"
    }
   ],
   "source": [
    "# Setting the spurious values to NaN\n",
    "app.loc[148403,['OBS_30_CNT_SOCIAL_CIRCLE','OBS_60_CNT_SOCIAL_CIRCLE', \\\n",
    "                                           'DEF_30_CNT_SOCIAL_CIRCLE', 'DEF_60_CNT_SOCIAL_CIRCLE']] = NaN\n",
    "app.loc[148403,['OBS_30_CNT_SOCIAL_CIRCLE','OBS_60_CNT_SOCIAL_CIRCLE', \\\n",
    "                                           'DEF_30_CNT_SOCIAL_CIRCLE', 'DEF_60_CNT_SOCIAL_CIRCLE']]"
   ]
  },
  {
   "cell_type": "markdown",
   "metadata": {},
   "source": [
    "### AMT_REQ_CREDIT_BUREAU_XXX\n",
    "AMT_REQ_CREDIT_BUREAU_HOUR, AMT_REQ_CREDIT_BUREAU_DAY and AMT_REQ_CREDIT_BUREAU_WEEK all have low variances. See all frequency tables below.\n",
    "\n",
    "These three attributes will be removed."
   ]
  },
  {
   "cell_type": "code",
   "execution_count": 29,
   "metadata": {
    "scrolled": false
   },
   "outputs": [
    {
     "name": "stdout",
     "output_type": "stream",
     "text": [
      "Frequency Tables Shown in Percentage\n",
      "\n",
      "AMT_REQ_CREDIT_BUREAU_HOUR\n",
      " 0.0    0.859696\n",
      "NaN     0.135016\n",
      " 1.0    0.005073\n",
      " 2.0    0.000182\n",
      " 3.0    0.000029\n",
      " 4.0    0.000003\n",
      "Name: AMT_REQ_CREDIT_BUREAU_HOUR, dtype: float64\n",
      "\n",
      "AMT_REQ_CREDIT_BUREAU_DAY\n",
      " 0.0    0.860142\n",
      "NaN     0.135016\n",
      " 1.0    0.004201\n",
      " 2.0    0.000345\n",
      " 3.0    0.000146\n",
      " 4.0    0.000085\n",
      " 5.0    0.000029\n",
      " 6.0    0.000026\n",
      " 9.0    0.000007\n",
      " 8.0    0.000003\n",
      "Name: AMT_REQ_CREDIT_BUREAU_DAY, dtype: float64\n",
      "\n",
      "AMT_REQ_CREDIT_BUREAU_WEEK\n",
      " 0.0    0.837225\n",
      "NaN     0.135016\n",
      " 1.0    0.026692\n",
      " 2.0    0.000647\n",
      " 3.0    0.000189\n",
      " 4.0    0.000111\n",
      " 6.0    0.000065\n",
      " 5.0    0.000033\n",
      " 8.0    0.000016\n",
      " 7.0    0.000007\n",
      "Name: AMT_REQ_CREDIT_BUREAU_WEEK, dtype: float64\n",
      "\n",
      "AMT_REQ_CREDIT_BUREAU_MON\n",
      " 0.0     0.722683\n",
      "NaN      0.135016\n",
      " 1.0     0.107791\n",
      " 2.0     0.017515\n",
      " 3.0     0.006475\n",
      " 4.0     0.003499\n",
      " 5.0     0.001958\n",
      " 6.0     0.001115\n",
      " 7.0     0.000969\n",
      " 9.0     0.000670\n",
      " 8.0     0.000602\n",
      " 10.0    0.000429\n",
      " 11.0    0.000387\n",
      " 12.0    0.000250\n",
      " 13.0    0.000234\n",
      " 14.0    0.000130\n",
      " 15.0    0.000114\n",
      " 16.0    0.000075\n",
      " 17.0    0.000046\n",
      " 18.0    0.000020\n",
      " 19.0    0.000010\n",
      " 23.0    0.000003\n",
      " 27.0    0.000003\n",
      " 22.0    0.000003\n",
      " 24.0    0.000003\n",
      "Name: AMT_REQ_CREDIT_BUREAU_MON, dtype: float64\n",
      "\n",
      "AMT_REQ_CREDIT_BUREAU_QRT\n",
      " 0.0      0.700518\n",
      "NaN       0.135016\n",
      " 1.0      0.110116\n",
      " 2.0      0.046867\n",
      " 3.0      0.005584\n",
      " 4.0      0.001548\n",
      " 5.0      0.000208\n",
      " 6.0      0.000091\n",
      " 7.0      0.000023\n",
      " 8.0      0.000023\n",
      " 19.0     0.000003\n",
      " 261.0    0.000003\n",
      "Name: AMT_REQ_CREDIT_BUREAU_QRT, dtype: float64\n",
      "\n",
      "AMT_REQ_CREDIT_BUREAU_YEAR\n",
      " 0.0     0.233491\n",
      " 1.0     0.206188\n",
      " 2.0     0.163220\n",
      "NaN      0.135016\n",
      " 3.0     0.109355\n",
      " 4.0     0.067360\n",
      " 5.0     0.039192\n",
      " 6.0     0.022656\n",
      " 7.0     0.012582\n",
      " 8.0     0.006917\n",
      " 9.0     0.003564\n",
      " 11.0    0.000101\n",
      " 12.0    0.000098\n",
      " 10.0    0.000072\n",
      " 13.0    0.000062\n",
      " 14.0    0.000033\n",
      " 17.0    0.000023\n",
      " 15.0    0.000020\n",
      " 19.0    0.000013\n",
      " 18.0    0.000013\n",
      " 16.0    0.000010\n",
      " 21.0    0.000003\n",
      " 23.0    0.000003\n",
      " 25.0    0.000003\n",
      " 20.0    0.000003\n",
      " 22.0    0.000003\n",
      "Name: AMT_REQ_CREDIT_BUREAU_YEAR, dtype: float64\n"
     ]
    }
   ],
   "source": [
    "# Printing the frequency tables\n",
    "print('Frequency Tables Shown in Percentage\\n')\n",
    "print('AMT_REQ_CREDIT_BUREAU_HOUR'); print(app['AMT_REQ_CREDIT_BUREAU_HOUR'].value_counts(dropna=False)/len(app))\n",
    "print('\\nAMT_REQ_CREDIT_BUREAU_DAY'); print(app['AMT_REQ_CREDIT_BUREAU_DAY'].value_counts(dropna=False)/len(app))\n",
    "print('\\nAMT_REQ_CREDIT_BUREAU_WEEK'); print(app['AMT_REQ_CREDIT_BUREAU_WEEK'].value_counts(dropna=False)/len(app))\n",
    "print('\\nAMT_REQ_CREDIT_BUREAU_MON'); print(app['AMT_REQ_CREDIT_BUREAU_MON'].value_counts(dropna=False)/len(app))\n",
    "print('\\nAMT_REQ_CREDIT_BUREAU_QRT'); print(app['AMT_REQ_CREDIT_BUREAU_QRT'].value_counts(dropna=False)/len(app))\n",
    "print('\\nAMT_REQ_CREDIT_BUREAU_YEAR'); print(app['AMT_REQ_CREDIT_BUREAU_YEAR'].value_counts(dropna=False)/len(app))"
   ]
  },
  {
   "cell_type": "code",
   "execution_count": 30,
   "metadata": {},
   "outputs": [],
   "source": [
    "# Removing the attributes\n",
    "app.drop(['AMT_REQ_CREDIT_BUREAU_HOUR', 'AMT_REQ_CREDIT_BUREAU_DAY', \\\n",
    "          'AMT_REQ_CREDIT_BUREAU_WEEK'], axis=1, inplace=True)"
   ]
  },
  {
   "cell_type": "markdown",
   "metadata": {},
   "source": [
    "The maximum value for AMT_REQ_CREDIT_BUREAU_QRT looks spuriuos. Let's replace with NaN. It will be imputed later."
   ]
  },
  {
   "cell_type": "code",
   "execution_count": 31,
   "metadata": {},
   "outputs": [],
   "source": [
    "# Replacing the spurious value with NaN\n",
    "app.loc[app['AMT_REQ_CREDIT_BUREAU_QRT'] == 261,['AMT_REQ_CREDIT_BUREAU_QRT']] = NaN"
   ]
  },
  {
   "cell_type": "markdown",
   "metadata": {},
   "source": [
    "<a id='burint'></a>\n",
    "## B. Checking 'bureau' Dataframe  \n",
    "### (a) First check integer type attributes\n",
    "\n",
    "[Return](#toc)"
   ]
  },
  {
   "cell_type": "code",
   "execution_count": 32,
   "metadata": {},
   "outputs": [
    {
     "data": {
      "text/html": [
       "<div>\n",
       "<style scoped>\n",
       "    .dataframe tbody tr th:only-of-type {\n",
       "        vertical-align: middle;\n",
       "    }\n",
       "\n",
       "    .dataframe tbody tr th {\n",
       "        vertical-align: top;\n",
       "    }\n",
       "\n",
       "    .dataframe thead th {\n",
       "        text-align: right;\n",
       "    }\n",
       "</style>\n",
       "<table border=\"1\" class=\"dataframe\">\n",
       "  <thead>\n",
       "    <tr style=\"text-align: right;\">\n",
       "      <th></th>\n",
       "      <th>SK_ID_CURR</th>\n",
       "      <th>SK_ID_BUREAU</th>\n",
       "      <th>DAYS_CREDIT</th>\n",
       "      <th>CREDIT_DAY_OVERDUE</th>\n",
       "      <th>CNT_CREDIT_PROLONG</th>\n",
       "      <th>DAYS_CREDIT_UPDATE</th>\n",
       "    </tr>\n",
       "  </thead>\n",
       "  <tbody>\n",
       "    <tr>\n",
       "      <th>count</th>\n",
       "      <td>1.716428e+06</td>\n",
       "      <td>1.716428e+06</td>\n",
       "      <td>1.716428e+06</td>\n",
       "      <td>1.716428e+06</td>\n",
       "      <td>1.716428e+06</td>\n",
       "      <td>1.716428e+06</td>\n",
       "    </tr>\n",
       "    <tr>\n",
       "      <th>mean</th>\n",
       "      <td>2.782149e+05</td>\n",
       "      <td>5.924434e+06</td>\n",
       "      <td>-1.142108e+03</td>\n",
       "      <td>8.181666e-01</td>\n",
       "      <td>6.410406e-03</td>\n",
       "      <td>-5.937483e+02</td>\n",
       "    </tr>\n",
       "    <tr>\n",
       "      <th>std</th>\n",
       "      <td>1.029386e+05</td>\n",
       "      <td>5.322657e+05</td>\n",
       "      <td>7.951649e+02</td>\n",
       "      <td>3.654443e+01</td>\n",
       "      <td>9.622391e-02</td>\n",
       "      <td>7.207473e+02</td>\n",
       "    </tr>\n",
       "    <tr>\n",
       "      <th>min</th>\n",
       "      <td>1.000010e+05</td>\n",
       "      <td>5.000000e+06</td>\n",
       "      <td>-2.922000e+03</td>\n",
       "      <td>0.000000e+00</td>\n",
       "      <td>0.000000e+00</td>\n",
       "      <td>-4.194700e+04</td>\n",
       "    </tr>\n",
       "    <tr>\n",
       "      <th>25%</th>\n",
       "      <td>1.888668e+05</td>\n",
       "      <td>5.463954e+06</td>\n",
       "      <td>-1.666000e+03</td>\n",
       "      <td>0.000000e+00</td>\n",
       "      <td>0.000000e+00</td>\n",
       "      <td>-9.080000e+02</td>\n",
       "    </tr>\n",
       "    <tr>\n",
       "      <th>50%</th>\n",
       "      <td>2.780550e+05</td>\n",
       "      <td>5.926304e+06</td>\n",
       "      <td>-9.870000e+02</td>\n",
       "      <td>0.000000e+00</td>\n",
       "      <td>0.000000e+00</td>\n",
       "      <td>-3.950000e+02</td>\n",
       "    </tr>\n",
       "    <tr>\n",
       "      <th>75%</th>\n",
       "      <td>3.674260e+05</td>\n",
       "      <td>6.385681e+06</td>\n",
       "      <td>-4.740000e+02</td>\n",
       "      <td>0.000000e+00</td>\n",
       "      <td>0.000000e+00</td>\n",
       "      <td>-3.300000e+01</td>\n",
       "    </tr>\n",
       "    <tr>\n",
       "      <th>max</th>\n",
       "      <td>4.562550e+05</td>\n",
       "      <td>6.843457e+06</td>\n",
       "      <td>0.000000e+00</td>\n",
       "      <td>2.792000e+03</td>\n",
       "      <td>9.000000e+00</td>\n",
       "      <td>3.720000e+02</td>\n",
       "    </tr>\n",
       "  </tbody>\n",
       "</table>\n",
       "</div>"
      ],
      "text/plain": [
       "         SK_ID_CURR  SK_ID_BUREAU   DAYS_CREDIT  CREDIT_DAY_OVERDUE  \\\n",
       "count  1.716428e+06  1.716428e+06  1.716428e+06        1.716428e+06   \n",
       "mean   2.782149e+05  5.924434e+06 -1.142108e+03        8.181666e-01   \n",
       "std    1.029386e+05  5.322657e+05  7.951649e+02        3.654443e+01   \n",
       "min    1.000010e+05  5.000000e+06 -2.922000e+03        0.000000e+00   \n",
       "25%    1.888668e+05  5.463954e+06 -1.666000e+03        0.000000e+00   \n",
       "50%    2.780550e+05  5.926304e+06 -9.870000e+02        0.000000e+00   \n",
       "75%    3.674260e+05  6.385681e+06 -4.740000e+02        0.000000e+00   \n",
       "max    4.562550e+05  6.843457e+06  0.000000e+00        2.792000e+03   \n",
       "\n",
       "       CNT_CREDIT_PROLONG  DAYS_CREDIT_UPDATE  \n",
       "count        1.716428e+06        1.716428e+06  \n",
       "mean         6.410406e-03       -5.937483e+02  \n",
       "std          9.622391e-02        7.207473e+02  \n",
       "min          0.000000e+00       -4.194700e+04  \n",
       "25%          0.000000e+00       -9.080000e+02  \n",
       "50%          0.000000e+00       -3.950000e+02  \n",
       "75%          0.000000e+00       -3.300000e+01  \n",
       "max          9.000000e+00        3.720000e+02  "
      ]
     },
     "execution_count": 32,
     "metadata": {},
     "output_type": "execute_result"
    }
   ],
   "source": [
    "# Selecting all columns with data type int64\n",
    "bureau.select_dtypes('int64').describe()"
   ]
  },
  {
   "cell_type": "markdown",
   "metadata": {},
   "source": [
    "### DAYS_CREDIT\n",
    "Distribution looks ok."
   ]
  },
  {
   "cell_type": "code",
   "execution_count": 33,
   "metadata": {},
   "outputs": [
    {
     "data": {
      "image/png": "[encoded data removed]",
      "text/plain": [
       "<Figure size 432x288 with 1 Axes>"
      ]
     },
     "metadata": {
      "needs_background": "light"
     },
     "output_type": "display_data"
    }
   ],
   "source": [
    "bureau['DAYS_CREDIT'].plot.hist(title = 'DAYS_CREDIT');"
   ]
  },
  {
   "cell_type": "markdown",
   "metadata": {},
   "source": [
    "### CREDIT_DAY_OVERDUE and CNT_CREDIT_PROLONG\n",
    "Over 99% of the values for these attributes are 0. These attributes will be removed."
   ]
  },
  {
   "cell_type": "code",
   "execution_count": 34,
   "metadata": {},
   "outputs": [
    {
     "name": "stdout",
     "output_type": "stream",
     "text": [
      "CREDIT_DAY_OVERDUE\n",
      "0    99.754315\n",
      "8     0.006001\n",
      "9     0.005418\n",
      "7     0.005360\n",
      "6     0.003437\n",
      "5     0.002971\n",
      "4     0.002680\n",
      "3     0.001690\n",
      "2     0.001049\n",
      "1     0.000291\n",
      "Name: CREDIT_DAY_OVERDUE, dtype: float64\n",
      "\n",
      "CNT_CREDIT_PROLONG\n",
      "0    99.469014\n",
      "1     0.443945\n",
      "2     0.071194\n",
      "3     0.011128\n",
      "4     0.003146\n",
      "5     0.001223\n",
      "9     0.000117\n",
      "6     0.000117\n",
      "8     0.000058\n",
      "7     0.000058\n",
      "Name: CNT_CREDIT_PROLONG, dtype: float64\n"
     ]
    }
   ],
   "source": [
    "# Checking the 'low end' of the frequency tables - examining percentages\n",
    "print('CREDIT_DAY_OVERDUE'); print(bureau[bureau['CREDIT_DAY_OVERDUE']<10]['CREDIT_DAY_OVERDUE'].value_counts(dropna=False)/len(bureau)*100)\n",
    "print('\\nCNT_CREDIT_PROLONG'); print(bureau[bureau['CNT_CREDIT_PROLONG']<10]['CNT_CREDIT_PROLONG'].value_counts(dropna=False)/len(bureau)*100)"
   ]
  },
  {
   "cell_type": "code",
   "execution_count": 35,
   "metadata": {},
   "outputs": [],
   "source": [
    "# Removing the attributes\n",
    "bureau.drop(['CREDIT_DAY_OVERDUE', 'CNT_CREDIT_PROLONG'], axis = 1, inplace=True)"
   ]
  },
  {
   "cell_type": "markdown",
   "metadata": {},
   "source": [
    "### DAYS_CREDIT_UPDATE\n",
    "This attribute has inconsistent positive values and a very large (in absolute terms) minimum value representing 115 years.\n",
    "\n",
    "Lets check the distribution of \"reasonable\" values between 0 and -3000."
   ]
  },
  {
   "cell_type": "code",
   "execution_count": 36,
   "metadata": {},
   "outputs": [
    {
     "data": {
      "image/png": "[encoded data removed]",
      "text/plain": [
       "<Figure size 432x288 with 1 Axes>"
      ]
     },
     "metadata": {
      "needs_background": "light"
     },
     "output_type": "display_data"
    }
   ],
   "source": [
    "# Looking at the distribution of values between 0 and -3000 (about 8 years)\n",
    "bureau[(bureau['DAYS_CREDIT_UPDATE']<0) & (bureau['DAYS_CREDIT_UPDATE']>-3000)]['DAYS_CREDIT_UPDATE'].plot.hist(title='DAYS_CREDIT_UPDATE');"
   ]
  },
  {
   "cell_type": "markdown",
   "metadata": {},
   "source": [
    "The distribution of between 0 and -3000 (about 8 years) looks ok. Let's check the 'outliers' below -3000 and above 0."
   ]
  },
  {
   "cell_type": "code",
   "execution_count": 37,
   "metadata": {},
   "outputs": [
    {
     "name": "stdout",
     "output_type": "stream",
     "text": [
      "95 observations below -3000 (about 8 years)\n",
      "17 observations above 0\n"
     ]
    }
   ],
   "source": [
    "# Number of observations with DAYS_CREDIT_UPDATE below -3000 (about 8 years) and above 0\n",
    "print(\"{} observations below -3000 (about 8 years)\".format(sum(bureau['DAYS_CREDIT_UPDATE']<-3000)))\n",
    "print(\"{} observations above 0\".format(sum(bureau['DAYS_CREDIT_UPDATE']>0)))"
   ]
  },
  {
   "cell_type": "code",
   "execution_count": 38,
   "metadata": {},
   "outputs": [
    {
     "data": {
      "image/png": "[encoded data removed]",
      "text/plain": [
       "<Figure size 432x288 with 1 Axes>"
      ]
     },
     "metadata": {
      "needs_background": "light"
     },
     "output_type": "display_data"
    }
   ],
   "source": [
    "# Distribution below -3000\n",
    "bureau[bureau['DAYS_CREDIT_UPDATE']<-3000]['DAYS_CREDIT_UPDATE'].plot.hist(title='DAYS_CREDIT_UPDATE < -3000');"
   ]
  },
  {
   "cell_type": "code",
   "execution_count": 39,
   "metadata": {},
   "outputs": [
    {
     "data": {
      "image/png": "[encoded data removed]",
      "text/plain": [
       "<Figure size 432x288 with 1 Axes>"
      ]
     },
     "metadata": {
      "needs_background": "light"
     },
     "output_type": "display_data"
    }
   ],
   "source": [
    "# Distribution above zero\n",
    "bureau[bureau['DAYS_CREDIT_UPDATE']>0]['DAYS_CREDIT_UPDATE'].plot.hist(title='DAYS_CREDIT_UPDATE > 0');"
   ]
  },
  {
   "cell_type": "markdown",
   "metadata": {},
   "source": [
    "The values below -3000 and above 0 look spurious. We will replace these values with NaN."
   ]
  },
  {
   "cell_type": "code",
   "execution_count": 40,
   "metadata": {},
   "outputs": [],
   "source": [
    "# Replacing spurious values with NaN\n",
    "bureau.loc[bureau['DAYS_CREDIT_UPDATE'] < -3000, ['DAYS_CREDIT_UPDATE']] = NaN\n",
    "bureau.loc[bureau['DAYS_CREDIT_UPDATE'] > 0, ['DAYS_CREDIT_UPDATE']] = NaN"
   ]
  },
  {
   "cell_type": "markdown",
   "metadata": {},
   "source": [
    "<a id='burfloat'></a>\n",
    "### (b) Now check the float type attributes\n",
    "\n",
    "[Return](#toc)"
   ]
  },
  {
   "cell_type": "code",
   "execution_count": 41,
   "metadata": {},
   "outputs": [
    {
     "data": {
      "text/html": [
       "<div>\n",
       "<style scoped>\n",
       "    .dataframe tbody tr th:only-of-type {\n",
       "        vertical-align: middle;\n",
       "    }\n",
       "\n",
       "    .dataframe tbody tr th {\n",
       "        vertical-align: top;\n",
       "    }\n",
       "\n",
       "    .dataframe thead th {\n",
       "        text-align: right;\n",
       "    }\n",
       "</style>\n",
       "<table border=\"1\" class=\"dataframe\">\n",
       "  <thead>\n",
       "    <tr style=\"text-align: right;\">\n",
       "      <th></th>\n",
       "      <th>DAYS_CREDIT_ENDDATE</th>\n",
       "      <th>DAYS_ENDDATE_FACT</th>\n",
       "      <th>AMT_CREDIT_MAX_OVERDUE</th>\n",
       "      <th>AMT_CREDIT_SUM</th>\n",
       "      <th>AMT_CREDIT_SUM_DEBT</th>\n",
       "      <th>AMT_CREDIT_SUM_LIMIT</th>\n",
       "      <th>AMT_CREDIT_SUM_OVERDUE</th>\n",
       "      <th>DAYS_CREDIT_UPDATE</th>\n",
       "      <th>AMT_ANNUITY</th>\n",
       "    </tr>\n",
       "  </thead>\n",
       "  <tbody>\n",
       "    <tr>\n",
       "      <th>count</th>\n",
       "      <td>1.610875e+06</td>\n",
       "      <td>1.082775e+06</td>\n",
       "      <td>5.919400e+05</td>\n",
       "      <td>1.716415e+06</td>\n",
       "      <td>1.458759e+06</td>\n",
       "      <td>1.124648e+06</td>\n",
       "      <td>1.716428e+06</td>\n",
       "      <td>1.716316e+06</td>\n",
       "      <td>4.896370e+05</td>\n",
       "    </tr>\n",
       "    <tr>\n",
       "      <th>mean</th>\n",
       "      <td>5.105174e+02</td>\n",
       "      <td>-1.017437e+03</td>\n",
       "      <td>3.825418e+03</td>\n",
       "      <td>3.549946e+05</td>\n",
       "      <td>1.370851e+05</td>\n",
       "      <td>6.229515e+03</td>\n",
       "      <td>3.791276e+01</td>\n",
       "      <td>-5.914685e+02</td>\n",
       "      <td>1.571276e+04</td>\n",
       "    </tr>\n",
       "    <tr>\n",
       "      <th>std</th>\n",
       "      <td>4.994220e+03</td>\n",
       "      <td>7.140106e+02</td>\n",
       "      <td>2.060316e+05</td>\n",
       "      <td>1.149811e+06</td>\n",
       "      <td>6.774011e+05</td>\n",
       "      <td>4.503203e+04</td>\n",
       "      <td>5.937650e+03</td>\n",
       "      <td>6.519864e+02</td>\n",
       "      <td>3.258269e+05</td>\n",
       "    </tr>\n",
       "    <tr>\n",
       "      <th>min</th>\n",
       "      <td>-4.206000e+04</td>\n",
       "      <td>-4.202300e+04</td>\n",
       "      <td>0.000000e+00</td>\n",
       "      <td>0.000000e+00</td>\n",
       "      <td>-4.705600e+06</td>\n",
       "      <td>-5.864061e+05</td>\n",
       "      <td>0.000000e+00</td>\n",
       "      <td>-2.917000e+03</td>\n",
       "      <td>0.000000e+00</td>\n",
       "    </tr>\n",
       "    <tr>\n",
       "      <th>25%</th>\n",
       "      <td>-1.138000e+03</td>\n",
       "      <td>-1.489000e+03</td>\n",
       "      <td>0.000000e+00</td>\n",
       "      <td>5.130000e+04</td>\n",
       "      <td>0.000000e+00</td>\n",
       "      <td>0.000000e+00</td>\n",
       "      <td>0.000000e+00</td>\n",
       "      <td>-9.080000e+02</td>\n",
       "      <td>0.000000e+00</td>\n",
       "    </tr>\n",
       "    <tr>\n",
       "      <th>50%</th>\n",
       "      <td>-3.300000e+02</td>\n",
       "      <td>-8.970000e+02</td>\n",
       "      <td>0.000000e+00</td>\n",
       "      <td>1.255185e+05</td>\n",
       "      <td>0.000000e+00</td>\n",
       "      <td>0.000000e+00</td>\n",
       "      <td>0.000000e+00</td>\n",
       "      <td>-3.950000e+02</td>\n",
       "      <td>0.000000e+00</td>\n",
       "    </tr>\n",
       "    <tr>\n",
       "      <th>75%</th>\n",
       "      <td>4.740000e+02</td>\n",
       "      <td>-4.250000e+02</td>\n",
       "      <td>0.000000e+00</td>\n",
       "      <td>3.150000e+05</td>\n",
       "      <td>4.015350e+04</td>\n",
       "      <td>0.000000e+00</td>\n",
       "      <td>0.000000e+00</td>\n",
       "      <td>-3.300000e+01</td>\n",
       "      <td>1.350000e+04</td>\n",
       "    </tr>\n",
       "    <tr>\n",
       "      <th>max</th>\n",
       "      <td>3.119900e+04</td>\n",
       "      <td>0.000000e+00</td>\n",
       "      <td>1.159872e+08</td>\n",
       "      <td>5.850000e+08</td>\n",
       "      <td>1.701000e+08</td>\n",
       "      <td>4.705600e+06</td>\n",
       "      <td>3.756681e+06</td>\n",
       "      <td>0.000000e+00</td>\n",
       "      <td>1.184534e+08</td>\n",
       "    </tr>\n",
       "  </tbody>\n",
       "</table>\n",
       "</div>"
      ],
      "text/plain": [
       "       DAYS_CREDIT_ENDDATE  DAYS_ENDDATE_FACT  AMT_CREDIT_MAX_OVERDUE  \\\n",
       "count         1.610875e+06       1.082775e+06            5.919400e+05   \n",
       "mean          5.105174e+02      -1.017437e+03            3.825418e+03   \n",
       "std           4.994220e+03       7.140106e+02            2.060316e+05   \n",
       "min          -4.206000e+04      -4.202300e+04            0.000000e+00   \n",
       "25%          -1.138000e+03      -1.489000e+03            0.000000e+00   \n",
       "50%          -3.300000e+02      -8.970000e+02            0.000000e+00   \n",
       "75%           4.740000e+02      -4.250000e+02            0.000000e+00   \n",
       "max           3.119900e+04       0.000000e+00            1.159872e+08   \n",
       "\n",
       "       AMT_CREDIT_SUM  AMT_CREDIT_SUM_DEBT  AMT_CREDIT_SUM_LIMIT  \\\n",
       "count    1.716415e+06         1.458759e+06          1.124648e+06   \n",
       "mean     3.549946e+05         1.370851e+05          6.229515e+03   \n",
       "std      1.149811e+06         6.774011e+05          4.503203e+04   \n",
       "min      0.000000e+00        -4.705600e+06         -5.864061e+05   \n",
       "25%      5.130000e+04         0.000000e+00          0.000000e+00   \n",
       "50%      1.255185e+05         0.000000e+00          0.000000e+00   \n",
       "75%      3.150000e+05         4.015350e+04          0.000000e+00   \n",
       "max      5.850000e+08         1.701000e+08          4.705600e+06   \n",
       "\n",
       "       AMT_CREDIT_SUM_OVERDUE  DAYS_CREDIT_UPDATE   AMT_ANNUITY  \n",
       "count            1.716428e+06        1.716316e+06  4.896370e+05  \n",
       "mean             3.791276e+01       -5.914685e+02  1.571276e+04  \n",
       "std              5.937650e+03        6.519864e+02  3.258269e+05  \n",
       "min              0.000000e+00       -2.917000e+03  0.000000e+00  \n",
       "25%              0.000000e+00       -9.080000e+02  0.000000e+00  \n",
       "50%              0.000000e+00       -3.950000e+02  0.000000e+00  \n",
       "75%              0.000000e+00       -3.300000e+01  1.350000e+04  \n",
       "max              3.756681e+06        0.000000e+00  1.184534e+08  "
      ]
     },
     "execution_count": 41,
     "metadata": {},
     "output_type": "execute_result"
    }
   ],
   "source": [
    "# Selecting all columns with data type float\n",
    "bureau.select_dtypes('float').describe()"
   ]
  },
  {
   "cell_type": "markdown",
   "metadata": {},
   "source": [
    "### DAYS_CREDIT_ENDDATE\n",
    "This attribute has inconsistent positive values and a very large (in absolute terms) minimum value representing 115 years."
   ]
  },
  {
   "cell_type": "code",
   "execution_count": 42,
   "metadata": {},
   "outputs": [
    {
     "name": "stdout",
     "output_type": "stream",
     "text": [
      "Number of positive values: 602603\n",
      "Percenatge of positive values: 35.1%\n"
     ]
    }
   ],
   "source": [
    "# Count the positive values\n",
    "print(\"Number of positive values: {}\".format(sum(bureau['DAYS_CREDIT_ENDDATE']>0)))\n",
    "print(\"Percenatge of positive values: {}%\".format(round(sum(bureau['DAYS_CREDIT_ENDDATE']>0)/len(bureau)*100,1)))"
   ]
  },
  {
   "cell_type": "code",
   "execution_count": 43,
   "metadata": {},
   "outputs": [
    {
     "data": {
      "image/png": "[encoded data removed]",
      "text/plain": [
       "<Figure size 432x288 with 1 Axes>"
      ]
     },
     "metadata": {
      "needs_background": "light"
     },
     "output_type": "display_data"
    }
   ],
   "source": [
    "# Distribution of positive values\n",
    "bureau[bureau['DAYS_CREDIT_ENDDATE']>0]['DAYS_CREDIT_ENDDATE']\\\n",
    ".plot.hist(title = 'DAYS_CREDIT_ENDDATE > 0');"
   ]
  },
  {
   "cell_type": "code",
   "execution_count": 44,
   "metadata": {},
   "outputs": [
    {
     "data": {
      "image/png": "[encoded data removed]",
      "text/plain": [
       "<Figure size 432x288 with 1 Axes>"
      ]
     },
     "metadata": {
      "needs_background": "light"
     },
     "output_type": "display_data"
    }
   ],
   "source": [
    "# Distribution of negative values\n",
    "bureau[bureau['DAYS_CREDIT_ENDDATE']<=0]['DAYS_CREDIT_ENDDATE']\\\n",
    ".plot.hist(title = 'DAYS_CREDIT_ENDDATE <= 0');"
   ]
  },
  {
   "cell_type": "markdown",
   "metadata": {},
   "source": [
    "This attribute may be corrupted given the large number of inconsistent positive values. We will remove this attribute."
   ]
  },
  {
   "cell_type": "code",
   "execution_count": 45,
   "metadata": {},
   "outputs": [],
   "source": [
    "# Removing the attribute\n",
    "bureau.drop('DAYS_CREDIT_ENDDATE', axis = 1, inplace=True)"
   ]
  },
  {
   "cell_type": "markdown",
   "metadata": {},
   "source": [
    "### DAYS_ENDDATE_FACT\n",
    "There are no inconsistent values but a very large (in absolute terms) minimum value representing 115 years. Let's look at the distribution."
   ]
  },
  {
   "cell_type": "code",
   "execution_count": 41,
   "metadata": {},
   "outputs": [
    {
     "name": "stdout",
     "output_type": "stream",
     "text": [
      "Distribution with extreme value.\n",
      "\n"
     ]
    },
    {
     "data": {
      "image/png": "[encoded data removed]",
      "text/plain": [
       "<Figure size 432x288 with 1 Axes>"
      ]
     },
     "metadata": {
      "needs_background": "light"
     },
     "output_type": "display_data"
    }
   ],
   "source": [
    "print('Distribution with extreme value.\\n')\n",
    "bureau['DAYS_ENDDATE_FACT'].plot.hist(title='DAYS_ENDDATE_FACT distribution');"
   ]
  },
  {
   "cell_type": "code",
   "execution_count": 38,
   "metadata": {},
   "outputs": [
    {
     "data": {
      "image/png": "[encoded data removed]",
      "text/plain": [
       "<Figure size 432x288 with 1 Axes>"
      ]
     },
     "metadata": {
      "needs_background": "light"
     },
     "output_type": "display_data"
    }
   ],
   "source": [
    "bureau[(bureau['DAYS_ENDDATE_FACT']<-2500) & (bureau['DAYS_ENDDATE_FACT']>-50000)]['DAYS_ENDDATE_FACT']\\\n",
    ".plot.hist(title='Low end of DAYS_ENDDATE_FACT distribution');"
   ]
  },
  {
   "cell_type": "markdown",
   "metadata": {},
   "source": [
    "There appears to be one spurious observations. Let's replace the observation with NaN."
   ]
  },
  {
   "cell_type": "code",
   "execution_count": 39,
   "metadata": {},
   "outputs": [
    {
     "name": "stdout",
     "output_type": "stream",
     "text": [
      "Frequency count of observations below -3000:\n"
     ]
    },
    {
     "data": {
      "text/plain": [
       "-3042.0     1\n",
       "-42023.0    1\n",
       "Name: DAYS_ENDDATE_FACT, dtype: int64"
      ]
     },
     "execution_count": 39,
     "metadata": {},
     "output_type": "execute_result"
    }
   ],
   "source": [
    "# Checking the low end of the frequency table\n",
    "print('Frequency count of observations below -3000:')\n",
    "bureau[(bureau['DAYS_ENDDATE_FACT']<-3000) & (bureau['DAYS_ENDDATE_FACT']>-50000)]['DAYS_ENDDATE_FACT'].value_counts()"
   ]
  },
  {
   "cell_type": "code",
   "execution_count": 42,
   "metadata": {},
   "outputs": [
    {
     "name": "stdout",
     "output_type": "stream",
     "text": [
      "The distribution looks better with the extreme value removed.\n",
      "\n"
     ]
    },
    {
     "data": {
      "image/png": "[encoded data removed]",
      "text/plain": [
       "<Figure size 432x288 with 1 Axes>"
      ]
     },
     "metadata": {
      "needs_background": "light"
     },
     "output_type": "display_data"
    }
   ],
   "source": [
    "# Replacing the observation with NaN\n",
    "bureau.loc[bureau['DAYS_ENDDATE_FACT'] == -42023, ['DAYS_ENDDATE_FACT']] = NaN\n",
    "print('The distribution looks better with the extreme value removed.\\n')\n",
    "bureau['DAYS_ENDDATE_FACT'].plot.hist(title='DAYS_ENDDATE_FACT distribution');"
   ]
  },
  {
   "cell_type": "markdown",
   "metadata": {},
   "source": [
    "### AMT_CREDIT_MAX_OVERDUE\n",
    "There are no inconsistent values but a low number of high 'outlier' values. We will leave 'as is'."
   ]
  },
  {
   "cell_type": "code",
   "execution_count": 49,
   "metadata": {},
   "outputs": [
    {
     "name": "stdout",
     "output_type": "stream",
     "text": [
      "The number of observations above 100,000 is:1503\n"
     ]
    },
    {
     "data": {
      "image/png": "[encoded data removed]",
      "text/plain": [
       "<Figure size 432x288 with 1 Axes>"
      ]
     },
     "metadata": {
      "needs_background": "light"
     },
     "output_type": "display_data"
    }
   ],
   "source": [
    "print('The number of observations above 100,000 is:' +str(sum(bureau['AMT_CREDIT_MAX_OVERDUE']>100000)))\n",
    "bureau['AMT_CREDIT_MAX_OVERDUE'].plot.hist(title ='AMT_CREDIT_MAX_OVERDUE');\n",
    "\n",
    "#data = bureau[bureau['AMT_CREDIT_MAX_OVERDUE']>100000]['AMT_CREDIT_MAX_OVERDUE']\n",
    "#data.plot.hist(title='AMT_CREDIT_MAX_OVERDUE > 100,000');"
   ]
  },
  {
   "cell_type": "markdown",
   "metadata": {},
   "source": [
    "### AMT_CREDIT_SUM\n",
    "There are no inconsistent values but a low number of high 'outlier' values. We will leave 'as is'."
   ]
  },
  {
   "cell_type": "code",
   "execution_count": 50,
   "metadata": {},
   "outputs": [
    {
     "name": "stdout",
     "output_type": "stream",
     "text": [
      "The number of observations above 10,000,000 is:2183\n"
     ]
    },
    {
     "data": {
      "image/png": "[encoded data removed]",
      "text/plain": [
       "<Figure size 432x288 with 1 Axes>"
      ]
     },
     "metadata": {
      "needs_background": "light"
     },
     "output_type": "display_data"
    }
   ],
   "source": [
    "print('The number of observations above 10,000,000 is:' +str(sum(bureau['AMT_CREDIT_SUM']>10000000)))\n",
    "bureau['AMT_CREDIT_SUM'].plot.hist(title ='AMT_CREDIT_SUM');"
   ]
  },
  {
   "cell_type": "markdown",
   "metadata": {},
   "source": [
    "### AMT_CREDIT_SUM_DEBT\n",
    "There are negative values which seems inconsistent with the definition of 'amount of debt'. Let's examine the negative values."
   ]
  },
  {
   "cell_type": "code",
   "execution_count": 51,
   "metadata": {},
   "outputs": [
    {
     "name": "stdout",
     "output_type": "stream",
     "text": [
      "count    8.418000e+03\n",
      "mean    -7.810927e+03\n",
      "std      9.690395e+04\n",
      "min     -4.705600e+06\n",
      "25%     -4.920300e+02\n",
      "50%     -1.982925e+02\n",
      "75%     -4.550625e+01\n",
      "max     -4.500000e-02\n",
      "Name: AMT_CREDIT_SUM_DEBT, dtype: float64\n",
      "\n",
      "The percentage of negative values is 0.5%\n"
     ]
    }
   ],
   "source": [
    "# Looking at the negative values\n",
    "print(bureau[bureau['AMT_CREDIT_SUM_DEBT']<0]['AMT_CREDIT_SUM_DEBT'].describe())\n",
    "print('\\nThe percentage of negative values is {}%'.format(round(sum(bureau['AMT_CREDIT_SUM_DEBT']<0)/len(bureau)*100,1)))"
   ]
  },
  {
   "cell_type": "markdown",
   "metadata": {},
   "source": [
    "The amount of negative values is small. We will set these observations to NaN. "
   ]
  },
  {
   "cell_type": "code",
   "execution_count": 52,
   "metadata": {},
   "outputs": [],
   "source": [
    "# Setting the observations to NaN\n",
    "bureau.loc[bureau['AMT_CREDIT_SUM_DEBT'] <0, ['AMT_CREDIT_SUM_DEBT']] = NaN"
   ]
  },
  {
   "cell_type": "markdown",
   "metadata": {},
   "source": [
    "Let's check the distribution of the remaining positive values."
   ]
  },
  {
   "cell_type": "code",
   "execution_count": 53,
   "metadata": {},
   "outputs": [
    {
     "data": {
      "image/png": "[encoded data removed]",
      "text/plain": [
       "<Figure size 432x288 with 1 Axes>"
      ]
     },
     "metadata": {
      "needs_background": "light"
     },
     "output_type": "display_data"
    }
   ],
   "source": [
    "bureau['AMT_CREDIT_SUM_DEBT'].plot.hist(title='AMT_CREDIT_SUM_DEBT');"
   ]
  },
  {
   "cell_type": "markdown",
   "metadata": {},
   "source": [
    "Let's check the high end of the distribution"
   ]
  },
  {
   "cell_type": "code",
   "execution_count": 54,
   "metadata": {},
   "outputs": [
    {
     "data": {
      "image/png": "[encoded data removed]",
      "text/plain": [
       "<Figure size 432x288 with 1 Axes>"
      ]
     },
     "metadata": {
      "needs_background": "light"
     },
     "output_type": "display_data"
    }
   ],
   "source": [
    "# Plotting the high end of the distribution\n",
    "bureau[bureau['AMT_CREDIT_SUM_DEBT']>10000000]['AMT_CREDIT_SUM_DEBT'].plot.hist(title='High End of AMT_CREDIT_SUM_DEBT Distribution');"
   ]
  },
  {
   "cell_type": "markdown",
   "metadata": {},
   "source": [
    "There is a low number of high values. We will leave 'as is' for now."
   ]
  },
  {
   "cell_type": "markdown",
   "metadata": {},
   "source": [
    "### AMT_CREDIT_SUM_LIMIT\n",
    "There is a small number of negative values that seem spurious given this attributes represents a credit limit. These observations will be set to NaN."
   ]
  },
  {
   "cell_type": "code",
   "execution_count": 55,
   "metadata": {},
   "outputs": [
    {
     "data": {
      "text/plain": [
       "count       351.000000\n",
       "mean     -23759.679744\n",
       "std       62744.391989\n",
       "min     -586406.115000\n",
       "25%      -11656.845000\n",
       "50%       -4491.180000\n",
       "75%       -1495.395000\n",
       "max          -0.135000\n",
       "Name: AMT_CREDIT_SUM_LIMIT, dtype: float64"
      ]
     },
     "execution_count": 55,
     "metadata": {},
     "output_type": "execute_result"
    }
   ],
   "source": [
    "# Looking at the negative values\n",
    "bureau[bureau['AMT_CREDIT_SUM_LIMIT']<0]['AMT_CREDIT_SUM_LIMIT'].describe()"
   ]
  },
  {
   "cell_type": "code",
   "execution_count": 56,
   "metadata": {},
   "outputs": [
    {
     "data": {
      "image/png": "[encoded data removed]",
      "text/plain": [
       "<Figure size 432x288 with 1 Axes>"
      ]
     },
     "metadata": {
      "needs_background": "light"
     },
     "output_type": "display_data"
    }
   ],
   "source": [
    "# Distribution of the positive values\n",
    "bureau[bureau['AMT_CREDIT_SUM_LIMIT']>0]['AMT_CREDIT_SUM_LIMIT'].plot.hist(title = 'AMT_CREDIT_SUM_LIMIT > 0');"
   ]
  },
  {
   "cell_type": "code",
   "execution_count": 57,
   "metadata": {},
   "outputs": [],
   "source": [
    "# Setting the observations to NaN\n",
    "bureau.loc[bureau['AMT_CREDIT_SUM_LIMIT'] <0, ['AMT_CREDIT_SUM_LIMIT']] = NaN"
   ]
  },
  {
   "cell_type": "markdown",
   "metadata": {},
   "source": [
    "### AMT_CREDIT_SUM_OVERDUE\n",
    "Over 99% of values are zero. We will drop this attribute."
   ]
  },
  {
   "cell_type": "code",
   "execution_count": 58,
   "metadata": {},
   "outputs": [
    {
     "name": "stdout",
     "output_type": "stream",
     "text": [
      "99.8% of observations equal to 0\n"
     ]
    }
   ],
   "source": [
    "print(\"{}% of observations equal to 0\".format(round(sum(bureau['AMT_CREDIT_SUM_OVERDUE']==0) \\\n",
    "                                                    /len(bureau),3) * 100))\n"
   ]
  },
  {
   "cell_type": "code",
   "execution_count": 59,
   "metadata": {},
   "outputs": [],
   "source": [
    "# Dropping the attribute\n",
    "bureau.drop('AMT_CREDIT_SUM_OVERDUE', axis = 1, inplace = True)"
   ]
  },
  {
   "cell_type": "markdown",
   "metadata": {},
   "source": [
    "### AMT_ANNUITY\n",
    "Recall that AMT_ANNUITY has a large number of missing values (about 72%). Of the non-missing values, over 52% are zero. This attribute should represent the regular repayment amount so zero values are essentailly missing values. Given the large number of missing values, we will remove this attribute."
   ]
  },
  {
   "cell_type": "code",
   "execution_count": 60,
   "metadata": {},
   "outputs": [
    {
     "name": "stdout",
     "output_type": "stream",
     "text": [
      "52.5% of non-NaN values equal to 0\n"
     ]
    }
   ],
   "source": [
    "#Percentage of zero values\n",
    "print('{}% of non-NaN values equal to 0'.format(round(sum(bureau['AMT_ANNUITY']==0)/sum(bureau['AMT_ANNUITY'].notnull()) * 100,1)))"
   ]
  },
  {
   "cell_type": "code",
   "execution_count": 61,
   "metadata": {},
   "outputs": [],
   "source": [
    "# Dropping the attribute\n",
    "bureau.drop('AMT_ANNUITY', axis = 1, inplace = True)"
   ]
  },
  {
   "cell_type": "markdown",
   "metadata": {},
   "source": [
    "<a id='burbal'></a>\n",
    "## C. Checking 'bureau_balance' Dataframe  \n",
    "\n",
    "[Return](#toc)"
   ]
  },
  {
   "cell_type": "code",
   "execution_count": 62,
   "metadata": {},
   "outputs": [
    {
     "data": {
      "text/html": [
       "<div>\n",
       "<style scoped>\n",
       "    .dataframe tbody tr th:only-of-type {\n",
       "        vertical-align: middle;\n",
       "    }\n",
       "\n",
       "    .dataframe tbody tr th {\n",
       "        vertical-align: top;\n",
       "    }\n",
       "\n",
       "    .dataframe thead th {\n",
       "        text-align: right;\n",
       "    }\n",
       "</style>\n",
       "<table border=\"1\" class=\"dataframe\">\n",
       "  <thead>\n",
       "    <tr style=\"text-align: right;\">\n",
       "      <th></th>\n",
       "      <th>SK_ID_BUREAU</th>\n",
       "      <th>MONTHS_BALANCE</th>\n",
       "    </tr>\n",
       "  </thead>\n",
       "  <tbody>\n",
       "    <tr>\n",
       "      <th>count</th>\n",
       "      <td>2.729992e+07</td>\n",
       "      <td>2.729992e+07</td>\n",
       "    </tr>\n",
       "    <tr>\n",
       "      <th>mean</th>\n",
       "      <td>6.036297e+06</td>\n",
       "      <td>-3.074169e+01</td>\n",
       "    </tr>\n",
       "    <tr>\n",
       "      <th>std</th>\n",
       "      <td>4.923489e+05</td>\n",
       "      <td>2.386451e+01</td>\n",
       "    </tr>\n",
       "    <tr>\n",
       "      <th>min</th>\n",
       "      <td>5.001709e+06</td>\n",
       "      <td>-9.600000e+01</td>\n",
       "    </tr>\n",
       "    <tr>\n",
       "      <th>25%</th>\n",
       "      <td>5.730933e+06</td>\n",
       "      <td>-4.600000e+01</td>\n",
       "    </tr>\n",
       "    <tr>\n",
       "      <th>50%</th>\n",
       "      <td>6.070821e+06</td>\n",
       "      <td>-2.500000e+01</td>\n",
       "    </tr>\n",
       "    <tr>\n",
       "      <th>75%</th>\n",
       "      <td>6.431951e+06</td>\n",
       "      <td>-1.100000e+01</td>\n",
       "    </tr>\n",
       "    <tr>\n",
       "      <th>max</th>\n",
       "      <td>6.842888e+06</td>\n",
       "      <td>0.000000e+00</td>\n",
       "    </tr>\n",
       "  </tbody>\n",
       "</table>\n",
       "</div>"
      ],
      "text/plain": [
       "       SK_ID_BUREAU  MONTHS_BALANCE\n",
       "count  2.729992e+07    2.729992e+07\n",
       "mean   6.036297e+06   -3.074169e+01\n",
       "std    4.923489e+05    2.386451e+01\n",
       "min    5.001709e+06   -9.600000e+01\n",
       "25%    5.730933e+06   -4.600000e+01\n",
       "50%    6.070821e+06   -2.500000e+01\n",
       "75%    6.431951e+06   -1.100000e+01\n",
       "max    6.842888e+06    0.000000e+00"
      ]
     },
     "execution_count": 62,
     "metadata": {},
     "output_type": "execute_result"
    }
   ],
   "source": [
    "# Summary statistics\n",
    "bureau_balance.describe()"
   ]
  },
  {
   "cell_type": "markdown",
   "metadata": {},
   "source": [
    "### MONTHS_BALANCE\n",
    "This is a time stamp in months before application. There appears to be no inconsistent values and the distribution looks as expected."
   ]
  },
  {
   "cell_type": "code",
   "execution_count": 63,
   "metadata": {},
   "outputs": [
    {
     "data": {
      "image/png": "[encoded data removed]",
      "text/plain": [
       "<Figure size 432x288 with 1 Axes>"
      ]
     },
     "metadata": {
      "needs_background": "light"
     },
     "output_type": "display_data"
    }
   ],
   "source": [
    "# Plot the histogram\n",
    "bureau_balance['MONTHS_BALANCE'].plot.hist(title = 'MONTHS_BALANCE (a time stamp in months before application');"
   ]
  },
  {
   "cell_type": "markdown",
   "metadata": {},
   "source": [
    "<a id='cat'></a>\n",
    "# 8. Checking Levels of Categorical Attributes\n",
    "\n",
    "[Return](#toc)"
   ]
  },
  {
   "cell_type": "markdown",
   "metadata": {},
   "source": [
    "<a id='appcat'></a>\n",
    "## A. Checking the dataframe 'app'\n",
    "\n",
    "[Return](#toc)"
   ]
  },
  {
   "cell_type": "code",
   "execution_count": 64,
   "metadata": {},
   "outputs": [
    {
     "data": {
      "text/plain": [
       "NAME_CONTRACT_TYPE             2\n",
       "CODE_GENDER                    3\n",
       "FLAG_OWN_CAR                   2\n",
       "FLAG_OWN_REALTY                2\n",
       "NAME_TYPE_SUITE                7\n",
       "NAME_INCOME_TYPE               8\n",
       "NAME_EDUCATION_TYPE            5\n",
       "NAME_FAMILY_STATUS             6\n",
       "NAME_HOUSING_TYPE              6\n",
       "OCCUPATION_TYPE               18\n",
       "WEEKDAY_APPR_PROCESS_START     7\n",
       "ORGANIZATION_TYPE             58\n",
       "FONDKAPREMONT_MODE             4\n",
       "HOUSETYPE_MODE                 3\n",
       "WALLSMATERIAL_MODE             7\n",
       "EMERGENCYSTATE_MODE            2\n",
       "dtype: int64"
      ]
     },
     "execution_count": 64,
     "metadata": {},
     "output_type": "execute_result"
    }
   ],
   "source": [
    "# Show the number of unique levels for each categorical attribute\n",
    "app.select_dtypes('object').apply(pd.Series.nunique)"
   ]
  },
  {
   "cell_type": "markdown",
   "metadata": {},
   "source": [
    "Most of the categorical variables have a small number of levels with the exception of OCCUPATION_TYPE and ORGANIZATION_TYPE."
   ]
  },
  {
   "cell_type": "markdown",
   "metadata": {},
   "source": [
    "<a id='burcat'></a>\n",
    "## B. Checking the dataframe 'bureau'\n",
    "\n",
    "[Return](#toc)"
   ]
  },
  {
   "cell_type": "code",
   "execution_count": 65,
   "metadata": {},
   "outputs": [
    {
     "data": {
      "text/plain": [
       "CREDIT_ACTIVE       4\n",
       "CREDIT_CURRENCY     4\n",
       "CREDIT_TYPE        15\n",
       "dtype: int64"
      ]
     },
     "execution_count": 65,
     "metadata": {},
     "output_type": "execute_result"
    }
   ],
   "source": [
    "# Show the number of unique levels for each categorical attribute\n",
    "bureau.select_dtypes('object').apply(pd.Series.nunique)"
   ]
  },
  {
   "cell_type": "markdown",
   "metadata": {},
   "source": [
    "<a id='balcat'></a>\n",
    "## C. Checking the dataframe 'bureau_balance'\n",
    "\n",
    "[Return](#toc)"
   ]
  },
  {
   "cell_type": "code",
   "execution_count": 66,
   "metadata": {},
   "outputs": [
    {
     "data": {
      "text/plain": [
       "STATUS    8\n",
       "dtype: int64"
      ]
     },
     "execution_count": 66,
     "metadata": {},
     "output_type": "execute_result"
    }
   ],
   "source": [
    "# Show the number of unique levels for each categorical attribute\n",
    "bureau_balance.select_dtypes('object').apply(pd.Series.nunique)"
   ]
  },
  {
   "cell_type": "markdown",
   "metadata": {},
   "source": [
    "<a id='out'></a>\n",
    "## 9. Outputing the Updated Dataframes for Use in Next Steps\n",
    "\n",
    "[Return](#toc)"
   ]
  },
  {
   "cell_type": "code",
   "execution_count": 67,
   "metadata": {},
   "outputs": [],
   "source": [
    "# Writing dataframes to CSV files\n",
    "path = path+'/initial_output/'\n",
    "app.to_csv(path+'app_init.csv', index=False)\n",
    "bureau.to_csv(path+'bureau_init.csv', index=False)\n",
    "bureau_balance.to_csv(path+'bureau_bal_init.csv', index=False)\n"
   ]
  },
  {
   "cell_type": "code",
   "execution_count": 68,
   "metadata": {},
   "outputs": [
    {
     "data": {
      "text/plain": [
       "(307511, 99)"
      ]
     },
     "execution_count": 68,
     "metadata": {},
     "output_type": "execute_result"
    }
   ],
   "source": [
    "app.shape"
   ]
  },
  {
   "cell_type": "code",
   "execution_count": 69,
   "metadata": {},
   "outputs": [
    {
     "data": {
      "text/plain": [
       "(1716428, 12)"
      ]
     },
     "execution_count": 69,
     "metadata": {},
     "output_type": "execute_result"
    }
   ],
   "source": [
    "bureau.shape"
   ]
  },
  {
   "cell_type": "code",
   "execution_count": 70,
   "metadata": {},
   "outputs": [
    {
     "data": {
      "text/plain": [
       "(27299925, 3)"
      ]
     },
     "execution_count": 70,
     "metadata": {},
     "output_type": "execute_result"
    }
   ],
   "source": [
    "bureau_balance.shape"
   ]
  },
  {
   "cell_type": "code",
   "execution_count": null,
   "metadata": {},
   "outputs": [],
   "source": []
  }
 ],
 "metadata": {
  "kernelspec": {
   "display_name": "Python 3",
   "language": "python",
   "name": "python3"
  },
  "language_info": {
   "codemirror_mode": {
    "name": "ipython",
    "version": 3
   },
   "file_extension": ".py",
   "mimetype": "text/x-python",
   "name": "python",
   "nbconvert_exporter": "python",
   "pygments_lexer": "ipython3",
   "version": "3.6.6"
  }
 },
 "nbformat": 4,
 "nbformat_minor": 2
}
