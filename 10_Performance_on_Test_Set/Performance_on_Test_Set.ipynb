{
 "cells": [
  {
   "cell_type": "markdown",
   "metadata": {},
   "source": [
    "<a id='toc'></a>\n",
    "# Performance on Unseen Test Set\n",
    "\n",
    "1. [Setting up the Environment](#envir)\n",
    "1. [Loading Training and Test Sets](#load)\n",
    "1. [Testing AdaBoost](#ada)\n",
    "1. [Summary of Test Set Results](#summary)"
   ]
  },
  {
   "cell_type": "markdown",
   "metadata": {},
   "source": [
    "<a id='envir'></a>\n",
    "# 1. Setting up the Environment\n",
    "\n",
    "[Return](#toc)"
   ]
  },
  {
   "cell_type": "code",
   "execution_count": 6,
   "metadata": {},
   "outputs": [],
   "source": [
    "import numpy as np\n",
    "import pandas as pd\n",
    "from numpy import nan as NaN\n",
    "from sklearn.metrics import roc_auc_score, roc_curve, auc, confusion_matrix\n",
    "from sklearn.ensemble import AdaBoostClassifier\n",
    "from sklearn.tree import DecisionTreeClassifier\n",
    "import matplotlib.pyplot as plt\n",
    "import seaborn as sns\n",
    "from imblearn.under_sampling import RandomUnderSampler\n",
    "from imblearn.over_sampling import SMOTE\n",
    "import warnings\n",
    "warnings.filterwarnings('ignore')\n",
    "pd.options.display.max_rows = 200\n",
    "pd.options.display.max_columns = 200"
   ]
  },
  {
   "cell_type": "markdown",
   "metadata": {},
   "source": [
    "<a id='load'></a>\n",
    "# 2. Loading Training and Test Sets\n",
    "\n",
    "[Return](#toc)"
   ]
  },
  {
   "cell_type": "code",
   "execution_count": 2,
   "metadata": {},
   "outputs": [],
   "source": [
    "# Reading in the data with the new ratio attributes after correlation \n",
    "# analysis and train/test creation\n",
    "path = 'C:/Users/X/Documents/A_Documents/Cap_Data/CSV'\n",
    "train_set = pd.read_csv(path + '/train_test_sets/train_set_std_extras.csv')\n",
    "train_labels = pd.read_csv(path + '/train_test_sets/train_labels_extras.csv')\n",
    "test_set = pd.read_csv(path + '/train_test_sets/test_set_std_extras.csv')\n",
    "test_labels = pd.read_csv(path + '/train_test_sets/test_labels_extras.csv')"
   ]
  },
  {
   "cell_type": "code",
   "execution_count": 3,
   "metadata": {},
   "outputs": [],
   "source": [
    "# A function to test the model on the test set. The model can be trained with different sampling methods\n",
    "\n",
    "def classify_test_set(clr, train_x, train_y, test_x, test_y, sample_method):\n",
    "    \n",
    "    # Create the random samplers\n",
    "    rus = RandomUnderSampler(random_state=777)\n",
    "    smote = SMOTE(ratio='minority', random_state=777, n_jobs=-1)\n",
    "\n",
    "    fig = plt.figure(figsize=(8,6))\n",
    "        \n",
    "    # Depending on choice of sampling method - execute sampling\n",
    "    if sample_method == 'under':\n",
    "        sampled_x, sampled_y = rus.fit_sample(train_x, train_y)\n",
    "    elif sample_method == 'over':\n",
    "        sampled_x, sampled_y = smote.fit_sample(train_x, train_y)\n",
    "    elif sample_method == 'none':\n",
    "        sampled_x, sampled_y = train_x, train_y            \n",
    "    else:\n",
    "        print('Incorrect Sample Input')\n",
    "        return\n",
    "    \n",
    "    # Train the classifier on the sampled data\n",
    "    clr.fit(sampled_x, sampled_y)\n",
    "    \n",
    "    # Test the classifier on the test set\n",
    "    probs = clr.predict_proba(test_x)\n",
    "    predict = clr.predict(test_x)\n",
    "        \n",
    "    # Return arrays containing the fpr (x-axis), tpr (y-axis) and thresholds\n",
    "    fpr, tpr, thresholds = roc_curve(test_y, probs[:, 1])\n",
    "    \n",
    "    # Compute area under ROC curve\n",
    "    roc_auc = auc(fpr, tpr)\n",
    "    \n",
    "    # Plot ROC curve\n",
    "    plt.plot(fpr, tpr, lw=1, alpha=0.8, label='(AUC = %0.2f)' % (roc_auc))\n",
    "    \n",
    "    # Generate confusion matrix, compute measures and store\n",
    "    matrix = confusion_matrix(test_y, predict)\n",
    "    #matrix = matrix / matrix.sum() # added to normalise confusion matrix\n",
    "    TP = matrix[1,1]\n",
    "    TN = matrix[0,0]\n",
    "    FP = matrix[0,1]\n",
    "    FN = matrix[1,0]\n",
    "    rec = TP/(TP+FN)\n",
    "    prec = TP/(TP+FP)\n",
    "    f1 = 2*prec*rec/(prec+rec)\n",
    "    acc = (TP+TN) /(TP+TN+FP+FN)\n",
    "           \n",
    "    plt.plot([0, 1], [0, 1], linestyle='--', lw=2, color='r', label='Chance', alpha=.8)\n",
    "    plt.xlabel('False Positive Rate', fontsize=15)\n",
    "    plt.ylabel('True Positive Rate', fontsize=15)\n",
    "    plt.title('ROC Curve', fontsize=15)\n",
    "    plt.legend(loc='lower right'); \n",
    "\n",
    "    # Dataframes to return results\n",
    "    matrix = pd.DataFrame(matrix)\n",
    "    matrix.index.name = 'Actual'; matrix.columns.name = 'Predicted'\n",
    "    results = pd.DataFrame({'ROC_AUC':roc_auc, 'Recall':rec, 'Precision':prec, 'F1-Score':f1, 'Accuracy':acc}, index=[1])\n",
    "    #mean = results.mean(); mean.name = 'Mean'\n",
    "    return results, fig, matrix"
   ]
  },
  {
   "cell_type": "markdown",
   "metadata": {},
   "source": [
    "<a id='ada'></a>\n",
    "# 3. Testing AdaBoost\n",
    "\n",
    "[Return](#toc)"
   ]
  },
  {
   "cell_type": "code",
   "execution_count": 4,
   "metadata": {},
   "outputs": [
    {
     "name": "stdout",
     "output_type": "stream",
     "text": [
      "\n",
      "Confusion matrix:\n",
      "\n",
      "Predicted      0      1\n",
      "Actual                 \n",
      "0          59189  25617\n",
      "1           2373   5075\n",
      "\n",
      "Results\n",
      "\n",
      "    ROC_AUC    Recall  Precision  F1-Score  Accuracy\n",
      "1  0.754154  0.681391   0.165353  0.266125  0.696599\n"
     ]
    },
    {
     "data": {
      "image/png": "[encoded data removed]",
      "text/plain": [
       "<Figure size 576x432 with 1 Axes>"
      ]
     },
     "metadata": {
      "needs_background": "light"
     },
     "output_type": "display_data"
    }
   ],
   "source": [
    "# Testing AdaBoost on the test set\n",
    "clr = AdaBoostClassifier(DecisionTreeClassifier(max_depth=1), learning_rate = 1, n_estimators=300, random_state=777)\n",
    "\n",
    "metrics, chart, matrix = classify_test_set(clr, np.array(train_set), np.array(train_labels), np.array(test_set), np.array(test_labels), 'under')\n",
    "\n",
    "# Saving results\n",
    "#metrics.to_csv(path+'/results/ADA_on_Test.csv')\n",
    "\n",
    "print('\\nConfusion matrix:\\n'); print(matrix)\n",
    "print('\\nResults\\n'); print(metrics)"
   ]
  },
  {
   "cell_type": "markdown",
   "metadata": {},
   "source": [
    "<a id='summary'></a>\n",
    "# 4. Summary of Test Set Results\n",
    "\n",
    "[Return](#toc)"
   ]
  },
  {
   "cell_type": "code",
   "execution_count": 7,
   "metadata": {},
   "outputs": [
    {
     "name": "stdout",
     "output_type": "stream",
     "text": [
      "Summary of AdaBoost Results from Test Set and Cross-Validation:\n"
     ]
    },
    {
     "data": {
      "text/html": [
       "<div>\n",
       "<style scoped>\n",
       "    .dataframe tbody tr th:only-of-type {\n",
       "        vertical-align: middle;\n",
       "    }\n",
       "\n",
       "    .dataframe tbody tr th {\n",
       "        vertical-align: top;\n",
       "    }\n",
       "\n",
       "    .dataframe thead th {\n",
       "        text-align: right;\n",
       "    }\n",
       "</style>\n",
       "<table border=\"1\" class=\"dataframe\">\n",
       "  <thead>\n",
       "    <tr style=\"text-align: right;\">\n",
       "      <th></th>\n",
       "      <th>Testing_Source</th>\n",
       "      <th>Ratio_Attributes</th>\n",
       "      <th>ROC_AUC</th>\n",
       "      <th>Recall</th>\n",
       "      <th>Precision</th>\n",
       "      <th>F1-Score</th>\n",
       "      <th>Accuracy</th>\n",
       "    </tr>\n",
       "  </thead>\n",
       "  <tbody>\n",
       "    <tr>\n",
       "      <th>AdaBoost</th>\n",
       "      <td>Test_Set</td>\n",
       "      <td>Yes</td>\n",
       "      <td>0.754154</td>\n",
       "      <td>0.681391</td>\n",
       "      <td>0.165353</td>\n",
       "      <td>0.266125</td>\n",
       "      <td>0.696599</td>\n",
       "    </tr>\n",
       "    <tr>\n",
       "      <th>AdaBoost</th>\n",
       "      <td>Cross_Validation</td>\n",
       "      <td>Yes</td>\n",
       "      <td>0.756327</td>\n",
       "      <td>0.683641</td>\n",
       "      <td>0.166426</td>\n",
       "      <td>0.267679</td>\n",
       "      <td>0.698035</td>\n",
       "    </tr>\n",
       "  </tbody>\n",
       "</table>\n",
       "</div>"
      ],
      "text/plain": [
       "            Testing_Source Ratio_Attributes   ROC_AUC    Recall  Precision  \\\n",
       "AdaBoost          Test_Set              Yes  0.754154  0.681391   0.165353   \n",
       "AdaBoost  Cross_Validation              Yes  0.756327  0.683641   0.166426   \n",
       "\n",
       "          F1-Score  Accuracy  \n",
       "AdaBoost  0.266125  0.696599  \n",
       "AdaBoost  0.267679  0.698035  "
      ]
     },
     "execution_count": 7,
     "metadata": {},
     "output_type": "execute_result"
    }
   ],
   "source": [
    "# Creating a summary dataframe from saved test results\n",
    "test_summary = pd.read_csv(path + '/results/ADA_on_Test.csv', index_col=0)\n",
    "test_summary.index=['AdaBoost']\n",
    "test_summary.insert(loc=0, column='Ratio_Attributes', value='Yes')\n",
    "test_summary.insert(loc=0, column='Testing_Source', value='Test_Set')\n",
    "\n",
    "s = pd.read_csv(path+'/results/ADA_extras.csv', index_col=0).loc[['Mean'],]\n",
    "s.index=['AdaBoost']\n",
    "s.insert(loc=0, column='Ratio_Attributes', value='Yes')\n",
    "s.insert(loc=0, column='Testing_Source', value='Cross_Validation')\n",
    "test_summary = test_summary.append(s)\n",
    "\n",
    "# Saving test summary\n",
    "#test_summary.to_csv(path+'/results/ADA_test_summary.csv')\n",
    "\n",
    "print('Summary of AdaBoost Results from Test Set and Cross-Validation:')\n",
    "test_summary"
   ]
  },
  {
   "cell_type": "markdown",
   "metadata": {},
   "source": [
    "The results from the test set are in line with the cross validation results. "
   ]
  }
 ],
 "metadata": {
  "kernelspec": {
   "display_name": "Python 3",
   "language": "python",
   "name": "python3"
  },
  "language_info": {
   "codemirror_mode": {
    "name": "ipython",
    "version": 3
   },
   "file_extension": ".py",
   "mimetype": "text/x-python",
   "name": "python",
   "nbconvert_exporter": "python",
   "pygments_lexer": "ipython3",
   "version": "3.6.6"
  }
 },
 "nbformat": 4,
 "nbformat_minor": 2
}
