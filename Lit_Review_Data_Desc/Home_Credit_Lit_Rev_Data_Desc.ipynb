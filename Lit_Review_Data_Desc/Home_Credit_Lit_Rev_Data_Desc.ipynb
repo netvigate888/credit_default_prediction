{
 "cells": [
  {
   "cell_type": "markdown",
   "metadata": {},
   "source": [
    "# Setting up the Environment"
   ]
  },
  {
   "cell_type": "code",
   "execution_count": 1,
   "metadata": {},
   "outputs": [],
   "source": [
    "import pandas as pd\n",
    "import numpy as np\n",
    "import matplotlib.pyplot as plt\n",
    "import os\n",
    "pd.options.display.max_rows = 150\n",
    "pd.options.display.max_columns = 125"
   ]
  },
  {
   "cell_type": "markdown",
   "metadata": {},
   "source": [
    "# Read in the Data  "
   ]
  },
  {
   "cell_type": "code",
   "execution_count": 2,
   "metadata": {},
   "outputs": [],
   "source": [
    "# Read in the files\n",
    "path = 'C:/Users/Richard/Documents/A_Documents/Cap_Data/CSV/'\n",
    "app = pd.read_csv(path + 'application_train.csv')\n",
    "bureau = pd.read_csv(path + 'bureau.csv')\n",
    "bureau_balance = pd.read_csv(path + 'bureau_balance.csv')\n",
    "prev_app = pd.read_csv(path + 'previous_application.csv')\n",
    "pos_cash_bal = pd.read_csv(path + 'pos_cash_balance.csv')\n",
    "instal_pay = pd.read_csv(path + 'installments_payments.csv')\n",
    "credit_card_bal = pd.read_csv(path + 'credit_card_balance.csv')\n",
    "\n",
    "# A list of lists to hold dataframes and their names for looping below\n",
    "dfs = [[app, 'app'], [bureau, 'bureau'], [bureau_balance, 'bureau_balance'], [prev_app, 'prev_app'], [pos_cash_bal, 'pos_cash_bal'], [instal_pay, 'instal_pay'], [credit_card_bal, 'credit_card_bal']]\n"
   ]
  },
  {
   "cell_type": "markdown",
   "metadata": {},
   "source": [
    "# Check Dimensions and Attribute Types for each Dataframe"
   ]
  },
  {
   "cell_type": "code",
   "execution_count": 3,
   "metadata": {},
   "outputs": [
    {
     "data": {
      "text/html": [
       "<div>\n",
       "<style scoped>\n",
       "    .dataframe tbody tr th:only-of-type {\n",
       "        vertical-align: middle;\n",
       "    }\n",
       "\n",
       "    .dataframe tbody tr th {\n",
       "        vertical-align: top;\n",
       "    }\n",
       "\n",
       "    .dataframe thead th {\n",
       "        text-align: right;\n",
       "    }\n",
       "</style>\n",
       "<table border=\"1\" class=\"dataframe\">\n",
       "  <thead>\n",
       "    <tr style=\"text-align: right;\">\n",
       "      <th></th>\n",
       "      <th>app</th>\n",
       "      <th>bureau</th>\n",
       "      <th>bureau_balance</th>\n",
       "      <th>prev_app</th>\n",
       "      <th>pos_cash_bal</th>\n",
       "      <th>instal_pay</th>\n",
       "      <th>credit_card_bal</th>\n",
       "    </tr>\n",
       "  </thead>\n",
       "  <tbody>\n",
       "    <tr>\n",
       "      <th>Attributes</th>\n",
       "      <td>122</td>\n",
       "      <td>17</td>\n",
       "      <td>3</td>\n",
       "      <td>37</td>\n",
       "      <td>8</td>\n",
       "      <td>8</td>\n",
       "      <td>23</td>\n",
       "    </tr>\n",
       "    <tr>\n",
       "      <th>Observations</th>\n",
       "      <td>307511</td>\n",
       "      <td>1716428</td>\n",
       "      <td>27299925</td>\n",
       "      <td>1670214</td>\n",
       "      <td>10001358</td>\n",
       "      <td>13605401</td>\n",
       "      <td>3840312</td>\n",
       "    </tr>\n",
       "    <tr>\n",
       "      <th>Categorical</th>\n",
       "      <td>16</td>\n",
       "      <td>3</td>\n",
       "      <td>1</td>\n",
       "      <td>16</td>\n",
       "      <td>1</td>\n",
       "      <td>0</td>\n",
       "      <td>1</td>\n",
       "    </tr>\n",
       "    <tr>\n",
       "      <th>Numeric</th>\n",
       "      <td>106</td>\n",
       "      <td>14</td>\n",
       "      <td>2</td>\n",
       "      <td>21</td>\n",
       "      <td>7</td>\n",
       "      <td>8</td>\n",
       "      <td>22</td>\n",
       "    </tr>\n",
       "  </tbody>\n",
       "</table>\n",
       "</div>"
      ],
      "text/plain": [
       "                 app   bureau  bureau_balance  prev_app  pos_cash_bal  \\\n",
       "Attributes       122       17               3        37             8   \n",
       "Observations  307511  1716428        27299925   1670214      10001358   \n",
       "Categorical       16        3               1        16             1   \n",
       "Numeric          106       14               2        21             7   \n",
       "\n",
       "              instal_pay  credit_card_bal  \n",
       "Attributes             8               23  \n",
       "Observations    13605401          3840312  \n",
       "Categorical            0                1  \n",
       "Numeric                8               22  "
      ]
     },
     "execution_count": 3,
     "metadata": {},
     "output_type": "execute_result"
    }
   ],
   "source": [
    "# Count the columns, rows, numeric and catorgorical attributes\n",
    "\n",
    "# Set up empty dataframe to hold values\n",
    "info_table = pd.DataFrame(index = ['Attributes', 'Observations', 'Categorical', 'Numeric'])\n",
    "\n",
    "# loop through all dataframes and populate the info_table with values\n",
    "for pair in dfs:\n",
    "    rows = pair[0].shape[0]\n",
    "    cols = pair[0].shape[1]\n",
    "    cat = sum(pair[0].dtypes == 'object')\n",
    "    num = sum(pair[0].dtypes != 'object')\n",
    "    info_table[pair[1]] = [cols, rows, cat, num]\n",
    "info_table"
   ]
  },
  {
   "cell_type": "markdown",
   "metadata": {},
   "source": [
    "# Check Balance of Target Variable\n",
    "We have a very imbalanced target variable. This will need addressing when the prediction experiment is setup."
   ]
  },
  {
   "cell_type": "code",
   "execution_count": 4,
   "metadata": {},
   "outputs": [
    {
     "data": {
      "text/html": [
       "<div>\n",
       "<style scoped>\n",
       "    .dataframe tbody tr th:only-of-type {\n",
       "        vertical-align: middle;\n",
       "    }\n",
       "\n",
       "    .dataframe tbody tr th {\n",
       "        vertical-align: top;\n",
       "    }\n",
       "\n",
       "    .dataframe thead th {\n",
       "        text-align: right;\n",
       "    }\n",
       "</style>\n",
       "<table border=\"1\" class=\"dataframe\">\n",
       "  <thead>\n",
       "    <tr style=\"text-align: right;\">\n",
       "      <th></th>\n",
       "      <th>Count</th>\n",
       "      <th>Percent (%)</th>\n",
       "    </tr>\n",
       "  </thead>\n",
       "  <tbody>\n",
       "    <tr>\n",
       "      <th>0</th>\n",
       "      <td>282686</td>\n",
       "      <td>91.9</td>\n",
       "    </tr>\n",
       "    <tr>\n",
       "      <th>1</th>\n",
       "      <td>24825</td>\n",
       "      <td>8.1</td>\n",
       "    </tr>\n",
       "  </tbody>\n",
       "</table>\n",
       "</div>"
      ],
      "text/plain": [
       "    Count  Percent (%)\n",
       "0  282686         91.9\n",
       "1   24825          8.1"
      ]
     },
     "execution_count": 4,
     "metadata": {},
     "output_type": "execute_result"
    }
   ],
   "source": [
    "# Check the balance of the TARGET variable\n",
    "# print(app['TARGET'].value_counts(dropna=False))\n",
    "pd.DataFrame({'Count':app['TARGET'].value_counts(), \\\n",
    "'Percent (%)':round(app['TARGET'].value_counts()/len(app)*100,1)})"
   ]
  },
  {
   "cell_type": "code",
   "execution_count": 5,
   "metadata": {},
   "outputs": [
    {
     "data": {
      "text/plain": [
       "Text(0.5,0,'Target Variable')"
      ]
     },
     "execution_count": 5,
     "metadata": {},
     "output_type": "execute_result"
    },
    {
     "data": {
      "image/png": "[encoded data removed]",
      "text/plain": [
       "<Figure size 432x288 with 1 Axes>"
      ]
     },
     "metadata": {},
     "output_type": "display_data"
    }
   ],
   "source": [
    "# Output a histogram to screen and png file (if needed)\n",
    "app['TARGET'].plot.hist(title = 'Distribution of Target Variable')\n",
    "plt.xlabel('Target Variable')\n",
    "# plt.savefig('target_hist.png', bbox_inches='tight')\n",
    "# plt.close()"
   ]
  },
  {
   "cell_type": "markdown",
   "metadata": {},
   "source": [
    "# Examine Missing Values\n",
    "Checking the missing values counts. Removing or imputing missing values will be addressed later."
   ]
  },
  {
   "cell_type": "code",
   "execution_count": 6,
   "metadata": {},
   "outputs": [
    {
     "data": {
      "text/html": [
       "<div>\n",
       "<style scoped>\n",
       "    .dataframe tbody tr th:only-of-type {\n",
       "        vertical-align: middle;\n",
       "    }\n",
       "\n",
       "    .dataframe tbody tr th {\n",
       "        vertical-align: top;\n",
       "    }\n",
       "\n",
       "    .dataframe thead th {\n",
       "        text-align: right;\n",
       "    }\n",
       "</style>\n",
       "<table border=\"1\" class=\"dataframe\">\n",
       "  <thead>\n",
       "    <tr style=\"text-align: right;\">\n",
       "      <th></th>\n",
       "      <th>app</th>\n",
       "      <th>bureau</th>\n",
       "      <th>bureau_balance</th>\n",
       "      <th>prev_app</th>\n",
       "      <th>pos_cash_bal</th>\n",
       "      <th>instal_pay</th>\n",
       "      <th>credit_card_bal</th>\n",
       "    </tr>\n",
       "  </thead>\n",
       "  <tbody>\n",
       "    <tr>\n",
       "      <th>Attributes</th>\n",
       "      <td>122</td>\n",
       "      <td>17</td>\n",
       "      <td>3</td>\n",
       "      <td>37</td>\n",
       "      <td>8</td>\n",
       "      <td>8</td>\n",
       "      <td>23</td>\n",
       "    </tr>\n",
       "    <tr>\n",
       "      <th>Attributes with Missing Values</th>\n",
       "      <td>67</td>\n",
       "      <td>7</td>\n",
       "      <td>0</td>\n",
       "      <td>16</td>\n",
       "      <td>2</td>\n",
       "      <td>2</td>\n",
       "      <td>9</td>\n",
       "    </tr>\n",
       "    <tr>\n",
       "      <th>Attributes with Missing Values &gt; 60%</th>\n",
       "      <td>17</td>\n",
       "      <td>2</td>\n",
       "      <td>0</td>\n",
       "      <td>2</td>\n",
       "      <td>0</td>\n",
       "      <td>0</td>\n",
       "      <td>0</td>\n",
       "    </tr>\n",
       "    <tr>\n",
       "      <th>Observations</th>\n",
       "      <td>307511</td>\n",
       "      <td>1716428</td>\n",
       "      <td>27299925</td>\n",
       "      <td>1670214</td>\n",
       "      <td>10001358</td>\n",
       "      <td>13605401</td>\n",
       "      <td>3840312</td>\n",
       "    </tr>\n",
       "    <tr>\n",
       "      <th>Observations with Missing Values</th>\n",
       "      <td>298909</td>\n",
       "      <td>1676762</td>\n",
       "      <td>0</td>\n",
       "      <td>1670143</td>\n",
       "      <td>26184</td>\n",
       "      <td>2905</td>\n",
       "      <td>826036</td>\n",
       "    </tr>\n",
       "    <tr>\n",
       "      <th>Observations with Missing Values &gt; 50%</th>\n",
       "      <td>0</td>\n",
       "      <td>0</td>\n",
       "      <td>0</td>\n",
       "      <td>0</td>\n",
       "      <td>0</td>\n",
       "      <td>0</td>\n",
       "      <td>0</td>\n",
       "    </tr>\n",
       "  </tbody>\n",
       "</table>\n",
       "</div>"
      ],
      "text/plain": [
       "                                           app   bureau  bureau_balance  \\\n",
       "Attributes                                 122       17               3   \n",
       "Attributes with Missing Values              67        7               0   \n",
       "Attributes with Missing Values > 60%        17        2               0   \n",
       "Observations                            307511  1716428        27299925   \n",
       "Observations with Missing Values        298909  1676762               0   \n",
       "Observations with Missing Values > 50%       0        0               0   \n",
       "\n",
       "                                        prev_app  pos_cash_bal  instal_pay  \\\n",
       "Attributes                                    37             8           8   \n",
       "Attributes with Missing Values                16             2           2   \n",
       "Attributes with Missing Values > 60%           2             0           0   \n",
       "Observations                             1670214      10001358    13605401   \n",
       "Observations with Missing Values         1670143         26184        2905   \n",
       "Observations with Missing Values > 50%         0             0           0   \n",
       "\n",
       "                                        credit_card_bal  \n",
       "Attributes                                           23  \n",
       "Attributes with Missing Values                        9  \n",
       "Attributes with Missing Values > 60%                  0  \n",
       "Observations                                    3840312  \n",
       "Observations with Missing Values                 826036  \n",
       "Observations with Missing Values > 50%                0  "
      ]
     },
     "execution_count": 6,
     "metadata": {},
     "output_type": "execute_result"
    }
   ],
   "source": [
    "# Count attributes and observations with missing values\n",
    "\n",
    "def missing_values(df, name, p, q):\n",
    "    # Set up empty dataframe to hold results\n",
    "    results = pd.DataFrame(index = ['Attributes', 'Attributes with Missing Values', 'Attributes with Missing Values > '+str(p)+'%', \\\n",
    "                                   'Observations', 'Observations with Missing Values', 'Observations with Missing Values > '+str(q)+'%'])\n",
    "    # Number of columns\n",
    "    cols = df.shape[1]\n",
    "    # Calculate number of missing values in each column\n",
    "    no_mis_val_in_col = df.isnull().sum()  #sum() acts on cols in dataframe -> defaults to sum(axis=0)\n",
    "    #Count number of cols with missing values\n",
    "    no_col_with_mis_val = sum(no_mis_val_in_col != 0)\n",
    "    # Calculate % of missing values in each column\n",
    "    percent_mis_val_in_col = round(no_mis_val_in_col / len(df) * 100, 1) \n",
    "    # Calculate number of cols with missing values > p%\n",
    "    no_cols_greater_p = sum(percent_mis_val_in_col > p)\n",
    "    \n",
    "    # Number of rows\n",
    "    rows = len(df)\n",
    "    # Calculate number of missing values in each row\n",
    "    no_mis_val_in_row = df.isnull().sum(axis = 1)\n",
    "    # Count number of rows with missing values\n",
    "    no_rows_with_mis_val = np.count_nonzero(no_mis_val_in_row)\n",
    "    # Calculate % of missing values in each row\n",
    "    percent_mis_val_in_row = round(no_mis_val_in_row / cols * 100, 1)\n",
    "    # Calculate number of rows with missing values > q%\n",
    "    no_rows_greater_q = np.count_nonzero(percent_mis_val_in_row > q)\n",
    "    \n",
    "    results[name] = [cols, no_col_with_mis_val, no_cols_greater_p, rows, no_rows_with_mis_val, no_rows_greater_q]\n",
    "    return results\n",
    "\n",
    "hold = pd.DataFrame()\n",
    "i = 1\n",
    "p = 60\n",
    "q = 50\n",
    "for pair in dfs:\n",
    "    if i == 1:\n",
    "        hold = missing_values(pair[0], pair[1], p, q)\n",
    "    else: \n",
    "        hold = pd.merge(hold, missing_values(pair[0], pair[1], p, q), left_index=True, right_index=True)\n",
    "    i += 1\n",
    "hold"
   ]
  },
  {
   "cell_type": "code",
   "execution_count": null,
   "metadata": {},
   "outputs": [],
   "source": []
  }
 ],
 "metadata": {
  "kernelspec": {
   "display_name": "Python 3",
   "language": "python",
   "name": "python3"
  },
  "language_info": {
   "codemirror_mode": {
    "name": "ipython",
    "version": 3
   },
   "file_extension": ".py",
   "mimetype": "text/x-python",
   "name": "python",
   "nbconvert_exporter": "python",
   "pygments_lexer": "ipython3",
   "version": "3.6.5"
  }
 },
 "nbformat": 4,
 "nbformat_minor": 2
}
